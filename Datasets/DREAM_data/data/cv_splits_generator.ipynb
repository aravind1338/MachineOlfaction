{
 "cells": [
  {
   "cell_type": "code",
   "execution_count": 1,
   "metadata": {
    "collapsed": false
   },
   "outputs": [],
   "source": [
    "import sys\n",
    "sys.path.append('/Users/rgerkin/Dropbox/science/olfaction-prediction') # Change to your path. \n",
    "\n",
    "from sklearn.cross_validation import ShuffleSplit\n",
    "import csv\n",
    "import pandas as pd\n",
    "\n",
    "from opc_python.utils.loading import get_CIDs"
   ]
  },
  {
   "cell_type": "markdown",
   "metadata": {},
   "source": [
    "###First, use only training set CIDs"
   ]
  },
  {
   "cell_type": "code",
   "execution_count": 2,
   "metadata": {
    "collapsed": false
   },
   "outputs": [
    {
     "name": "stdout",
     "output_type": "stream",
     "text": [
      "There are 338 molecules in the training set from the challenge.\n"
     ]
    }
   ],
   "source": [
    "training_CIDs = get_CIDs('training') # The list of CIDs for the training molecules from the challenge.  \n",
    "print(\"There are %d molecules in the training set from the challenge.\" % len(training_CIDs))"
   ]
  },
  {
   "cell_type": "code",
   "execution_count": 3,
   "metadata": {
    "collapsed": false
   },
   "outputs": [
    {
     "name": "stdout",
     "output_type": "stream",
     "text": [
      "With a test size of 0.20, there will be 270 items in each training split and 68 items in each test split\n"
     ]
    }
   ],
   "source": [
    "test_size = 0.2\n",
    "splits = ShuffleSplit(len(training_CIDs),n_iter=100,test_size=test_size,random_state=0)\n",
    "# random_state = 0 means this will produce the same splits each time it is run.  \n",
    "train_n = round(len(training_CIDs) * (1-test_size))\n",
    "test_n = round(len(training_CIDs) * (test_size))\n",
    "print((\"With a test size of %.2f, there will be %d items in each training split \"\n",
    "       \"and %d items in each test split\" % (test_size,train_n,test_n)))"
   ]
  },
  {
   "cell_type": "code",
   "execution_count": 4,
   "metadata": {
    "collapsed": false
   },
   "outputs": [
    {
     "data": {
      "text/plain": [
       "(<class 'pandas.core.panel.Panel'>\n",
       " Dimensions: 100 (items) x 270 (major_axis) x 2 (minor_axis)\n",
       " Items axis: 0 to 99\n",
       " Major_axis axis: 0 to 269\n",
       " Minor_axis axis: index to CID, <class 'pandas.core.panel.Panel'>\n",
       " Dimensions: 100 (items) x 68 (major_axis) x 2 (minor_axis)\n",
       " Items axis: 0 to 99\n",
       " Major_axis axis: 0 to 67\n",
       " Minor_axis axis: index to CID)"
      ]
     },
     "execution_count": 4,
     "metadata": {},
     "output_type": "execute_result"
    }
   ],
   "source": [
    "train_sets = pd.Panel(None, items=list(range(100)),\n",
    "                          major_axis=list(range(train_n)),minor_axis=['index','CID'])\n",
    "test_sets = pd.Panel(None, items=list(range(100)),\n",
    "                         major_axis=list(range(test_n)),minor_axis=['index','CID'])\n",
    "for j,(train,test) in enumerate(splits):\n",
    "    train_df = pd.DataFrame(None,index=[list(range(len(train)))],columns=['index','CID'])\n",
    "    for i,x in enumerate(train):\n",
    "        train_df.iloc[i] = x,training_CIDs[x]\n",
    "    train_sets[j] = train_df\n",
    "    \n",
    "    test_df = pd.DataFrame(None,index=[list(range(len(test)))],columns=['index','CID'])\n",
    "    for i,x in enumerate(test):\n",
    "        test_df.iloc[i] = x,training_CIDs[x]\n",
    "    test_sets[j] = test_df\n",
    "\n",
    "train_sets,test_sets"
   ]
  },
  {
   "cell_type": "code",
   "execution_count": 5,
   "metadata": {
    "collapsed": false
   },
   "outputs": [
    {
     "data": {
      "text/html": [
       "<div>\n",
       "<table border=\"1\" class=\"dataframe\">\n",
       "  <thead>\n",
       "    <tr style=\"text-align: right;\">\n",
       "      <th></th>\n",
       "      <th>index</th>\n",
       "      <th>CID</th>\n",
       "    </tr>\n",
       "  </thead>\n",
       "  <tbody>\n",
       "    <tr>\n",
       "      <th>0</th>\n",
       "      <td>52</td>\n",
       "      <td>6213</td>\n",
       "    </tr>\n",
       "    <tr>\n",
       "      <th>1</th>\n",
       "      <td>289</td>\n",
       "      <td>104721</td>\n",
       "    </tr>\n",
       "    <tr>\n",
       "      <th>2</th>\n",
       "      <td>15</td>\n",
       "      <td>460</td>\n",
       "    </tr>\n",
       "    <tr>\n",
       "      <th>3</th>\n",
       "      <td>336</td>\n",
       "      <td>6429333</td>\n",
       "    </tr>\n",
       "    <tr>\n",
       "      <th>4</th>\n",
       "      <td>121</td>\n",
       "      <td>8077</td>\n",
       "    </tr>\n",
       "  </tbody>\n",
       "</table>\n",
       "</div>"
      ],
      "text/plain": [
       "   index      CID\n",
       "0     52     6213\n",
       "1    289   104721\n",
       "2     15      460\n",
       "3    336  6429333\n",
       "4    121     8077"
      ]
     },
     "execution_count": 5,
     "metadata": {},
     "output_type": "execute_result"
    }
   ],
   "source": [
    "# For example, the first five training CIDs from the third split, \n",
    "# showing the CID and its corresponding index in the ordered list of CIDs:\n",
    "train_sets[2].head()"
   ]
  },
  {
   "cell_type": "code",
   "execution_count": 8,
   "metadata": {
    "collapsed": false
   },
   "outputs": [],
   "source": [
    "# This creates two files.  \n",
    "# One contains the training data indices and the other the test indices.  \n",
    "# Each have one hundred rows, one for each split.  \n",
    "train_sets.minor_xs('CID').transpose().to_csv('cv_splits_train.csv',header=False,index=False)\n",
    "test_sets.minor_xs('CID').transpose().to_csv('cv_splits_test.csv',header=False,index=False)"
   ]
  },
  {
   "cell_type": "markdown",
   "metadata": {},
   "source": [
    "###Second, use training set CIDs and leaderboard set CIDs."
   ]
  },
  {
   "cell_type": "code",
   "execution_count": 9,
   "metadata": {
    "collapsed": true
   },
   "outputs": [],
   "source": [
    "training_leaderboard_CIDs = sorted(get_CIDs('training')+get_CIDs('leaderboard'))"
   ]
  },
  {
   "cell_type": "code",
   "execution_count": 14,
   "metadata": {
    "collapsed": false
   },
   "outputs": [
    {
     "name": "stdout",
     "output_type": "stream",
     "text": [
      "With a test size of 0.17, there will be 338 items in each training split and 69 items in each test split\n"
     ]
    }
   ],
   "source": [
    "test_size = 0.17\n",
    "splits = ShuffleSplit(len(training_leaderboard_CIDs),n_iter=100,test_size=test_size,random_state=0)\n",
    "# random_state = 0 means this will produce the same splits each time it is run.  \n",
    "train_n = round(len(training_leaderboard_CIDs) * (1-test_size))\n",
    "test_n = round(len(training_leaderboard_CIDs) * (test_size))\n",
    "print((\"With a test size of %.2f, there will be %d items in each training split \"\n",
    "       \"and %d items in each test split\" % (test_size,train_n,test_n)))"
   ]
  },
  {
   "cell_type": "code",
   "execution_count": 16,
   "metadata": {
    "collapsed": false
   },
   "outputs": [
    {
     "data": {
      "text/plain": [
       "(<class 'pandas.core.panel.Panel'>\n",
       " Dimensions: 100 (items) x 338 (major_axis) x 2 (minor_axis)\n",
       " Items axis: 0 to 99\n",
       " Major_axis axis: 0 to 337\n",
       " Minor_axis axis: index to CID, <class 'pandas.core.panel.Panel'>\n",
       " Dimensions: 100 (items) x 69 (major_axis) x 2 (minor_axis)\n",
       " Items axis: 0 to 99\n",
       " Major_axis axis: 0 to 68\n",
       " Minor_axis axis: index to CID)"
      ]
     },
     "execution_count": 16,
     "metadata": {},
     "output_type": "execute_result"
    }
   ],
   "source": [
    "train_sets = pd.Panel(None, items=list(range(100)),\n",
    "                          major_axis=list(range(train_n)),minor_axis=['index','CID'])\n",
    "test_sets = pd.Panel(None, items=list(range(100)),\n",
    "                         major_axis=list(range(test_n)),minor_axis=['index','CID'])\n",
    "for j,(train,test) in enumerate(splits):\n",
    "    train_df = pd.DataFrame(None,index=[list(range(len(train)))],columns=['index','CID'])\n",
    "    for i,x in enumerate(train):\n",
    "        train_df.iloc[i] = x,training_leaderboard_CIDs[x]\n",
    "    train_sets[j] = train_df\n",
    "    \n",
    "    test_df = pd.DataFrame(None,index=[list(range(len(test)))],columns=['index','CID'])\n",
    "    for i,x in enumerate(test):\n",
    "        test_df.iloc[i] = x,training_leaderboard_CIDs[x]\n",
    "    test_sets[j] = test_df\n",
    "\n",
    "train_sets,test_sets"
   ]
  },
  {
   "cell_type": "code",
   "execution_count": 17,
   "metadata": {
    "collapsed": false
   },
   "outputs": [
    {
     "data": {
      "text/html": [
       "<div>\n",
       "<table border=\"1\" class=\"dataframe\">\n",
       "  <thead>\n",
       "    <tr style=\"text-align: right;\">\n",
       "      <th></th>\n",
       "      <th>index</th>\n",
       "      <th>CID</th>\n",
       "    </tr>\n",
       "  </thead>\n",
       "  <tbody>\n",
       "    <tr>\n",
       "      <th>0</th>\n",
       "      <td>235</td>\n",
       "      <td>14286</td>\n",
       "    </tr>\n",
       "    <tr>\n",
       "      <th>1</th>\n",
       "      <td>324</td>\n",
       "      <td>62332</td>\n",
       "    </tr>\n",
       "    <tr>\n",
       "      <th>2</th>\n",
       "      <td>243</td>\n",
       "      <td>15510</td>\n",
       "    </tr>\n",
       "    <tr>\n",
       "      <th>3</th>\n",
       "      <td>345</td>\n",
       "      <td>101604</td>\n",
       "    </tr>\n",
       "    <tr>\n",
       "      <th>4</th>\n",
       "      <td>281</td>\n",
       "      <td>31265</td>\n",
       "    </tr>\n",
       "  </tbody>\n",
       "</table>\n",
       "</div>"
      ],
      "text/plain": [
       "   index     CID\n",
       "0    235   14286\n",
       "1    324   62332\n",
       "2    243   15510\n",
       "3    345  101604\n",
       "4    281   31265"
      ]
     },
     "execution_count": 17,
     "metadata": {},
     "output_type": "execute_result"
    }
   ],
   "source": [
    "# For example, the first five training CIDs from the third split, \n",
    "# showing the CID and its corresponding index in the ordered list of CIDs:\n",
    "train_sets[2].head()"
   ]
  },
  {
   "cell_type": "code",
   "execution_count": 18,
   "metadata": {
    "collapsed": true
   },
   "outputs": [],
   "source": [
    "# This creates two files.  \n",
    "# One contains the training data indices and the other the test indices.  \n",
    "# Each have one hundred rows, one for each split.  \n",
    "train_sets.minor_xs('CID').transpose().to_csv('cv_splits_train_big.csv',header=False,index=False)\n",
    "test_sets.minor_xs('CID').transpose().to_csv('cv_splits_test_big.csv',header=False,index=False)"
   ]
  }
 ],
 "metadata": {
  "kernelspec": {
   "display_name": "Python 3",
   "language": "python",
   "name": "python3"
  },
  "language_info": {
   "codemirror_mode": {
    "name": "ipython",
    "version": 3
   },
   "file_extension": ".py",
   "mimetype": "text/x-python",
   "name": "python",
   "nbconvert_exporter": "python",
   "pygments_lexer": "ipython3",
   "version": "3.4.1"
  }
 },
 "nbformat": 4,
 "nbformat_minor": 0
}
