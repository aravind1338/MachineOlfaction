{
 "cells": [
  {
   "cell_type": "markdown",
   "metadata": {},
   "source": [
    "## Figure S7A"
   ]
  },
  {
   "cell_type": "code",
   "execution_count": 1,
   "metadata": {
    "collapsed": false
   },
   "outputs": [],
   "source": [
    "# Preliminaries to work with the data.   \n",
    "%matplotlib inline\n",
    "%run __init__.py\n",
    "from utils import loading, scoring, prog\n",
    "from gerkin import dream,params,fit2\n",
    "import numpy as np\n",
    "import matplotlib.pyplot as plt\n",
    "import pandas as pd\n",
    "\n",
    "import matplotlib as mpl\n",
    "mpl.rcParams.update({'font.size':14})"
   ]
  },
  {
   "cell_type": "code",
   "execution_count": 2,
   "metadata": {
    "collapsed": false
   },
   "outputs": [
    {
     "name": "stdout",
     "output_type": "stream",
     "text": [
      "Dragon has 4869 features for 476 molecules.\n",
      "Morgan has 2437 features for 476 molecules.\n",
      "There are now 7306 total features.\n"
     ]
    }
   ],
   "source": [
    "# Load the data\n",
    "descriptors = loading.get_descriptors(format='True')\n",
    "all_CIDs = loading.get_CIDs(['training','leaderboard','testset'])\n",
    "testset_CIDs = loading.get_CIDs(['testset'])\n",
    "all_CID_dilutions = loading.get_CID_dilutions(['training','leaderboard','testset'])\n",
    "#mdx_full = dream.get_molecular_data(['dragon','episuite','morgan','nspdk','gramian'],all_CIDs)\n",
    "features = loading.get_molecular_data(['dragon','morgan'],all_CIDs)"
   ]
  },
  {
   "cell_type": "code",
   "execution_count": 3,
   "metadata": {
    "collapsed": false
   },
   "outputs": [
    {
     "name": "stdout",
     "output_type": "stream",
     "text": [
      "The X matrix now has shape (814x5519) molecules by non-NaN good molecular descriptors\n"
     ]
    }
   ],
   "source": [
    "# Create the feature and descriptor arrays \n",
    "X,_,_,_,_,_ = dream.make_X(features,all_CID_dilutions)\n",
    "X_train = X.drop(testset_CIDs)\n",
    "X_test = X.drop(X_train.index)"
   ]
  },
  {
   "cell_type": "code",
   "execution_count": null,
   "metadata": {
    "collapsed": false
   },
   "outputs": [],
   "source": [
    "# Load and split perceptual data\n",
    "Y_train = loading.load_perceptual_data(['training','leaderboard'])\n",
    "Y_train = Y_train.groupby(level=['Descriptor','CID','Dilution']).mean() # Average over replicates\n",
    "Y_test = loading.load_perceptual_data('testset')"
   ]
  },
  {
   "cell_type": "markdown",
   "metadata": {},
   "source": [
    "### Load or compute the random forest model"
   ]
  },
  {
   "cell_type": "code",
   "execution_count": null,
   "metadata": {
    "collapsed": false
   },
   "outputs": [
    {
     "name": "stdout",
     "output_type": "stream",
     "text": [
      "0) Intensity\n",
      "4.00% [--                                                ]"
     ]
    }
   ],
   "source": [
    "from sklearn.model_selection import ShuffleSplit\n",
    "from sklearn.ensemble import RandomForestRegressor\n",
    "\n",
    "n_subjects = 49\n",
    "n_splits = 25\n",
    "trans_params = params.get_trans_params(Y_train, descriptors, plot=False)\n",
    "use_et, max_features, max_depth, min_samples_leaf, trans_weight, regularize, use_mask = params.get_other_params()\n",
    "ss = ShuffleSplit(n_splits=n_splits,test_size=(24./49),random_state=0)\n",
    "rs_in = pd.DataFrame(index=range(n_splits),columns=descriptors) # Same subject, different molecules correlations.  \n",
    "rs_out = pd.DataFrame(index=range(n_splits),columns=descriptors) # Different subject, different molecule correlations.\n",
    "for d,descriptor in enumerate(descriptors):\n",
    "    print(\"%d) %s\" % (d,descriptor))\n",
    "    rfc = RandomForestRegressor(n_estimators=30, max_features='auto', random_state=0)\n",
    "    for i,(train,test) in enumerate(ss.split(range(n_subjects))):\n",
    "        prog(i,n_splits)\n",
    "        train+=1; test+=1; # Subjects are 1-indexed.  \n",
    "        rfc.fit(X_train,Y_train['Subject'][train].mean(axis=1).loc[descriptor])\n",
    "        Y_test_in = Y_test['Subject'][train].mean(axis=1).loc[descriptor]\n",
    "        Y_test_out = Y_test['Subject'][test].mean(axis=1).loc[descriptor]\n",
    "        Y_predicted = rfc.predict(X_test)\n",
    "        rs_in.loc[i,descriptor] = np.corrcoef(Y_predicted,Y_test_in)[0,1]\n",
    "        rs_out.loc[i,descriptor] = np.corrcoef(Y_predicted,Y_test_out)[0,1]"
   ]
  },
  {
   "cell_type": "code",
   "execution_count": null,
   "metadata": {
    "collapsed": false
   },
   "outputs": [],
   "source": [
    "# 25 x 30\n",
    "fig,axes = plt.subplots(2,2,figsize=(10,10))\n",
    "ax = axes.flat\n",
    "ax[0].errorbar(range(len(descriptors)),rs_in.mean(),yerr=rs_in.sem(),\n",
    "             color='k',fmt='o-',label='Same %d subjects' % 25)\n",
    "ax[0].errorbar(range(len(descriptors)),rs_out.mean(),yerr=rs_out.sem(),\n",
    "             color='r',fmt='o-',label='Different %d subjects' % 24)\n",
    "order = rs_in.mean().sort_values()[::-1].index\n",
    "ax[1].errorbar(range(len(descriptors)),rs_in.mean()[order],yerr=rs_in.sem()[order],\n",
    "             color='k',fmt='o-',label='Same %d subjects' % 25)\n",
    "ax[1].errorbar(range(len(descriptors)),rs_out.mean()[order],yerr=rs_out.sem()[order],\n",
    "             color='r',fmt='o-',label='Different %d subjects' % 24)\n",
    "for i in [0,1]:\n",
    "    ax[i].set_xlim(-0.5,len(descriptors)-0.5)\n",
    "    ax[i].set_ylim(0,0.82)\n",
    "    ax[i].set_xticklabels(order,rotation=90);\n",
    "    ax[i].set_ylabel('Correlation')\n",
    "    ax[i].legend(fontsize=10)\n",
    "ax[2].errorbar(rs_in.mean(),rs_out.mean(),\n",
    "             xerr=rs_in.sem(),yerr=rs_out.sem(),\n",
    "             color='k',fmt='o')\n",
    "ax[2].plot([0,1],[0,1],'--')\n",
    "ax[2].set_xlim(0,0.82)\n",
    "ax[2].set_xlabel('Correlation\\n(Same 25 subjects)')\n",
    "ax[2].set_ylabel('Correlation\\n(Different 25 subjects)')\n",
    "order = (rs_in-rs_out).mean().sort_values()[::-1].index\n",
    "ax[3].errorbar(range(len(descriptors)),(rs_in-rs_out).mean()[order],\n",
    "               yerr=(rs_in-rs_out).sem()[order],\n",
    "               color='k',fmt='o-')\n",
    "ax[3].plot([0,len(descriptors)],[0,0],'--')\n",
    "ax[3].set_xlim(-0.5,len(descriptors)-0.5)\n",
    "ax[3].set_ylim(-0.05,0.1)\n",
    "ax[3].set_xticklabels(order,rotation=90);\n",
    "ax[3].set_ylabel('Correlation Difference')\n",
    "\n",
    "plt.tight_layout()\n",
    "plt.savefig('../../figures/subject-splits.eps',format='eps')"
   ]
  },
  {
   "cell_type": "code",
   "execution_count": null,
   "metadata": {
    "collapsed": false
   },
   "outputs": [],
   "source": [
    "print('%.3f +/- %.3f, with maximum value %.3f' % \\\n",
    "      ((rs_in-rs_out).mean().mean(),(rs_in-rs_out).mean().std(),(rs_in-rs_out).mean().max()))\n",
    "from scipy.stats import ttest_rel,chi2\n",
    "# No FDR correction\n",
    "chi2_ = 0\n",
    "for d,descriptor in enumerate(descriptors):\n",
    "    p = ttest_rel(rs_in[descriptor],rs_out[descriptor])[1]\n",
    "    chi2_ += -2*np.log(p)\n",
    "    print('%s%.3f' % ((descriptor+':').ljust(15),p))\n",
    "p_pooled = 1-chi2.cdf(chi2_,2*len(descriptors))\n",
    "print(\"Pooled p-value = %.3g\" % p_pooled)"
   ]
  }
 ],
 "metadata": {
  "kernelspec": {
   "display_name": "Python 3",
   "language": "python",
   "name": "python3"
  },
  "language_info": {
   "codemirror_mode": {
    "name": "ipython",
    "version": 3
   },
   "file_extension": ".py",
   "mimetype": "text/x-python",
   "name": "python",
   "nbconvert_exporter": "python",
   "pygments_lexer": "ipython3",
   "version": "3.5.2"
  }
 },
 "nbformat": 4,
 "nbformat_minor": 0
}
