{
 "cells": [
  {
   "cell_type": "markdown",
   "metadata": {},
   "source": [
    "#### this script calculates morgan similarity features\n",
    "#### test compounds are compared to themselves and a number of other known odorants "
   ]
  },
  {
   "cell_type": "code",
   "execution_count": 1,
   "metadata": {
    "collapsed": false
   },
   "outputs": [],
   "source": [
    "import pandas as pd\n",
    "import numpy as np\n",
    "from rdkit import Chem\n",
    "from rdkit.Chem import AllChem\n",
    "from rdkit import DataStructs\n",
    "from rdkit.ML.Descriptors import MoleculeDescriptors\n"
   ]
  },
  {
   "cell_type": "code",
   "execution_count": 2,
   "metadata": {
    "collapsed": false
   },
   "outputs": [],
   "source": [
    "# get train, leaderboard and test CIDs\n",
    "with open('CIDs.txt') as f: \n",
    "    content = f.readlines()\n",
    "CIDs = list(content)  \n",
    "CIDs = [int(x) for x in CIDs]\n",
    "\n",
    "# get smiles\n",
    "smiles = pd.read_csv('all_smiles.csv', index_col=0) # load smiles if the file already exists\n"
   ]
  },
  {
   "cell_type": "code",
   "execution_count": 3,
   "metadata": {
    "collapsed": false
   },
   "outputs": [],
   "source": [
    "# function to calculate the similarity features from Morgan fingerprints\n",
    "# creates the fingerprints and calculates similarities \n",
    "# Inputs: \n",
    "#       list of ids\n",
    "#       Morgan radius\n",
    "# Returns:\n",
    "#       feature vector with size of len(cids) x number of features\n",
    "\n",
    "def calulate_similarities(ids, radius):\n",
    "    ms = [Chem.MolFromSmiles(x) for x in smiles.smiles]\n",
    "    fps = [AllChem.GetMorganFingerprint(x,radius) for x in ms]\n",
    "    all_features =[]\n",
    "    for idx, cid in enumerate(ids):\n",
    "        ms_sample = Chem.MolFromSmiles(smiles.loc[cid].smiles)\n",
    "        fp_sample = AllChem.GetMorganFingerprint(ms_sample,radius)\n",
    "        features = [cid]\n",
    "        for fp in fps:\n",
    "            features.append(DataStructs.DiceSimilarity(fp,fp_sample))\n",
    "        all_features.append(features)\n",
    "    all_features = pd.DataFrame(all_features)\n",
    "    all_features = all_features.set_index(0)\n",
    "    all_features.columns = smiles.index\n",
    "    return all_features    \n"
   ]
  },
  {
   "cell_type": "code",
   "execution_count": 4,
   "metadata": {
    "collapsed": false
   },
   "outputs": [
    {
     "name": "stdout",
     "output_type": "stream",
     "text": [
      "(476, 2437)\n"
     ]
    }
   ],
   "source": [
    "# get the similarity features\n",
    "features_sim = calulate_similarities(CIDs, 5)\n",
    "\n",
    "print(features_sim.shape)"
   ]
  },
  {
   "cell_type": "code",
   "execution_count": 5,
   "metadata": {
    "collapsed": false
   },
   "outputs": [
    {
     "data": {
      "text/html": [
       "<div style=\"max-height:1000px;max-width:1500px;overflow:auto;\">\n",
       "<table border=\"1\" class=\"dataframe\">\n",
       "  <thead>\n",
       "    <tr style=\"text-align: right;\">\n",
       "      <th>CID</th>\n",
       "      <th>58</th>\n",
       "      <th>102</th>\n",
       "      <th>107</th>\n",
       "      <th>125</th>\n",
       "      <th>126</th>\n",
       "      <th>174</th>\n",
       "      <th>176</th>\n",
       "      <th>177</th>\n",
       "      <th>178</th>\n",
       "      <th>179</th>\n",
       "      <th>...</th>\n",
       "      <th>91305518</th>\n",
       "      <th>91411526</th>\n",
       "      <th>91541756</th>\n",
       "      <th>91552833</th>\n",
       "      <th>91563027</th>\n",
       "      <th>91595028</th>\n",
       "      <th>91614181</th>\n",
       "      <th>91617014</th>\n",
       "      <th>91617930</th>\n",
       "      <th>91618238</th>\n",
       "    </tr>\n",
       "    <tr>\n",
       "      <th>0</th>\n",
       "      <th></th>\n",
       "      <th></th>\n",
       "      <th></th>\n",
       "      <th></th>\n",
       "      <th></th>\n",
       "      <th></th>\n",
       "      <th></th>\n",
       "      <th></th>\n",
       "      <th></th>\n",
       "      <th></th>\n",
       "      <th></th>\n",
       "      <th></th>\n",
       "      <th></th>\n",
       "      <th></th>\n",
       "      <th></th>\n",
       "      <th></th>\n",
       "      <th></th>\n",
       "      <th></th>\n",
       "      <th></th>\n",
       "      <th></th>\n",
       "      <th></th>\n",
       "    </tr>\n",
       "  </thead>\n",
       "  <tbody>\n",
       "    <tr>\n",
       "      <th>126</th>\n",
       "      <td> 0.086957</td>\n",
       "      <td> 0.379310</td>\n",
       "      <td> 0.268657</td>\n",
       "      <td> 0.586207</td>\n",
       "      <td> 1.000000</td>\n",
       "      <td> 0.052632</td>\n",
       "      <td> 0.108108</td>\n",
       "      <td> 0.171429</td>\n",
       "      <td> 0.054054</td>\n",
       "      <td> 0.095238</td>\n",
       "      <td>...</td>\n",
       "      <td> 0.003578</td>\n",
       "      <td> 0.018182</td>\n",
       "      <td> 0.118421</td>\n",
       "      <td> 0.017192</td>\n",
       "      <td> 0.145251</td>\n",
       "      <td> 0.013652</td>\n",
       "      <td> 0.056206</td>\n",
       "      <td> 0.047945</td>\n",
       "      <td> 0.011730</td>\n",
       "      <td> 0.105263</td>\n",
       "    </tr>\n",
       "    <tr>\n",
       "      <th>176</th>\n",
       "      <td> 0.480000</td>\n",
       "      <td> 0.054054</td>\n",
       "      <td> 0.217391</td>\n",
       "      <td> 0.054054</td>\n",
       "      <td> 0.108108</td>\n",
       "      <td> 0.117647</td>\n",
       "      <td> 1.000000</td>\n",
       "      <td> 0.285714</td>\n",
       "      <td> 0.625000</td>\n",
       "      <td> 0.571429</td>\n",
       "      <td>...</td>\n",
       "      <td> 0.011152</td>\n",
       "      <td> 0.014320</td>\n",
       "      <td> 0.091603</td>\n",
       "      <td> 0.030488</td>\n",
       "      <td> 0.037975</td>\n",
       "      <td> 0.009695</td>\n",
       "      <td> 0.024631</td>\n",
       "      <td> 0.036900</td>\n",
       "      <td> 0.015129</td>\n",
       "      <td> 0.064516</td>\n",
       "    </tr>\n",
       "    <tr>\n",
       "      <th>177</th>\n",
       "      <td> 0.173913</td>\n",
       "      <td> 0.000000</td>\n",
       "      <td> 0.045455</td>\n",
       "      <td> 0.000000</td>\n",
       "      <td> 0.171429</td>\n",
       "      <td> 0.000000</td>\n",
       "      <td> 0.285714</td>\n",
       "      <td> 1.000000</td>\n",
       "      <td> 0.285714</td>\n",
       "      <td> 0.210526</td>\n",
       "      <td>...</td>\n",
       "      <td> 0.003731</td>\n",
       "      <td> 0.009592</td>\n",
       "      <td> 0.031008</td>\n",
       "      <td> 0.018405</td>\n",
       "      <td> 0.025641</td>\n",
       "      <td> 0.002774</td>\n",
       "      <td> 0.009901</td>\n",
       "      <td> 0.014870</td>\n",
       "      <td> 0.006070</td>\n",
       "      <td> 0.043956</td>\n",
       "    </tr>\n",
       "    <tr>\n",
       "      <th>180</th>\n",
       "      <td> 0.320000</td>\n",
       "      <td> 0.000000</td>\n",
       "      <td> 0.130435</td>\n",
       "      <td> 0.000000</td>\n",
       "      <td> 0.054054</td>\n",
       "      <td> 0.000000</td>\n",
       "      <td> 0.625000</td>\n",
       "      <td> 0.285714</td>\n",
       "      <td> 0.625000</td>\n",
       "      <td> 0.571429</td>\n",
       "      <td>...</td>\n",
       "      <td> 0.011152</td>\n",
       "      <td> 0.014320</td>\n",
       "      <td> 0.061069</td>\n",
       "      <td> 0.030488</td>\n",
       "      <td> 0.025316</td>\n",
       "      <td> 0.009695</td>\n",
       "      <td> 0.024631</td>\n",
       "      <td> 0.044280</td>\n",
       "      <td> 0.015129</td>\n",
       "      <td> 0.043011</td>\n",
       "    </tr>\n",
       "    <tr>\n",
       "      <th>196</th>\n",
       "      <td> 0.375000</td>\n",
       "      <td> 0.100000</td>\n",
       "      <td> 0.289855</td>\n",
       "      <td> 0.100000</td>\n",
       "      <td> 0.066667</td>\n",
       "      <td> 0.200000</td>\n",
       "      <td> 0.256410</td>\n",
       "      <td> 0.054054</td>\n",
       "      <td> 0.153846</td>\n",
       "      <td> 0.181818</td>\n",
       "      <td>...</td>\n",
       "      <td> 0.032086</td>\n",
       "      <td> 0.027149</td>\n",
       "      <td> 0.116883</td>\n",
       "      <td> 0.096866</td>\n",
       "      <td> 0.044199</td>\n",
       "      <td> 0.028630</td>\n",
       "      <td> 0.055944</td>\n",
       "      <td> 0.074830</td>\n",
       "      <td> 0.046784</td>\n",
       "      <td> 0.103448</td>\n",
       "    </tr>\n",
       "  </tbody>\n",
       "</table>\n",
       "<p>5 rows × 2437 columns</p>\n",
       "</div>"
      ],
      "text/plain": [
       "CID  58        102       107       125       126       174       176       \\\n",
       "0                                                                           \n",
       "126  0.086957  0.379310  0.268657  0.586207  1.000000  0.052632  0.108108   \n",
       "176  0.480000  0.054054  0.217391  0.054054  0.108108  0.117647  1.000000   \n",
       "177  0.173913  0.000000  0.045455  0.000000  0.171429  0.000000  0.285714   \n",
       "180  0.320000  0.000000  0.130435  0.000000  0.054054  0.000000  0.625000   \n",
       "196  0.375000  0.100000  0.289855  0.100000  0.066667  0.200000  0.256410   \n",
       "\n",
       "CID  177       178       179         ...     91305518  91411526  91541756  \\\n",
       "0                                    ...                                    \n",
       "126  0.171429  0.054054  0.095238    ...     0.003578  0.018182  0.118421   \n",
       "176  0.285714  0.625000  0.571429    ...     0.011152  0.014320  0.091603   \n",
       "177  1.000000  0.285714  0.210526    ...     0.003731  0.009592  0.031008   \n",
       "180  0.285714  0.625000  0.571429    ...     0.011152  0.014320  0.061069   \n",
       "196  0.054054  0.153846  0.181818    ...     0.032086  0.027149  0.116883   \n",
       "\n",
       "CID  91552833  91563027  91595028  91614181  91617014  91617930  91618238  \n",
       "0                                                                          \n",
       "126  0.017192  0.145251  0.013652  0.056206  0.047945  0.011730  0.105263  \n",
       "176  0.030488  0.037975  0.009695  0.024631  0.036900  0.015129  0.064516  \n",
       "177  0.018405  0.025641  0.002774  0.009901  0.014870  0.006070  0.043956  \n",
       "180  0.030488  0.025316  0.009695  0.024631  0.044280  0.015129  0.043011  \n",
       "196  0.096866  0.044199  0.028630  0.055944  0.074830  0.046784  0.103448  \n",
       "\n",
       "[5 rows x 2437 columns]"
      ]
     },
     "execution_count": 5,
     "metadata": {},
     "output_type": "execute_result"
    }
   ],
   "source": [
    "features_sim.head()"
   ]
  },
  {
   "cell_type": "code",
   "execution_count": 11,
   "metadata": {
    "collapsed": false
   },
   "outputs": [],
   "source": [
    "# save it \n",
    "features_sim.to_csv('morgan_sim.csv')\n"
   ]
  },
  {
   "cell_type": "code",
   "execution_count": null,
   "metadata": {
    "collapsed": true
   },
   "outputs": [],
   "source": []
  }
 ],
 "metadata": {
  "kernelspec": {
   "display_name": "Python 2",
   "language": "python",
   "name": "python2"
  },
  "language_info": {
   "codemirror_mode": {
    "name": "ipython",
    "version": 2
   },
   "file_extension": ".py",
   "mimetype": "text/x-python",
   "name": "python",
   "nbconvert_exporter": "python",
   "pygments_lexer": "ipython2",
   "version": "2.7.9"
  }
 },
 "nbformat": 4,
 "nbformat_minor": 0
}
