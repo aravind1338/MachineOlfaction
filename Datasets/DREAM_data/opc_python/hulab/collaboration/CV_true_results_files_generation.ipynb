{
 "cells": [
  {
   "cell_type": "markdown",
   "metadata": {},
   "source": [
    "averages the test results from the 10 splits  \n",
    "and saves the results in form of LBsx_2.txt  \n",
    "similarly to the LBs2.txt file"
   ]
  },
  {
   "cell_type": "code",
   "execution_count": 1,
   "metadata": {
    "collapsed": true
   },
   "outputs": [],
   "source": [
    "import pandas as pd\n",
    "import numpy as np\n"
   ]
  },
  {
   "cell_type": "code",
   "execution_count": 7,
   "metadata": {
    "collapsed": false
   },
   "outputs": [],
   "source": [
    "testset = pd.read_csv('/media/gabor/C:/Users/gabor/Documents/final_ofaction_for_paper_2/data/TrainSet.txt',\n",
    "                     sep='\\t')\n",
    "lb_set = pd.read_csv('/media/gabor/C:/Users/gabor/Documents/final_ofaction_for_paper_2/data/LBs2.txt',\n",
    "                     sep='\\t')"
   ]
  },
  {
   "cell_type": "code",
   "execution_count": null,
   "metadata": {
    "collapsed": true
   },
   "outputs": [],
   "source": []
  },
  {
   "cell_type": "code",
   "execution_count": 9,
   "metadata": {
    "collapsed": false
   },
   "outputs": [
    {
     "data": {
      "text/html": [
       "<div>\n",
       "<table border=\"1\" class=\"dataframe\">\n",
       "  <thead>\n",
       "    <tr style=\"text-align: right;\">\n",
       "      <th></th>\n",
       "      <th>#oID</th>\n",
       "      <th>descriptor</th>\n",
       "      <th>value</th>\n",
       "      <th>sigma</th>\n",
       "    </tr>\n",
       "  </thead>\n",
       "  <tbody>\n",
       "    <tr>\n",
       "      <th>0</th>\n",
       "      <td>243</td>\n",
       "      <td>INTENSITY/STRENGTH</td>\n",
       "      <td>16.6327</td>\n",
       "      <td>25.5610</td>\n",
       "    </tr>\n",
       "    <tr>\n",
       "      <th>1</th>\n",
       "      <td>454</td>\n",
       "      <td>INTENSITY/STRENGTH</td>\n",
       "      <td>65.5102</td>\n",
       "      <td>27.7422</td>\n",
       "    </tr>\n",
       "    <tr>\n",
       "      <th>2</th>\n",
       "      <td>679</td>\n",
       "      <td>INTENSITY/STRENGTH</td>\n",
       "      <td>18.4286</td>\n",
       "      <td>28.3012</td>\n",
       "    </tr>\n",
       "    <tr>\n",
       "      <th>3</th>\n",
       "      <td>1030</td>\n",
       "      <td>INTENSITY/STRENGTH</td>\n",
       "      <td>3.8980</td>\n",
       "      <td>9.7345</td>\n",
       "    </tr>\n",
       "    <tr>\n",
       "      <th>4</th>\n",
       "      <td>1060</td>\n",
       "      <td>INTENSITY/STRENGTH</td>\n",
       "      <td>67.8980</td>\n",
       "      <td>26.3195</td>\n",
       "    </tr>\n",
       "  </tbody>\n",
       "</table>\n",
       "</div>"
      ],
      "text/plain": [
       "   #oID          descriptor    value    sigma\n",
       "0   243  INTENSITY/STRENGTH  16.6327  25.5610\n",
       "1   454  INTENSITY/STRENGTH  65.5102  27.7422\n",
       "2   679  INTENSITY/STRENGTH  18.4286  28.3012\n",
       "3  1030  INTENSITY/STRENGTH   3.8980   9.7345\n",
       "4  1060  INTENSITY/STRENGTH  67.8980  26.3195"
      ]
     },
     "execution_count": 9,
     "metadata": {},
     "output_type": "execute_result"
    }
   ],
   "source": [
    "lb_set.head()"
   ]
  },
  {
   "cell_type": "code",
   "execution_count": 25,
   "metadata": {
    "collapsed": true
   },
   "outputs": [],
   "source": [
    "trainsplits = pd.read_csv('/media/gabor/C:/Users/gabor/Documents/final_ofaction_for_paper_2/data/cv_splits_train_big.csv',header=None)\n",
    "testsplits = pd.read_csv('/media/gabor/C:/Users/gabor/Documents/final_ofaction_for_paper_2/data/cv_splits_test_big.csv',header=None)"
   ]
  },
  {
   "cell_type": "code",
   "execution_count": 11,
   "metadata": {
    "collapsed": false
   },
   "outputs": [
    {
     "data": {
      "text/html": [
       "<div>\n",
       "<table border=\"1\" class=\"dataframe\">\n",
       "  <thead>\n",
       "    <tr style=\"text-align: right;\">\n",
       "      <th></th>\n",
       "      <th>Compound Identifier</th>\n",
       "      <th>Odor</th>\n",
       "      <th>Replicate</th>\n",
       "      <th>Intensity</th>\n",
       "      <th>Dilution</th>\n",
       "      <th>subject #</th>\n",
       "      <th>INTENSITY/STRENGTH</th>\n",
       "      <th>VALENCE/PLEASANTNESS</th>\n",
       "      <th>BAKERY</th>\n",
       "      <th>SWEET</th>\n",
       "      <th>...</th>\n",
       "      <th>ACID</th>\n",
       "      <th>WARM</th>\n",
       "      <th>MUSKY</th>\n",
       "      <th>SWEATY</th>\n",
       "      <th>AMMONIA/URINOUS</th>\n",
       "      <th>DECAYED</th>\n",
       "      <th>WOOD</th>\n",
       "      <th>GRASS</th>\n",
       "      <th>FLOWER</th>\n",
       "      <th>CHEMICAL</th>\n",
       "    </tr>\n",
       "  </thead>\n",
       "  <tbody>\n",
       "    <tr>\n",
       "      <th>0</th>\n",
       "      <td>126</td>\n",
       "      <td>4-Hydroxybenzaldehyde</td>\n",
       "      <td>NaN</td>\n",
       "      <td>low</td>\n",
       "      <td>1/1,000</td>\n",
       "      <td>1</td>\n",
       "      <td>7</td>\n",
       "      <td>62</td>\n",
       "      <td>0</td>\n",
       "      <td>0</td>\n",
       "      <td>...</td>\n",
       "      <td>0</td>\n",
       "      <td>0</td>\n",
       "      <td>0</td>\n",
       "      <td>21</td>\n",
       "      <td>0</td>\n",
       "      <td>0</td>\n",
       "      <td>0</td>\n",
       "      <td>0</td>\n",
       "      <td>0</td>\n",
       "      <td>0</td>\n",
       "    </tr>\n",
       "    <tr>\n",
       "      <th>1</th>\n",
       "      <td>126</td>\n",
       "      <td>4-Hydroxybenzaldehyde</td>\n",
       "      <td>NaN</td>\n",
       "      <td>high</td>\n",
       "      <td>1/10</td>\n",
       "      <td>1</td>\n",
       "      <td>37</td>\n",
       "      <td>60</td>\n",
       "      <td>0</td>\n",
       "      <td>72</td>\n",
       "      <td>...</td>\n",
       "      <td>0</td>\n",
       "      <td>0</td>\n",
       "      <td>0</td>\n",
       "      <td>0</td>\n",
       "      <td>0</td>\n",
       "      <td>0</td>\n",
       "      <td>0</td>\n",
       "      <td>0</td>\n",
       "      <td>0</td>\n",
       "      <td>0</td>\n",
       "    </tr>\n",
       "    <tr>\n",
       "      <th>2</th>\n",
       "      <td>126</td>\n",
       "      <td>4-Hydroxybenzaldehyde</td>\n",
       "      <td>NaN</td>\n",
       "      <td>low</td>\n",
       "      <td>1/1,000</td>\n",
       "      <td>2</td>\n",
       "      <td>55</td>\n",
       "      <td>89</td>\n",
       "      <td>0</td>\n",
       "      <td>33</td>\n",
       "      <td>...</td>\n",
       "      <td>0</td>\n",
       "      <td>0</td>\n",
       "      <td>0</td>\n",
       "      <td>0</td>\n",
       "      <td>0</td>\n",
       "      <td>0</td>\n",
       "      <td>0</td>\n",
       "      <td>0</td>\n",
       "      <td>0</td>\n",
       "      <td>5</td>\n",
       "    </tr>\n",
       "    <tr>\n",
       "      <th>3</th>\n",
       "      <td>126</td>\n",
       "      <td>4-Hydroxybenzaldehyde</td>\n",
       "      <td>NaN</td>\n",
       "      <td>high</td>\n",
       "      <td>1/10</td>\n",
       "      <td>2</td>\n",
       "      <td>64</td>\n",
       "      <td>71</td>\n",
       "      <td>0</td>\n",
       "      <td>9</td>\n",
       "      <td>...</td>\n",
       "      <td>0</td>\n",
       "      <td>0</td>\n",
       "      <td>0</td>\n",
       "      <td>0</td>\n",
       "      <td>0</td>\n",
       "      <td>0</td>\n",
       "      <td>0</td>\n",
       "      <td>0</td>\n",
       "      <td>0</td>\n",
       "      <td>7</td>\n",
       "    </tr>\n",
       "    <tr>\n",
       "      <th>4</th>\n",
       "      <td>126</td>\n",
       "      <td>4-Hydroxybenzaldehyde</td>\n",
       "      <td>NaN</td>\n",
       "      <td>low</td>\n",
       "      <td>1/1,000</td>\n",
       "      <td>3</td>\n",
       "      <td>89</td>\n",
       "      <td>68</td>\n",
       "      <td>0</td>\n",
       "      <td>62</td>\n",
       "      <td>...</td>\n",
       "      <td>0</td>\n",
       "      <td>62</td>\n",
       "      <td>0</td>\n",
       "      <td>0</td>\n",
       "      <td>0</td>\n",
       "      <td>0</td>\n",
       "      <td>0</td>\n",
       "      <td>0</td>\n",
       "      <td>0</td>\n",
       "      <td>0</td>\n",
       "    </tr>\n",
       "  </tbody>\n",
       "</table>\n",
       "<p>5 rows × 27 columns</p>\n",
       "</div>"
      ],
      "text/plain": [
       "   Compound Identifier                    Odor Replicate Intensity  Dilution  \\\n",
       "0                  126  4-Hydroxybenzaldehyde        NaN      low   1/1,000    \n",
       "1                  126  4-Hydroxybenzaldehyde        NaN     high       1/10   \n",
       "2                  126  4-Hydroxybenzaldehyde        NaN      low   1/1,000    \n",
       "3                  126  4-Hydroxybenzaldehyde        NaN     high       1/10   \n",
       "4                  126  4-Hydroxybenzaldehyde        NaN      low   1/1,000    \n",
       "\n",
       "   subject #  INTENSITY/STRENGTH  VALENCE/PLEASANTNESS  BAKERY  SWEET  \\\n",
       "0          1                   7                    62       0      0   \n",
       "1          1                  37                    60       0     72   \n",
       "2          2                  55                    89       0     33   \n",
       "3          2                  64                    71       0      9   \n",
       "4          3                  89                    68       0     62   \n",
       "\n",
       "     ...     ACID  WARM  MUSKY  SWEATY  AMMONIA/URINOUS  DECAYED  WOOD  GRASS  \\\n",
       "0    ...        0     0      0      21                0        0     0      0   \n",
       "1    ...        0     0      0       0                0        0     0      0   \n",
       "2    ...        0     0      0       0                0        0     0      0   \n",
       "3    ...        0     0      0       0                0        0     0      0   \n",
       "4    ...        0    62      0       0                0        0     0      0   \n",
       "\n",
       "   FLOWER  CHEMICAL  \n",
       "0       0         0  \n",
       "1       0         0  \n",
       "2       0         5  \n",
       "3       0         7  \n",
       "4       0         0  \n",
       "\n",
       "[5 rows x 27 columns]"
      ]
     },
     "execution_count": 11,
     "metadata": {},
     "output_type": "execute_result"
    }
   ],
   "source": [
    "testset.head()"
   ]
  },
  {
   "cell_type": "code",
   "execution_count": 12,
   "metadata": {
    "collapsed": true
   },
   "outputs": [],
   "source": [
    "OID = testset['Compound Identifier'].unique()"
   ]
  },
  {
   "cell_type": "code",
   "execution_count": 18,
   "metadata": {
    "collapsed": false
   },
   "outputs": [
    {
     "name": "stdout",
     "output_type": "stream",
     "text": [
      "INTENSITY/STRENGTH\n",
      "VALENCE/PLEASANTNESS\n",
      "BAKERY\n",
      "SWEET\n",
      "FRUIT\n",
      "FISH\n",
      "GARLIC\n",
      "SPICES\n",
      "COLD\n",
      "SOUR\n",
      "BURNT\n",
      "ACID\n",
      "WARM\n",
      "MUSKY\n",
      "SWEATY\n",
      "AMMONIA/URINOUS\n",
      "DECAYED\n",
      "WOOD\n",
      "GRASS\n",
      "FLOWER\n",
      "CHEMICAL\n"
     ]
    }
   ],
   "source": [
    "data = []\n",
    "for descriptor in [u'INTENSITY/STRENGTH',\n",
    "       u'VALENCE/PLEASANTNESS', u'BAKERY', u'SWEET', u'FRUIT', u'FISH',\n",
    "       u'GARLIC', u'SPICES', u'COLD', u'SOUR', u'BURNT', u'ACID', u'WARM',\n",
    "       u'MUSKY', u'SWEATY', u'AMMONIA/URINOUS', u'DECAYED', u'WOOD', u'GRASS',\n",
    "       u'FLOWER', u'CHEMICAL']:\n",
    "    print descriptor\n",
    "    for oid in OID:\n",
    "        if descriptor == 'INTENSITY/STRENGTH':\n",
    "            selection = testset[testset['Compound Identifier']==oid]\n",
    "            selection = selection[selection.Dilution == '1/1,000 ']\n",
    "            mean = selection[descriptor].mean()\n",
    "            std = selection[descriptor].std()\n",
    "        else:\n",
    "            selection = testset[testset['Compound Identifier']==oid]\n",
    "            selection = selection[selection.Intensity == 'high ']\n",
    "            mean = selection[descriptor].mean()\n",
    "            std = selection[descriptor].std()\n",
    "        if len(selection)>0:\n",
    "            data.append([oid,descriptor,mean,std])"
   ]
  },
  {
   "cell_type": "code",
   "execution_count": 20,
   "metadata": {
    "collapsed": false
   },
   "outputs": [
    {
     "data": {
      "text/plain": [
       "((7040, 4),    #oID          descriptor      value      sigma\n",
       " 0   126  INTENSITY/STRENGTH  24.653061  27.807037\n",
       " 1   177  INTENSITY/STRENGTH  33.265306  32.947417\n",
       " 2   196  INTENSITY/STRENGTH   6.877551  13.541037\n",
       " 3   239  INTENSITY/STRENGTH  21.163265  26.534056\n",
       " 4   240  INTENSITY/STRENGTH  77.489796  17.239879)"
      ]
     },
     "execution_count": 20,
     "metadata": {},
     "output_type": "execute_result"
    }
   ],
   "source": [
    "data = pd.DataFrame(data)\n",
    "data.columns = lb_set.columns\n",
    "data.shape,data.head()"
   ]
  },
  {
   "cell_type": "code",
   "execution_count": 21,
   "metadata": {
    "collapsed": true
   },
   "outputs": [],
   "source": [
    "data=pd.concat((data,lb_set),ignore_index=1)"
   ]
  },
  {
   "cell_type": "code",
   "execution_count": 22,
   "metadata": {
    "collapsed": false
   },
   "outputs": [
    {
     "data": {
      "text/plain": [
       "(8489, 4)"
      ]
     },
     "execution_count": 22,
     "metadata": {},
     "output_type": "execute_result"
    }
   ],
   "source": [
    "data.shape"
   ]
  },
  {
   "cell_type": "code",
   "execution_count": 23,
   "metadata": {
    "collapsed": false
   },
   "outputs": [
    {
     "data": {
      "text/html": [
       "<div>\n",
       "<table border=\"1\" class=\"dataframe\">\n",
       "  <thead>\n",
       "    <tr style=\"text-align: right;\">\n",
       "      <th></th>\n",
       "      <th>#oID</th>\n",
       "      <th>descriptor</th>\n",
       "      <th>value</th>\n",
       "      <th>sigma</th>\n",
       "    </tr>\n",
       "  </thead>\n",
       "  <tbody>\n",
       "    <tr>\n",
       "      <th>0</th>\n",
       "      <td>126</td>\n",
       "      <td>INTENSITY/STRENGTH</td>\n",
       "      <td>24.653061</td>\n",
       "      <td>27.807037</td>\n",
       "    </tr>\n",
       "    <tr>\n",
       "      <th>1</th>\n",
       "      <td>177</td>\n",
       "      <td>INTENSITY/STRENGTH</td>\n",
       "      <td>33.265306</td>\n",
       "      <td>32.947417</td>\n",
       "    </tr>\n",
       "    <tr>\n",
       "      <th>2</th>\n",
       "      <td>196</td>\n",
       "      <td>INTENSITY/STRENGTH</td>\n",
       "      <td>6.877551</td>\n",
       "      <td>13.541037</td>\n",
       "    </tr>\n",
       "    <tr>\n",
       "      <th>3</th>\n",
       "      <td>239</td>\n",
       "      <td>INTENSITY/STRENGTH</td>\n",
       "      <td>21.163265</td>\n",
       "      <td>26.534056</td>\n",
       "    </tr>\n",
       "    <tr>\n",
       "      <th>4</th>\n",
       "      <td>240</td>\n",
       "      <td>INTENSITY/STRENGTH</td>\n",
       "      <td>77.489796</td>\n",
       "      <td>17.239879</td>\n",
       "    </tr>\n",
       "  </tbody>\n",
       "</table>\n",
       "</div>"
      ],
      "text/plain": [
       "   #oID          descriptor      value      sigma\n",
       "0   126  INTENSITY/STRENGTH  24.653061  27.807037\n",
       "1   177  INTENSITY/STRENGTH  33.265306  32.947417\n",
       "2   196  INTENSITY/STRENGTH   6.877551  13.541037\n",
       "3   239  INTENSITY/STRENGTH  21.163265  26.534056\n",
       "4   240  INTENSITY/STRENGTH  77.489796  17.239879"
      ]
     },
     "execution_count": 23,
     "metadata": {},
     "output_type": "execute_result"
    }
   ],
   "source": [
    "data.head()"
   ]
  },
  {
   "cell_type": "code",
   "execution_count": 28,
   "metadata": {
    "collapsed": false
   },
   "outputs": [
    {
     "name": "stdout",
     "output_type": "stream",
     "text": [
      "1441\n",
      "1441\n",
      "1443\n",
      "1441\n",
      "1439\n",
      "1437\n",
      "1438\n",
      "1442\n",
      "1442\n",
      "1444\n"
     ]
    }
   ],
   "source": [
    "for k in range(10):\n",
    "    # save splits cv data as LBsx_2\n",
    "    lb_CIDs = testsplits.ix[k,:].values\n",
    "    lb_data = data[data['#oID'].isin(lb_CIDs)] \n",
    "    print len(lb_data)\n",
    "    lb_data.to_csv('LBs'+str(k)+'_2',sep='\\t',index=False)"
   ]
  },
  {
   "cell_type": "code",
   "execution_count": null,
   "metadata": {
    "collapsed": true
   },
   "outputs": [],
   "source": []
  }
 ],
 "metadata": {
  "kernelspec": {
   "display_name": "Python 2",
   "language": "python",
   "name": "python2"
  },
  "language_info": {
   "codemirror_mode": {
    "name": "ipython",
    "version": 2
   },
   "file_extension": ".py",
   "mimetype": "text/x-python",
   "name": "python",
   "nbconvert_exporter": "python",
   "pygments_lexer": "ipython2",
   "version": "2.7.11"
  }
 },
 "nbformat": 4,
 "nbformat_minor": 0
}
