{
 "cells": [
  {
   "cell_type": "markdown",
   "metadata": {},
   "source": [
    "### Preliminaries"
   ]
  },
  {
   "cell_type": "code",
   "execution_count": 1,
   "metadata": {
    "collapsed": false
   },
   "outputs": [],
   "source": [
    "# Autoreload all modules when changes are saved. \n",
    "%reload_ext autoreload\n",
    "%autoreload 2  \n",
    "\n",
    "# Show all figures inline.  \n",
    "%matplotlib inline\n",
    "\n",
    "# Add olfaction-prediction to the Python path.  \n",
    "import os\n",
    "import sys\n",
    "curr_path = os.getcwd()\n",
    "gerkin_path = os.path.split(curr_path)[0]\n",
    "olfaction_prediction_path = os.path.split(gerkin_path)[0]\n",
    "sys.path.append(olfaction_prediction_path)\n",
    "import opc_python\n",
    "\n",
    "# Import numerical libraries.  \n",
    "import numpy as np\n",
    "import matplotlib.pyplot as plt"
   ]
  },
  {
   "cell_type": "code",
   "execution_count": 2,
   "metadata": {
    "collapsed": false
   },
   "outputs": [
    {
     "name": "stderr",
     "output_type": "stream",
     "text": [
      "/Users/rgerkin/Dropbox/miniconda3/lib/python3.5/site-packages/sklearn/cross_validation.py:44: DeprecationWarning: This module was deprecated in version 0.18 in favor of the model_selection module into which all the refactored classes and functions are moved. Also note that the interface of the new CV iterators are different from that of this module. This module will be removed in 0.20.\n",
      "  \"This module will be removed in 0.20.\", DeprecationWarning)\n"
     ]
    }
   ],
   "source": [
    "# Import generic utility modules I wrote to load the data from the tab-delimited text files and to score predictions.  \n",
    "from opc_python.utils import loading, scoring\n",
    "\n",
    "# Import the modules I wrote for actually shaping and fitting the data to the model.  \n",
    "from opc_python.gerkin import dream,fit2"
   ]
  },
  {
   "cell_type": "code",
   "execution_count": 3,
   "metadata": {
    "collapsed": false
   },
   "outputs": [
    {
     "name": "stdout",
     "output_type": "stream",
     "text": [
      "['Compound Identifier', 'Odor', 'Replicate', 'Intensity', 'Dilution', 'subject #', 'INTENSITY/STRENGTH', 'VALENCE/PLEASANTNESS', 'BAKERY', 'SWEET', 'FRUIT', 'FISH', 'GARLIC', 'SPICES', 'COLD', 'SOUR', 'BURNT', 'ACID', 'WARM', 'MUSKY', 'SWEATY', 'AMMONIA/URINOUS', 'DECAYED', 'WOOD', 'GRASS', 'FLOWER', 'CHEMICAL']\n"
     ]
    }
   ],
   "source": [
    "# Load the perceptual descriptors data.  \n",
    "perceptual_headers, perceptual_obs_data = loading.load_perceptual_data('training')\n",
    "loading.format_leaderboard_perceptual_data()\n",
    "# Show the perceptual metadata types and perceptual descriptor names.\n",
    "print(perceptual_headers)"
   ]
  },
  {
   "cell_type": "code",
   "execution_count": 4,
   "metadata": {
    "collapsed": false
   },
   "outputs": [
    {
     "name": "stdout",
     "output_type": "stream",
     "text": [
      "['126', '4-Hydroxybenzaldehyde', False, 'high', '1/10', '1', 37, 60, 0, 72, 0, 0, 0, 0, 0, 0, 0, 0, 0, 0, 0, 0, 0, 0, 0, 0, 0]\n"
     ]
    }
   ],
   "source": [
    "# Show the metadata and perceptual descriptor values for the first compound.\n",
    "print(perceptual_obs_data[1])"
   ]
  },
  {
   "cell_type": "code",
   "execution_count": 5,
   "metadata": {
    "collapsed": false
   },
   "outputs": [
    {
     "name": "stdout",
     "output_type": "stream",
     "text": [
      "There are 21 different perceptual descriptors and 49 different subjects\n"
     ]
    }
   ],
   "source": [
    "num_descriptors = len(perceptual_headers[6:])\n",
    "num_subjects = 49\n",
    "print('There are %d different perceptual descriptors and %d different subjects' % (num_descriptors,num_subjects))"
   ]
  },
  {
   "cell_type": "code",
   "execution_count": 6,
   "metadata": {
    "collapsed": false
   },
   "outputs": [
    {
     "name": "stdout",
     "output_type": "stream",
     "text": [
      "First ten molecular descriptor types are ['CID', 'complexity from pubmed', 'MW', 'AMW', 'Sv', 'Se', 'Sp', 'Si', 'Mv', 'Me']\n",
      "First ten descriptor values for the first compound are ['126', 93.1, 122.13, 8.142, 10.01, 15.305, 10.193, 16.664, 0.667, 1.02]\n",
      "We have molecular descriptors for 476 unique molecules\n"
     ]
    }
   ],
   "source": [
    "# Load the molecular descriptors data.  \n",
    "molecular_headers, molecular_data = loading.load_molecular_data()\n",
    "print(\"First ten molecular descriptor types are %s\" % molecular_headers[:10])\n",
    "print(\"First ten descriptor values for the first compound are %s\" % molecular_data[0][:10])\n",
    "total_size = len(set([int(row[0]) for row in molecular_data]))\n",
    "print(\"We have molecular descriptors for %d unique molecules\" % total_size)"
   ]
  },
  {
   "cell_type": "code",
   "execution_count": 7,
   "metadata": {
    "collapsed": false
   },
   "outputs": [
    {
     "name": "stdout",
     "output_type": "stream",
     "text": [
      "We have perceptual data for 338 unique molecules\n",
      "138 are left out for testing in the competition; half of these (69) are used for the leaderboard.\n"
     ]
    }
   ],
   "source": [
    "training_size = len(set([int(row[0]) for row in perceptual_obs_data]))\n",
    "print(\"We have perceptual data for %d unique molecules\" % training_size)\n",
    "remaining_size = total_size - training_size\n",
    "print (\"%d are left out for testing in the competition; half of these (%d) are used for the leaderboard.\" \\\n",
    "       % (remaining_size,remaining_size/2))"
   ]
  },
  {
   "cell_type": "code",
   "execution_count": 8,
   "metadata": {
    "collapsed": false
   },
   "outputs": [
    {
     "name": "stdout",
     "output_type": "stream",
     "text": [
      "There are 35084 rows in the perceptual data set (at least one for each subject and molecule)\n",
      "1960 of these are replicates (same subject and molecules)\n"
     ]
    }
   ],
   "source": [
    "print(\"There are %d rows in the perceptual data set (at least one for each subject and molecule)\" % len(perceptual_obs_data))\n",
    "print(\"%d of these are replicates (same subject and molecules)\" % sum([x[2] for x in perceptual_obs_data]))"
   ]
  },
  {
   "cell_type": "markdown",
   "metadata": {},
   "source": [
    "### Create Molecular Matrix"
   ]
  },
  {
   "cell_type": "code",
   "execution_count": 9,
   "metadata": {
    "collapsed": false
   },
   "outputs": [
    {
     "name": "stdout",
     "output_type": "stream",
     "text": [
      "The X matrix now has shape (676x3033) molecules by non-NaN good molecular descriptors\n"
     ]
    },
    {
     "data": {
      "text/plain": [
       "(676, 3033)"
      ]
     },
     "execution_count": 9,
     "metadata": {},
     "output_type": "execute_result"
    }
   ],
   "source": [
    "X_training,good1,good2,means,stds,imputer = dream.make_X(molecular_data,\"training\")\n",
    "X_training.shape"
   ]
  },
  {
   "cell_type": "code",
   "execution_count": 10,
   "metadata": {
    "collapsed": false
   },
   "outputs": [
    {
     "name": "stdout",
     "output_type": "stream",
     "text": [
      "Getting CIDs and dilutions...\n",
      "Getting basic molecular data...\n",
      "Adding dilution data...\n",
      "There are now 69 molecular vectors of length 4871, one for each molecule and dilution\n",
      "Building a matrix...\n",
      "The X matrix has shape (69x4871) (molecules by molecular descriptors)\n",
      "Purging data with too many NaNs...\n",
      "The X matrix has shape (69x4871) (molecules by good molecular descriptors)\n",
      "Imputing remaining NaN data...\n",
      "The X matrix now has shape (69x4871) (molecules by non-NaN good molecular descriptors)\n",
      "Purging data that is still bad, if any...\n",
      "The X matrix has shape (69x3033) (molecules by good molecular descriptors)\n",
      "Normalizing data for fitting...\n",
      "The X matrix now has shape (69x3033) molecules by non-NaN good molecular descriptors\n"
     ]
    },
    {
     "data": {
      "text/plain": [
       "(69, 3033)"
      ]
     },
     "execution_count": 10,
     "metadata": {},
     "output_type": "execute_result"
    }
   ],
   "source": [
    "X_leaderboard_other,good1,good2,means,stds,imputer = dream.make_X(molecular_data,\"leaderboard\",target_dilution='high',good1=good1,good2=good2,means=means,stds=stds)\n",
    "X_leaderboard_other.shape"
   ]
  },
  {
   "cell_type": "code",
   "execution_count": 11,
   "metadata": {
    "collapsed": false
   },
   "outputs": [
    {
     "name": "stdout",
     "output_type": "stream",
     "text": [
      "Getting CIDs and dilutions...\n",
      "Getting basic molecular data...\n",
      "Adding dilution data...\n",
      "There are now 69 molecular vectors of length 4871, one for each molecule and dilution\n",
      "Building a matrix...\n",
      "The X matrix has shape (69x4871) (molecules by molecular descriptors)\n",
      "Purging data with too many NaNs...\n",
      "The X matrix has shape (69x4871) (molecules by good molecular descriptors)\n",
      "Imputing remaining NaN data...\n",
      "The X matrix now has shape (69x4871) (molecules by non-NaN good molecular descriptors)\n",
      "Purging data that is still bad, if any...\n",
      "The X matrix has shape (69x3033) (molecules by good molecular descriptors)\n",
      "Normalizing data for fitting...\n",
      "The X matrix now has shape (69x3033) molecules by non-NaN good molecular descriptors\n"
     ]
    },
    {
     "data": {
      "text/plain": [
       "(69, 3033)"
      ]
     },
     "execution_count": 11,
     "metadata": {},
     "output_type": "execute_result"
    }
   ],
   "source": [
    "X_leaderboard_int,good1,good2,means,stds,imputer = dream.make_X(molecular_data,\"leaderboard\",target_dilution=-3,good1=good1,good2=good2,means=means,stds=stds)\n",
    "X_leaderboard_int.shape"
   ]
  },
  {
   "cell_type": "code",
   "execution_count": 12,
   "metadata": {
    "collapsed": false
   },
   "outputs": [
    {
     "name": "stdout",
     "output_type": "stream",
     "text": [
      "Getting CIDs and dilutions...\n",
      "Getting basic molecular data...\n",
      "Adding dilution data...\n",
      "There are now 69 molecular vectors of length 4871, one for each molecule and dilution\n",
      "Building a matrix...\n",
      "The X matrix has shape (69x4871) (molecules by molecular descriptors)\n",
      "Purging data with too many NaNs...\n",
      "The X matrix has shape (69x4871) (molecules by good molecular descriptors)\n",
      "Imputing remaining NaN data...\n",
      "The X matrix now has shape (69x4871) (molecules by non-NaN good molecular descriptors)\n",
      "Purging data that is still bad, if any...\n",
      "The X matrix has shape (69x3033) (molecules by good molecular descriptors)\n",
      "Normalizing data for fitting...\n",
      "The X matrix now has shape (69x3033) molecules by non-NaN good molecular descriptors\n"
     ]
    },
    {
     "data": {
      "text/plain": [
       "(69, 3033)"
      ]
     },
     "execution_count": 12,
     "metadata": {},
     "output_type": "execute_result"
    }
   ],
   "source": [
    "X_testset_other,good1,good2,means,stds,imputer = dream.make_X(molecular_data,\"testset\",target_dilution='high',good1=good1,good2=good2,means=means,stds=stds)\n",
    "X_testset_other.shape"
   ]
  },
  {
   "cell_type": "code",
   "execution_count": 13,
   "metadata": {
    "collapsed": false
   },
   "outputs": [
    {
     "name": "stdout",
     "output_type": "stream",
     "text": [
      "Getting CIDs and dilutions...\n",
      "Getting basic molecular data...\n",
      "Adding dilution data...\n",
      "There are now 69 molecular vectors of length 4871, one for each molecule and dilution\n",
      "Building a matrix...\n",
      "The X matrix has shape (69x4871) (molecules by molecular descriptors)\n",
      "Purging data with too many NaNs...\n",
      "The X matrix has shape (69x4871) (molecules by good molecular descriptors)\n",
      "Imputing remaining NaN data...\n",
      "The X matrix now has shape (69x4871) (molecules by non-NaN good molecular descriptors)\n",
      "Purging data that is still bad, if any...\n",
      "The X matrix has shape (69x3033) (molecules by good molecular descriptors)\n",
      "Normalizing data for fitting...\n",
      "The X matrix now has shape (69x3033) molecules by non-NaN good molecular descriptors\n"
     ]
    },
    {
     "data": {
      "text/plain": [
       "(69, 3033)"
      ]
     },
     "execution_count": 13,
     "metadata": {},
     "output_type": "execute_result"
    }
   ],
   "source": [
    "X_testset_int,good1,good2,means,stds,imputer = dream.make_X(molecular_data,\"testset\",target_dilution=-3,good1=good1,good2=good2,means=means,stds=stds)\n",
    "X_testset_int.shape"
   ]
  },
  {
   "cell_type": "code",
   "execution_count": 14,
   "metadata": {
    "collapsed": false
   },
   "outputs": [
    {
     "name": "stdout",
     "output_type": "stream",
     "text": [
      "Getting CIDs and dilutions...\n",
      "Getting basic molecular data...\n",
      "Adding dilution data...\n",
      "There are now 814 molecular vectors of length 4871, one for each molecule and dilution\n",
      "Building a matrix...\n",
      "The X matrix has shape (814x4871) (molecules by molecular descriptors)\n",
      "Purging data with too many NaNs...\n",
      "The X matrix has shape (814x4871) (molecules by good molecular descriptors)\n",
      "Imputing remaining NaN data...\n",
      "The X matrix now has shape (814x4871) (molecules by non-NaN good molecular descriptors)\n",
      "Purging data that is still bad, if any...\n",
      "The X matrix has shape (814x3033) (molecules by good molecular descriptors)\n",
      "Normalizing data for fitting...\n",
      "The X matrix now has shape (814x3033) molecules by non-NaN good molecular descriptors\n"
     ]
    },
    {
     "data": {
      "text/plain": [
       "(814, 3033)"
      ]
     },
     "execution_count": 14,
     "metadata": {},
     "output_type": "execute_result"
    }
   ],
   "source": [
    "X_all,good1,good2,means,stds,imputer = dream.make_X(molecular_data,['training','leaderboard'],good1=good1,good2=good2,means=means,stds=stds)\n",
    "X_all.shape"
   ]
  },
  {
   "cell_type": "code",
   "execution_count": 15,
   "metadata": {
    "collapsed": false
   },
   "outputs": [
    {
     "name": "stdout",
     "output_type": "stream",
     "text": [
      "Getting basic perceptual data...\n",
      "Flattening into vectors...\n",
      "Assembling into matrices...\n",
      "Y_obs['subject'] contains 49 matrices each with shape (676x21) (molecules by perceptual descriptors)\n",
      "The Y_obs['mean_std'] matrix has shape (676x42) (molecules by 2 x perceptual descriptors)\n",
      "Combining Y matrices...\n",
      "The Y['mean_std'] matrix now has shape (676x42) molecules by 2 x perceptual descriptors\n",
      "The Y['subject'] dict now has 49 matrices of shape (676x21) molecules by perceptual descriptors, one for each subject\n",
      "Getting basic perceptual data...\n",
      "Flattening into vectors...\n",
      "Assembling into matrices...\n",
      "Y_obs['subject'] contains 49 matrices each with shape (676x21) (molecules by perceptual descriptors)\n",
      "The Y_obs['mean_std'] matrix has shape (676x42) (molecules by 2 x perceptual descriptors)\n",
      "Combining Y matrices...\n",
      "The Y['mean_std'] matrix now has shape (676x42) molecules by 2 x perceptual descriptors\n",
      "The Y['subject'] dict now has 49 matrices of shape (676x21) molecules by perceptual descriptors, one for each subject\n"
     ]
    }
   ],
   "source": [
    "Y_training_imp,imputer = dream.make_Y_obs('training',target_dilution=None,imputer='median')\n",
    "Y_training_mask,imputer = dream.make_Y_obs('training',target_dilution=None,imputer='mask')"
   ]
  },
  {
   "cell_type": "code",
   "execution_count": 16,
   "metadata": {
    "collapsed": false
   },
   "outputs": [
    {
     "name": "stdout",
     "output_type": "stream",
     "text": [
      "Getting basic perceptual data...\n",
      "Flattening into vectors...\n",
      "Assembling into matrices...\n",
      "Y_obs['subject'] contains 49 matrices each with shape (69x21) (molecules by perceptual descriptors)\n",
      "The Y_obs['mean_std'] matrix has shape (69x42) (molecules by 2 x perceptual descriptors)\n",
      "Combining Y matrices...\n",
      "The Y['mean_std'] matrix now has shape (69x42) molecules by 2 x perceptual descriptors\n",
      "The Y['subject'] dict now has 49 matrices of shape (69x21) molecules by perceptual descriptors, one for each subject\n",
      "Getting basic perceptual data...\n",
      "Flattening into vectors...\n",
      "Assembling into matrices...\n",
      "Y_obs['subject'] contains 49 matrices each with shape (69x21) (molecules by perceptual descriptors)\n",
      "The Y_obs['mean_std'] matrix has shape (69x42) (molecules by 2 x perceptual descriptors)\n",
      "Combining Y matrices...\n",
      "The Y['mean_std'] matrix now has shape (69x42) molecules by 2 x perceptual descriptors\n",
      "The Y['subject'] dict now has 49 matrices of shape (69x21) molecules by perceptual descriptors, one for each subject\n"
     ]
    }
   ],
   "source": [
    "Y_leaderboard,imputer = dream.make_Y_obs('leaderboard',target_dilution='gold',imputer='mask')"
   ]
  },
  {
   "cell_type": "code",
   "execution_count": 29,
   "metadata": {
    "collapsed": false
   },
   "outputs": [
    {
     "name": "stdout",
     "output_type": "stream",
     "text": [
      "Getting basic perceptual data...\n",
      "Flattening into vectors...\n",
      "Assembling into matrices...\n",
      "Y_obs['subject'] contains 49 matrices each with shape (69x21) (molecules by perceptual descriptors)\n",
      "The Y_obs['mean_std'] matrix has shape (69x42) (molecules by 2 x perceptual descriptors)\n",
      "Combining Y matrices...\n",
      "The Y['mean_std'] matrix now has shape (69x42) molecules by 2 x perceptual descriptors\n",
      "The Y['subject'] dict now has 49 matrices of shape (69x21) molecules by perceptual descriptors, one for each subject\n",
      "Getting basic perceptual data...\n",
      "Flattening into vectors...\n",
      "Assembling into matrices...\n",
      "Y_obs['subject'] contains 49 matrices each with shape (69x21) (molecules by perceptual descriptors)\n",
      "The Y_obs['mean_std'] matrix has shape (69x42) (molecules by 2 x perceptual descriptors)\n",
      "Combining Y matrices...\n",
      "The Y['mean_std'] matrix now has shape (69x42) molecules by 2 x perceptual descriptors\n",
      "The Y['subject'] dict now has 49 matrices of shape (69x21) molecules by perceptual descriptors, one for each subject\n"
     ]
    }
   ],
   "source": [
    "Y_leaderboard_noimpute,_ = dream.make_Y_obs('leaderboard',target_dilution='gold',imputer=None)"
   ]
  },
  {
   "cell_type": "code",
   "execution_count": 17,
   "metadata": {
    "collapsed": false
   },
   "outputs": [
    {
     "name": "stdout",
     "output_type": "stream",
     "text": [
      "Getting basic perceptual data...\n",
      "Flattening into vectors...\n",
      "Assembling into matrices...\n",
      "Y_obs['subject'] contains 49 matrices each with shape (676x21) (molecules by perceptual descriptors)\n",
      "The Y_obs['mean_std'] matrix has shape (676x42) (molecules by 2 x perceptual descriptors)\n",
      "Getting basic perceptual data...\n",
      "Flattening into vectors...\n",
      "Assembling into matrices...\n",
      "Y_obs['subject'] contains 49 matrices each with shape (138x21) (molecules by perceptual descriptors)\n",
      "The Y_obs['mean_std'] matrix has shape (138x42) (molecules by 2 x perceptual descriptors)\n",
      "Combining Y matrices...\n",
      "The Y['mean_std'] matrix now has shape (814x42) molecules by 2 x perceptual descriptors\n",
      "The Y['subject'] dict now has 49 matrices of shape (814x21) molecules by perceptual descriptors, one for each subject\n"
     ]
    }
   ],
   "source": [
    "Y_all_imp,imputer = dream.make_Y_obs(['training','leaderboard'],target_dilution=None,imputer='median')"
   ]
  },
  {
   "cell_type": "code",
   "execution_count": 18,
   "metadata": {
    "collapsed": false
   },
   "outputs": [
    {
     "name": "stdout",
     "output_type": "stream",
     "text": [
      "Getting basic perceptual data...\n",
      "Flattening into vectors...\n",
      "Assembling into matrices...\n",
      "Y_obs['subject'] contains 49 matrices each with shape (676x21) (molecules by perceptual descriptors)\n",
      "The Y_obs['mean_std'] matrix has shape (676x42) (molecules by 2 x perceptual descriptors)\n",
      "Getting basic perceptual data...\n",
      "Flattening into vectors...\n",
      "Assembling into matrices...\n",
      "Y_obs['subject'] contains 49 matrices each with shape (138x21) (molecules by perceptual descriptors)\n",
      "The Y_obs['mean_std'] matrix has shape (138x42) (molecules by 2 x perceptual descriptors)\n",
      "Combining Y matrices...\n",
      "The Y['mean_std'] matrix now has shape (814x42) molecules by 2 x perceptual descriptors\n",
      "The Y['subject'] dict now has 49 matrices of shape (814x21) molecules by perceptual descriptors, one for each subject\n"
     ]
    }
   ],
   "source": [
    "Y_all_mask,imputer = dream.make_Y_obs(['training','leaderboard'],target_dilution=None,imputer='mask')"
   ]
  },
  {
   "cell_type": "code",
   "execution_count": 19,
   "metadata": {
    "collapsed": false
   },
   "outputs": [
    {
     "data": {
      "text/plain": [
       "<matplotlib.collections.PathCollection at 0x108414710>"
      ]
     },
     "execution_count": 19,
     "metadata": {},
     "output_type": "execute_result"
    },
    {
     "data": {
      "image/png": "[encoded data removed]",
      "text/plain": [
       "<matplotlib.figure.Figure at 0x10adf5898>"
      ]
     },
     "metadata": {},
     "output_type": "display_data"
    }
   ],
   "source": [
    "plt.scatter(Y_all_mask['mean_std'][:,0],Y_all_mask['mean_std'][:,21])"
   ]
  },
  {
   "cell_type": "markdown",
   "metadata": {},
   "source": [
    "### Data preparation"
   ]
  },
  {
   "cell_type": "code",
   "execution_count": 20,
   "metadata": {
    "collapsed": false
   },
   "outputs": [
    {
     "data": {
      "text/plain": [
       "<matplotlib.text.Text at 0x10fe1d0f0>"
      ]
     },
     "execution_count": 20,
     "metadata": {},
     "output_type": "execute_result"
    },
    {
     "data": {
      "image/png": "[encoded data removed]",
      "text/plain": [
       "<matplotlib.figure.Figure at 0x10f6c56d8>"
      ]
     },
     "metadata": {},
     "output_type": "display_data"
    },
    {
     "data": {
      "image/png": "[encoded data removed]",
      "text/plain": [
       "<matplotlib.figure.Figure at 0x10fed0978>"
      ]
     },
     "metadata": {},
     "output_type": "display_data"
    }
   ],
   "source": [
    "# Show the range of values for the molecular and perceptual descriptors.  \n",
    "plt.hist(X_training.ravel())\n",
    "plt.yscale('log')\n",
    "plt.ylabel('Count')\n",
    "plt.xlabel('Cube root transformed, N(0,1) normalized molecular descriptor values')\n",
    "plt.figure()\n",
    "plt.hist(Y_training_imp['mean_std'][:21].ravel())\n",
    "plt.yscale('log')\n",
    "plt.ylabel('Count')\n",
    "plt.xlabel('Perceptual descriptor subject-averaged values')"
   ]
  },
  {
   "cell_type": "markdown",
   "metadata": {},
   "source": [
    "## Fitting and Generating Submission Files"
   ]
  },
  {
   "cell_type": "code",
   "execution_count": 21,
   "metadata": {
    "collapsed": false
   },
   "outputs": [],
   "source": [
    "write = True # Set to True to actually generate the prediction files.  \n",
    "n_estimators = 1000 # Set this to a high number (e.g. 1000) to get a good fit.  \n",
    "\n",
    "# Best parameters, determined independently.  \n",
    "max_features = {'int':{'mean':None,'sigma':None},\n",
    "                'ple':{'mean':100,'sigma':None},\n",
    "                'dec':{'mean':500,'sigma':500}}\n",
    "min_samples_leaf = {'int':{'mean':1,'sigma':4},\n",
    "                'ple':{'mean':1,'sigma':1},\n",
    "                'dec':{'mean':1,'sigma':1}}\n",
    "max_depth = {'int':{'mean':None,'sigma':2},\n",
    "                'ple':{'mean':10,'sigma':10},\n",
    "                'dec':{'mean':10,'sigma':10}}\n",
    "et = {'int':{'mean':True,'sigma':True},\n",
    "                'ple':{'mean':False,'sigma':False},\n",
    "                'dec':{'mean':False,'sigma':False}}\n",
    "#et['int'] = {'mean':False,'sigma':False} # Uncomment to get a correct score estimate, or leave commented to get best fit.  \n",
    "use_mask = {'int':{'mean':False,'sigma':True},\n",
    "                'ple':{'mean':False,'sigma':True},\n",
    "                'dec':{'mean':False,'sigma':True}}"
   ]
  },
  {
   "cell_type": "code",
   "execution_count": 22,
   "metadata": {
    "collapsed": false
   },
   "outputs": [
    {
     "name": "stdout",
     "output_type": "stream",
     "text": [
      "For subchallenge 2:\n",
      "\tScore = 8.24\n",
      "\tint_mean = 1.000\n",
      "\tint_sigma = 0.154\n",
      "\tple_mean = 0.655\n",
      "\tple_sigma = 0.276\n",
      "\tdec_mean = 0.487\n",
      "\tdec_sigma = 0.388\n"
     ]
    }
   ],
   "source": [
    "# Fit training data.  Ignoring warning that arises if too few trees are used.  \n",
    "rfcs_leaderboard,score,rs = fit2.rfc_final(X_training,Y_training_imp['mean_std'],Y_training_mask['mean_std'],\n",
    "                            max_features,min_samples_leaf,max_depth,et,use_mask,\n",
    "                            n_estimators=n_estimators)"
   ]
  },
  {
   "cell_type": "code",
   "execution_count": 30,
   "metadata": {
    "collapsed": false
   },
   "outputs": [
    {
     "name": "stdout",
     "output_type": "stream",
     "text": [
      "Score: 8.614029; rs = 0.658,0.517,0.522,0.385,0.244,0.479\n",
      "Wrote to file with suffix \"1442973712\"\n"
     ]
    },
    {
     "data": {
      "text/plain": [
       "{'mean_std': array([[ 67.08738776,  43.55896697,   3.37110244, ...,   9.19245006,\n",
       "          15.67672398,  29.84069815],\n",
       "        [ 63.13612245,  46.61200688,   1.98062973, ...,  11.98079024,\n",
       "          16.76680347,  29.43622958],\n",
       "        [ 45.39820408,  38.85454158,   2.67683764, ...,   9.88135074,\n",
       "          10.72564466,  21.64941691],\n",
       "        ..., \n",
       "        [ 28.82938776,  46.30719852,   1.56478416, ...,  11.13145362,\n",
       "          16.85916415,  22.17690975],\n",
       "        [ 44.9887551 ,  41.80719298,   1.98911252, ...,  11.13841759,\n",
       "          18.77491447,  25.44255843],\n",
       "        [ 34.40485714,  49.93906264,   2.48507928, ...,  13.21224283,\n",
       "          18.98750791,  25.12900928]]), 'subject': {}}"
      ]
     },
     "execution_count": 30,
     "metadata": {},
     "output_type": "execute_result"
    }
   ],
   "source": [
    "loading.make_prediction_files(rfcs_leaderboard,X_leaderboard_int,X_leaderboard_other,'leaderboard',2,Y_test=Y_leaderboard_noimpute,write=write)"
   ]
  },
  {
   "cell_type": "code",
   "execution_count": 27,
   "metadata": {
    "collapsed": false
   },
   "outputs": [
    {
     "data": {
      "text/plain": [
       "{'dec': {'mean': RandomForestRegressor(bootstrap=True, criterion='mse', max_depth=10,\n",
       "             max_features=500, max_leaf_nodes=None, min_samples_leaf=1,\n",
       "             min_samples_split=2, min_weight_fraction_leaf=0.0,\n",
       "             n_estimators=1000, n_jobs=-1, oob_score=True, random_state=0,\n",
       "             verbose=0, warm_start=False),\n",
       "  'sigma': RandomForestRegressor(bootstrap=True, criterion='mse', max_depth=10,\n",
       "             max_features=500, max_leaf_nodes=None, min_samples_leaf=1,\n",
       "             min_samples_split=2, min_weight_fraction_leaf=0.0,\n",
       "             n_estimators=1000, n_jobs=-1, oob_score=True, random_state=0,\n",
       "             verbose=0, warm_start=False)},\n",
       " 'int': {'mean': ExtraTreesRegressor(bootstrap=False, criterion='mse', max_depth=None,\n",
       "            max_features=None, max_leaf_nodes=None, min_samples_leaf=1,\n",
       "            min_samples_split=2, min_weight_fraction_leaf=0.0,\n",
       "            n_estimators=1000, n_jobs=-1, oob_score=False, random_state=0,\n",
       "            verbose=0, warm_start=False),\n",
       "  'sigma': ExtraTreesRegressor(bootstrap=False, criterion='mse', max_depth=2,\n",
       "            max_features=None, max_leaf_nodes=None, min_samples_leaf=4,\n",
       "            min_samples_split=2, min_weight_fraction_leaf=0.0,\n",
       "            n_estimators=1000, n_jobs=-1, oob_score=False, random_state=0,\n",
       "            verbose=0, warm_start=False)},\n",
       " 'ple': {'mean': RandomForestRegressor(bootstrap=True, criterion='mse', max_depth=10,\n",
       "             max_features=100, max_leaf_nodes=None, min_samples_leaf=1,\n",
       "             min_samples_split=2, min_weight_fraction_leaf=0.0,\n",
       "             n_estimators=1000, n_jobs=-1, oob_score=True, random_state=0,\n",
       "             verbose=0, warm_start=False),\n",
       "  'sigma': RandomForestRegressor(bootstrap=True, criterion='mse', max_depth=10,\n",
       "             max_features=None, max_leaf_nodes=None, min_samples_leaf=1,\n",
       "             min_samples_split=2, min_weight_fraction_leaf=0.0,\n",
       "             n_estimators=1000, n_jobs=-1, oob_score=True, random_state=0,\n",
       "             verbose=0, warm_start=False)}}"
      ]
     },
     "execution_count": 27,
     "metadata": {},
     "output_type": "execute_result"
    }
   ],
   "source": [
    "rfcs_leaderboard"
   ]
  },
  {
   "cell_type": "code",
   "execution_count": 23,
   "metadata": {
    "collapsed": false
   },
   "outputs": [
    {
     "name": "stdout",
     "output_type": "stream",
     "text": [
      "For subchallenge 2:\n",
      "\tScore = 2.83\n",
      "\tint_mean = 1.000\n",
      "\tint_sigma = 0.126\n",
      "\tple_mean = 0.009\n",
      "\tple_sigma = -0.010\n",
      "\tdec_mean = 0.133\n",
      "\tdec_sigma = 0.072\n"
     ]
    }
   ],
   "source": [
    "rfcs,score,rs = fit2.rfc_final(X_all,Y_all_imp['mean_std'],Y_all_mask['mean_std'],\n",
    "                            max_features,min_samples_leaf,max_depth,et,use_mask,\n",
    "                            n_estimators=n_estimators)"
   ]
  },
  {
   "cell_type": "code",
   "execution_count": 24,
   "metadata": {
    "collapsed": false
   },
   "outputs": [
    {
     "data": {
      "text/plain": [
       "{'mean_std': array([[ 33.26530612,  44.62244898,   2.12244898, ...,   9.93389033,\n",
       "          10.11045229,  21.72142009],\n",
       "        [ 12.95918367,  48.15306122,   0.91836735, ...,   7.59583474,\n",
       "          18.41829388,  22.26213039],\n",
       "        [ 21.16326531,  44.62244898,   8.12244898, ...,   4.7887756 ,\n",
       "           8.37787436,  24.78012562],\n",
       "        ..., \n",
       "        [ 39.53061224,  59.50204082,   3.82780612, ...,  12.27196668,\n",
       "          22.87507041,  19.62084018],\n",
       "        [ 18.3877551 ,  57.82653061,   1.42212675, ...,   8.39165909,\n",
       "          14.20939341,  23.09079336],\n",
       "        [ 29.08163265,  49.21836735,   3.95918367, ...,  11.30602357,\n",
       "          31.18954828,  22.55003619]]), 'subject': {}}"
      ]
     },
     "execution_count": 24,
     "metadata": {},
     "output_type": "execute_result"
    }
   ],
   "source": [
    "loading.make_prediction_files(rfcs,X_testset_int,X_testset_other,'testset',2,write=False)"
   ]
  }
 ],
 "metadata": {
  "kernelspec": {
   "display_name": "Python 3",
   "language": "python",
   "name": "python3"
  },
  "language_info": {
   "codemirror_mode": {
    "name": "ipython",
    "version": 3
   },
   "file_extension": ".py",
   "mimetype": "text/x-python",
   "name": "python",
   "nbconvert_exporter": "python",
   "pygments_lexer": "ipython3",
   "version": "3.5.2"
  }
 },
 "nbformat": 4,
 "nbformat_minor": 0
}
