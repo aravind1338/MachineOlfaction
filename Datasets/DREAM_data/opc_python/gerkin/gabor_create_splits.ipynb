{
 "cells": [
  {
   "cell_type": "code",
   "execution_count": 1,
   "metadata": {
    "collapsed": false
   },
   "outputs": [],
   "source": [
    "# Preliminaries to work with the data.   \n",
    "%matplotlib inline\n",
    "import os\n",
    "import sys\n",
    "curr_path = os.getcwd()\n",
    "gerkin_path = os.path.split(curr_path)[0]\n",
    "olfaction_prediction_path = os.path.split(gerkin_path)[0]\n",
    "sys.path.append(olfaction_prediction_path)\n",
    "import opc_python\n",
    "from opc_python.utils import loading, scoring\n",
    "from opc_python.gerkin import dream,params\n",
    "import numpy as np\n",
    "import matplotlib.pyplot as plt\n",
    "import pandas as pd"
   ]
  },
  {
   "cell_type": "code",
   "execution_count": 2,
   "metadata": {
    "collapsed": false
   },
   "outputs": [],
   "source": [
    "training_leaderboard_CIDs = sorted(loading.get_CIDs('training')+loading.get_CIDs('leaderboard'))"
   ]
  },
  {
   "cell_type": "code",
   "execution_count": 3,
   "metadata": {
    "collapsed": false
   },
   "outputs": [
    {
     "name": "stdout",
     "output_type": "stream",
     "text": [
      "With a test size of 0.17, there will be 338 items in each training split and 69 items in each test split\n"
     ]
    }
   ],
   "source": [
    "from sklearn.cross_validation import ShuffleSplit\n",
    "test_size = 0.17\n",
    "splits = ShuffleSplit(len(training_leaderboard_CIDs),n_iter=250,test_size=test_size,random_state=0)\n",
    "# random_state = 0 means this will produce the same splits each time it is run.  \n",
    "train_n = int(round(len(training_leaderboard_CIDs) * (1-test_size)))\n",
    "test_n = int(round(len(training_leaderboard_CIDs) * (test_size)))\n",
    "print((\"With a test size of %.2f, there will be %d items in each training split \"\n",
    "       \"and %d items in each test split\" % (test_size,train_n,test_n)))\n"
   ]
  },
  {
   "cell_type": "code",
   "execution_count": 12,
   "metadata": {
    "collapsed": false
   },
   "outputs": [
    {
     "name": "stdout",
     "output_type": "stream",
     "text": [
      "337 70\n",
      "337 70\n",
      "337 70\n",
      "337 70\n",
      "337 70\n",
      "337 70\n",
      "337 70\n",
      "337 70\n",
      "337 70\n",
      "337 70\n",
      "337 70\n",
      "337 70\n",
      "337 70\n",
      "337 70\n",
      "337 70\n",
      "337 70\n",
      "337 70\n",
      "337 70\n",
      "337 70\n",
      "337 70\n",
      "337 70\n",
      "337 70\n",
      "337 70\n",
      "337 70\n",
      "337 70\n",
      "337 70\n",
      "337 70\n",
      "337 70\n",
      "337 70\n",
      "337 70\n",
      "337 70\n",
      "337 70\n",
      "337 70\n",
      "337 70\n",
      "337 70\n",
      "337 70\n",
      "337 70\n",
      "337 70\n",
      "337 70\n",
      "337 70\n",
      "337 70\n",
      "337 70\n",
      "337 70\n",
      "337 70\n",
      "337 70\n",
      "337 70\n",
      "337 70\n",
      "337 70\n",
      "337 70\n",
      "337 70\n",
      "337 70\n",
      "337 70\n",
      "337 70\n",
      "337 70\n",
      "337 70\n",
      "337 70\n",
      "337 70\n",
      "337 70\n",
      "337 70\n",
      "337 70\n",
      "337 70\n",
      "337 70\n",
      "337 70\n",
      "337 70\n",
      "337 70\n",
      "337 70\n",
      "337 70\n",
      "337 70\n",
      "337 70\n",
      "337 70\n",
      "337 70\n",
      "337 70\n",
      "337 70\n",
      "337 70\n",
      "337 70\n",
      "337 70\n",
      "337 70\n",
      "337 70\n",
      "337 70\n",
      "337 70\n",
      "337 70\n",
      "337 70\n",
      "337 70\n",
      "337 70\n",
      "337 70\n",
      "337 70\n",
      "337 70\n",
      "337 70\n",
      "337 70\n",
      "337 70\n",
      "337 70\n",
      "337 70\n",
      "337 70\n",
      "337 70\n",
      "337 70\n",
      "337 70\n",
      "337 70\n",
      "337 70\n",
      "337 70\n",
      "337 70\n",
      "337 70\n",
      "337 70\n",
      "337 70\n",
      "337 70\n",
      "337 70\n",
      "337 70\n",
      "337 70\n",
      "337 70\n",
      "337 70\n",
      "337 70\n",
      "337 70\n",
      "337 70\n",
      "337 70\n",
      "337 70\n",
      "337 70\n",
      "337 70\n",
      "337 70\n",
      "337 70\n",
      "337 70\n",
      "337 70\n",
      "337 70\n",
      "337 70\n",
      "337 70\n",
      "337 70\n",
      "337 70\n",
      "337 70\n",
      "337 70\n",
      "337 70\n",
      "337 70\n",
      "337 70\n",
      "337 70\n",
      "337 70\n",
      "337 70\n",
      "337 70\n",
      "337 70\n",
      "337 70\n",
      "337 70\n",
      "337 70\n",
      "337 70\n",
      "337 70\n",
      "337 70\n",
      "337 70\n",
      "337 70\n",
      "337 70\n",
      "337 70\n",
      "337 70\n",
      "337 70\n",
      "337 70\n",
      "337 70\n",
      "337 70\n",
      "337 70\n",
      "337 70\n",
      "337 70\n",
      "337 70\n",
      "337 70\n",
      "337 70\n",
      "337 70\n",
      "337 70\n",
      "337 70\n",
      "337 70\n",
      "337 70\n",
      "337 70\n",
      "337 70\n",
      "337 70\n",
      "337 70\n",
      "337 70\n",
      "337 70\n",
      "337 70\n",
      "337 70\n",
      "337 70\n",
      "337 70\n",
      "337 70\n",
      "337 70\n",
      "337 70\n",
      "337 70\n",
      "337 70\n",
      "337 70\n",
      "337 70\n",
      "337 70\n",
      "337 70\n",
      "337 70\n",
      "337 70\n",
      "337 70\n",
      "337 70\n",
      "337 70\n",
      "337 70\n",
      "337 70\n",
      "337 70\n",
      "337 70\n",
      "337 70\n",
      "337 70\n",
      "337 70\n",
      "337 70\n",
      "337 70\n",
      "337 70\n",
      "337 70\n",
      "337 70\n",
      "337 70\n",
      "337 70\n",
      "337 70\n",
      "337 70\n",
      "337 70\n",
      "337 70\n",
      "337 70\n",
      "337 70\n",
      "337 70\n",
      "337 70\n",
      "337 70\n",
      "337 70\n",
      "337 70\n",
      "337 70\n",
      "337 70\n",
      "337 70\n",
      "337 70\n",
      "337 70\n",
      "337 70\n",
      "337 70\n",
      "337 70\n",
      "337 70\n",
      "337 70\n",
      "337 70\n",
      "337 70\n",
      "337 70\n",
      "337 70\n",
      "337 70\n",
      "337 70\n",
      "337 70\n",
      "337 70\n",
      "337 70\n",
      "337 70\n",
      "337 70\n",
      "337 70\n",
      "337 70\n",
      "337 70\n",
      "337 70\n",
      "337 70\n",
      "337 70\n",
      "337 70\n",
      "337 70\n",
      "337 70\n",
      "337 70\n",
      "337 70\n",
      "337 70\n",
      "337 70\n",
      "337 70\n",
      "337 70\n",
      "337 70\n",
      "337 70\n",
      "337 70\n",
      "337 70\n"
     ]
    }
   ],
   "source": [
    "for train,test in splits:\n",
    "    print(len(train),len(test))"
   ]
  },
  {
   "cell_type": "code",
   "execution_count": 5,
   "metadata": {
    "collapsed": false
   },
   "outputs": [
    {
     "data": {
      "text/plain": [
       "(<class 'pandas.core.panel.Panel'>\n",
       " Dimensions: 250 (items) x 338 (major_axis) x 2 (minor_axis)\n",
       " Items axis: 0 to 249\n",
       " Major_axis axis: 0 to 337\n",
       " Minor_axis axis: index to CID, <class 'pandas.core.panel.Panel'>\n",
       " Dimensions: 250 (items) x 69 (major_axis) x 2 (minor_axis)\n",
       " Items axis: 0 to 249\n",
       " Major_axis axis: 0 to 68\n",
       " Minor_axis axis: index to CID)"
      ]
     },
     "execution_count": 5,
     "metadata": {},
     "output_type": "execute_result"
    }
   ],
   "source": [
    "train_sets = pd.Panel(None, items=list(range(100)),\n",
    "                          major_axis=list(range(train_n)),minor_axis=['index','CID'])\n",
    "test_sets = pd.Panel(None, items=list(range(100)),\n",
    "                         major_axis=list(range(test_n)),minor_axis=['index','CID'])\n",
    "for j,(train,test) in enumerate(splits):\n",
    "    train_df = pd.DataFrame(None,index=[list(range(len(train)))],columns=['index','CID'])\n",
    "    for i,x in enumerate(train):\n",
    "        train_df.iloc[i] = x,training_leaderboard_CIDs[x]\n",
    "    train_sets[j] = train_df\n",
    "    \n",
    "    test_df = pd.DataFrame(None,index=[list(range(len(test)))],columns=['index','CID'])\n",
    "    for i,x in enumerate(test):\n",
    "        test_df.iloc[i] = x,training_leaderboard_CIDs[x]\n",
    "    test_sets[j] = test_df\n",
    "\n",
    "train_sets,test_sets"
   ]
  },
  {
   "cell_type": "code",
   "execution_count": 6,
   "metadata": {
    "collapsed": false
   },
   "outputs": [
    {
     "data": {
      "text/html": [
       "<div>\n",
       "<table border=\"1\" class=\"dataframe\">\n",
       "  <thead>\n",
       "    <tr style=\"text-align: right;\">\n",
       "      <th></th>\n",
       "      <th>index</th>\n",
       "      <th>CID</th>\n",
       "    </tr>\n",
       "  </thead>\n",
       "  <tbody>\n",
       "    <tr>\n",
       "      <th>333</th>\n",
       "      <td>145</td>\n",
       "      <td>8093</td>\n",
       "    </tr>\n",
       "    <tr>\n",
       "      <th>334</th>\n",
       "      <td>48</td>\n",
       "      <td>5780</td>\n",
       "    </tr>\n",
       "    <tr>\n",
       "      <th>335</th>\n",
       "      <td>318</td>\n",
       "      <td>61771</td>\n",
       "    </tr>\n",
       "    <tr>\n",
       "      <th>336</th>\n",
       "      <td>312</td>\n",
       "      <td>61408</td>\n",
       "    </tr>\n",
       "    <tr>\n",
       "      <th>337</th>\n",
       "      <td>NaN</td>\n",
       "      <td>NaN</td>\n",
       "    </tr>\n",
       "  </tbody>\n",
       "</table>\n",
       "</div>"
      ],
      "text/plain": [
       "     index    CID\n",
       "333    145   8093\n",
       "334     48   5780\n",
       "335    318  61771\n",
       "336    312  61408\n",
       "337    NaN    NaN"
      ]
     },
     "execution_count": 6,
     "metadata": {},
     "output_type": "execute_result"
    }
   ],
   "source": [
    "train_sets[2].tail()"
   ]
  },
  {
   "cell_type": "code",
   "execution_count": 7,
   "metadata": {
    "collapsed": false
   },
   "outputs": [
    {
     "data": {
      "text/html": [
       "<div>\n",
       "<table border=\"1\" class=\"dataframe\">\n",
       "  <thead>\n",
       "    <tr style=\"text-align: right;\">\n",
       "      <th></th>\n",
       "      <th>index</th>\n",
       "      <th>CID</th>\n",
       "    </tr>\n",
       "  </thead>\n",
       "  <tbody>\n",
       "    <tr>\n",
       "      <th>0</th>\n",
       "      <td>235</td>\n",
       "      <td>14286</td>\n",
       "    </tr>\n",
       "    <tr>\n",
       "      <th>1</th>\n",
       "      <td>324</td>\n",
       "      <td>62332</td>\n",
       "    </tr>\n",
       "    <tr>\n",
       "      <th>2</th>\n",
       "      <td>243</td>\n",
       "      <td>15510</td>\n",
       "    </tr>\n",
       "    <tr>\n",
       "      <th>3</th>\n",
       "      <td>345</td>\n",
       "      <td>101604</td>\n",
       "    </tr>\n",
       "    <tr>\n",
       "      <th>4</th>\n",
       "      <td>281</td>\n",
       "      <td>31265</td>\n",
       "    </tr>\n",
       "  </tbody>\n",
       "</table>\n",
       "</div>"
      ],
      "text/plain": [
       "   index     CID\n",
       "0    235   14286\n",
       "1    324   62332\n",
       "2    243   15510\n",
       "3    345  101604\n",
       "4    281   31265"
      ]
     },
     "execution_count": 7,
     "metadata": {},
     "output_type": "execute_result"
    }
   ],
   "source": [
    "train_sets[2].head()"
   ]
  },
  {
   "cell_type": "code",
   "execution_count": 8,
   "metadata": {
    "collapsed": false
   },
   "outputs": [
    {
     "data": {
      "text/html": [
       "<div>\n",
       "<table border=\"1\" class=\"dataframe\">\n",
       "  <thead>\n",
       "    <tr style=\"text-align: right;\">\n",
       "      <th></th>\n",
       "      <th>index</th>\n",
       "      <th>CID</th>\n",
       "    </tr>\n",
       "  </thead>\n",
       "  <tbody>\n",
       "    <tr>\n",
       "      <th>0</th>\n",
       "      <td>261</td>\n",
       "      <td>23235</td>\n",
       "    </tr>\n",
       "    <tr>\n",
       "      <th>1</th>\n",
       "      <td>122</td>\n",
       "      <td>7824</td>\n",
       "    </tr>\n",
       "    <tr>\n",
       "      <th>2</th>\n",
       "      <td>60</td>\n",
       "      <td>6276</td>\n",
       "    </tr>\n",
       "    <tr>\n",
       "      <th>3</th>\n",
       "      <td>232</td>\n",
       "      <td>14104</td>\n",
       "    </tr>\n",
       "    <tr>\n",
       "      <th>4</th>\n",
       "      <td>135</td>\n",
       "      <td>8030</td>\n",
       "    </tr>\n",
       "  </tbody>\n",
       "</table>\n",
       "</div>"
      ],
      "text/plain": [
       "   index    CID\n",
       "0    261  23235\n",
       "1    122   7824\n",
       "2     60   6276\n",
       "3    232  14104\n",
       "4    135   8030"
      ]
     },
     "execution_count": 8,
     "metadata": {},
     "output_type": "execute_result"
    }
   ],
   "source": [
    "test_sets[0].head()"
   ]
  },
  {
   "cell_type": "code",
   "execution_count": 9,
   "metadata": {
    "collapsed": false
   },
   "outputs": [],
   "source": [
    "# This creates two files.  \n",
    "# One contains the training data indices and the other the test indices.  \n",
    "# Each have one hundred rows, one for each split.  \n",
    "train_sets.minor_xs('CID').transpose().to_csv('../../data/cv_splits_train_bigger.csv',header=False,index=False)\n",
    "test_sets.minor_xs('CID').transpose().to_csv('../../data/cv_splits_test_bigger.csv',header=False,index=False)"
   ]
  },
  {
   "cell_type": "code",
   "execution_count": 10,
   "metadata": {
    "collapsed": false
   },
   "outputs": [
    {
     "data": {
      "text/plain": [
       "250"
      ]
     },
     "execution_count": 10,
     "metadata": {},
     "output_type": "execute_result"
    }
   ],
   "source": [
    "train_sets.minor_xs('CID').transpose().isnull().sum().sum()"
   ]
  }
 ],
 "metadata": {
  "kernelspec": {
   "display_name": "Python 3",
   "language": "python",
   "name": "python3"
  },
  "language_info": {
   "codemirror_mode": {
    "name": "ipython",
    "version": 3
   },
   "file_extension": ".py",
   "mimetype": "text/x-python",
   "name": "python",
   "nbconvert_exporter": "python",
   "pygments_lexer": "ipython3",
   "version": "3.4.1"
  }
 },
 "nbformat": 4,
 "nbformat_minor": 0
}
