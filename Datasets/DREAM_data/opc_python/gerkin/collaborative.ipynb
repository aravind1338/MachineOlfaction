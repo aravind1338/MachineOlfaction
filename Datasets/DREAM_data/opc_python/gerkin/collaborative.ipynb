{
 "cells": [
  {
   "cell_type": "markdown",
   "metadata": {},
   "source": [
    "### Preliminaries"
   ]
  },
  {
   "cell_type": "code",
   "execution_count": 1,
   "metadata": {
    "collapsed": false
   },
   "outputs": [],
   "source": [
    "# Show all figures inline.  \n",
    "%matplotlib inline\n",
    "\n",
    "# Add olfaction-prediction to the Python path.  \n",
    "import os\n",
    "import sys\n",
    "curr_path = os.getcwd()\n",
    "gerkin_path = os.path.split(curr_path)[0]\n",
    "olfaction_prediction_path = os.path.split(gerkin_path)[0]\n",
    "sys.path.append(olfaction_prediction_path)\n",
    "import opc_python\n",
    "\n",
    "# Import numerical libraries.  \n",
    "import numpy as np\n",
    "import matplotlib.pyplot as plt"
   ]
  },
  {
   "cell_type": "code",
   "execution_count": 2,
   "metadata": {
    "collapsed": false
   },
   "outputs": [],
   "source": [
    "# Import generic utility modules I wrote to load the data from the tab-delimited text files and to score predictions.  \n",
    "from opc_python.utils import loading, scoring\n",
    "\n",
    "# Import the modules I wrote for actually shaping and fitting the data to the model.  \n",
    "from opc_python.gerkin import dream,fit1,fit2,params"
   ]
  },
  {
   "cell_type": "markdown",
   "metadata": {},
   "source": [
    "###Load the data"
   ]
  },
  {
   "cell_type": "code",
   "execution_count": 3,
   "metadata": {
    "collapsed": false
   },
   "outputs": [
    {
     "name": "stdout",
     "output_type": "stream",
     "text": [
      "['Compound Identifier', 'Odor', 'Replicate', 'Intensity', 'Dilution', 'subject #', 'INTENSITY/STRENGTH', 'VALENCE/PLEASANTNESS', 'BAKERY', 'SWEET', 'FRUIT', 'FISH', 'GARLIC', 'SPICES', 'COLD', 'SOUR', 'BURNT', 'ACID', 'WARM', 'MUSKY', 'SWEATY', 'AMMONIA/URINOUS', 'DECAYED', 'WOOD', 'GRASS', 'FLOWER', 'CHEMICAL']\n"
     ]
    }
   ],
   "source": [
    "# Load the perceptual descriptors data.  \n",
    "perceptual_headers, perceptual_obs_data = loading.load_perceptual_data('training')\n",
    "loading.format_leaderboard_perceptual_data()\n",
    "# Show the perceptual metadata types and perceptual descriptor names.\n",
    "print(perceptual_headers)"
   ]
  },
  {
   "cell_type": "code",
   "execution_count": 4,
   "metadata": {
    "collapsed": false
   },
   "outputs": [
    {
     "name": "stdout",
     "output_type": "stream",
     "text": [
      "['126', '4-Hydroxybenzaldehyde', False, 'high', '1/10', '1', 37, 60, 0, 72, 0, 0, 0, 0, 0, 0, 0, 0, 0, 0, 0, 0, 0, 0, 0, 0, 0]\n"
     ]
    }
   ],
   "source": [
    "# Show the metadata and perceptual descriptor values for the first compound.\n",
    "print(perceptual_obs_data[1])"
   ]
  },
  {
   "cell_type": "code",
   "execution_count": 5,
   "metadata": {
    "collapsed": false
   },
   "outputs": [
    {
     "name": "stdout",
     "output_type": "stream",
     "text": [
      "There are 21 different perceptual descriptors and 49 different subjects.\n"
     ]
    }
   ],
   "source": [
    "num_descriptors = len(perceptual_headers[6:])\n",
    "num_subjects = 49\n",
    "print('There are %d different perceptual descriptors and %d different subjects.' % (num_descriptors,num_subjects))"
   ]
  },
  {
   "cell_type": "code",
   "execution_count": 6,
   "metadata": {
    "collapsed": false
   },
   "outputs": [
    {
     "name": "stdout",
     "output_type": "stream",
     "text": [
      "First ten molecular descriptor types are ['CID', 'complexity from pubmed', 'MW', 'AMW', 'Sv', 'Se', 'Sp', 'Si', 'Mv', 'Me']\n",
      "First ten descriptor values for the first compound are ['126', 93.1, 122.13, 8.142, 10.01, 15.305, 10.193, 16.664, 0.667, 1.02]\n",
      "We have 4869 molecular descriptors for 476 unique molecules.\n"
     ]
    }
   ],
   "source": [
    "# Load the molecular descriptors data.  \n",
    "molecular_headers, molecular_data = loading.load_molecular_data()\n",
    "print(\"First ten molecular descriptor types are %s\" % molecular_headers[:10])\n",
    "print(\"First ten descriptor values for the first compound are %s\" % molecular_data[0][:10])\n",
    "total_size = len(set([int(row[0]) for row in molecular_data]))\n",
    "print(\"We have %d molecular descriptors for %d unique molecules.\" % \\\n",
    "      (len(molecular_data[0])-1,total_size))"
   ]
  },
  {
   "cell_type": "code",
   "execution_count": 7,
   "metadata": {
    "collapsed": false
   },
   "outputs": [
    {
     "name": "stdout",
     "output_type": "stream",
     "text": [
      "We have perceptual data for 338 unique molecules.\n",
      "138 are left out for testing in the competition; half of these (69) are used for the leaderboard.\n"
     ]
    }
   ],
   "source": [
    "# Determine the size of the training set.  \n",
    "training_size = len(set([int(row[0]) for row in perceptual_obs_data]))\n",
    "print(\"We have perceptual data for %d unique molecules.\" % training_size)\n",
    "remaining_size = total_size - training_size\n",
    "print (\"%d are left out for testing in the competition; half of these (%d) are used for the leaderboard.\" \\\n",
    "       % (remaining_size,remaining_size/2))"
   ]
  },
  {
   "cell_type": "code",
   "execution_count": 8,
   "metadata": {
    "collapsed": false
   },
   "outputs": [
    {
     "name": "stdout",
     "output_type": "stream",
     "text": [
      "There are 35084 rows in the perceptual data set (at least one for each subject and molecule)\n",
      "1960 of these are replicates (same subject and molecules).\n"
     ]
    }
   ],
   "source": [
    "# Determine how many data points there, and how many of these are replicates.  \n",
    "print(\"There are %d rows in the perceptual data set (at least one for each subject and molecule)\" % len(perceptual_obs_data))\n",
    "print(\"%d of these are replicates (same subject and molecules).\" % sum([x[2] for x in perceptual_obs_data]))"
   ]
  },
  {
   "cell_type": "code",
   "execution_count": 9,
   "metadata": {
    "collapsed": false
   },
   "outputs": [],
   "source": [
    "# Get all Chemical IDs and located the data directory.  \n",
    "all_CIDs = sorted(loading.get_CIDs('training')+loading.get_CIDs('leaderboard')+loading.get_CIDs('testset'))\n",
    "DATA = '/Users/rgerkin/Dropbox/science/olfaction-prediction/data/'\n",
    "import pandas"
   ]
  },
  {
   "cell_type": "code",
   "execution_count": 10,
   "metadata": {
    "collapsed": false
   },
   "outputs": [
    {
     "name": "stdout",
     "output_type": "stream",
     "text": [
      "Episuite has 62 features for 476 molecules.\n"
     ]
    }
   ],
   "source": [
    "# Load the Episuite features.  \n",
    "episuite = pandas.read_table('%s/DREAM_episuite_descriptors.txt' % DATA)\n",
    "episuite.iloc[:,49] = 1*(episuite.iloc[:,49]=='YES ')\n",
    "episuite.iloc[:,49]\n",
    "episuite = episuite.iloc[:,2:].as_matrix()\n",
    "print(\"Episuite has %d features for %d molecules.\" % (episuite.shape[1],episuite.shape[0]))"
   ]
  },
  {
   "cell_type": "code",
   "execution_count": 11,
   "metadata": {
    "collapsed": false
   },
   "outputs": [
    {
     "name": "stdout",
     "output_type": "stream",
     "text": [
      "Verbal has 11786 features for 476 molecules.\n"
     ]
    }
   ],
   "source": [
    "# Load the Verbal descriptors (from chemical names).\n",
    "verbal = pandas.read_table('%s/name_features.txt' % DATA, sep='\\t', header=None)\n",
    "verbal = verbal.as_matrix()[:,1:]\n",
    "verbal.shape\n",
    "print(\"Verbal has %d features for %d molecules.\" % (verbal.shape[1],verbal.shape[0]))"
   ]
  },
  {
   "cell_type": "code",
   "execution_count": 12,
   "metadata": {
    "collapsed": false
   },
   "outputs": [
    {
     "name": "stdout",
     "output_type": "stream",
     "text": [
      "Morgan has 2437 features for 476 molecules.\n"
     ]
    }
   ],
   "source": [
    "# Load the Morgan features.  \n",
    "morgan = pandas.read_csv('%s/morgan_sim.csv' % DATA)\n",
    "morgan = morgan.as_matrix()[:,1:]\n",
    "print(\"Morgan has %d features for %d molecules.\" % (morgan.shape[1],morgan.shape[0]))"
   ]
  },
  {
   "cell_type": "code",
   "execution_count": 13,
   "metadata": {
    "collapsed": false
   },
   "outputs": [],
   "source": [
    "# Start to load the NSPDK features.  \n",
    "with open('%s/derived/nspdk_r3_d4_unaug.svm' % DATA) as f:\n",
    "    nspdk_dict = {}\n",
    "    i = 0\n",
    "    while True:\n",
    "        x = f.readline()\n",
    "        if(len(x)):\n",
    "            key_vals = x.split(' ')[1:]\n",
    "            for key_val in key_vals:\n",
    "                key,val = key_val.split(':')\n",
    "                if key in nspdk_dict:\n",
    "                    nspdk_dict[key][all_CIDs[i]] = val\n",
    "                else:\n",
    "                    nspdk_dict[key] = {all_CIDs[i]:val}\n",
    "            i+=1\n",
    "            if i == len(all_CIDs):\n",
    "                break\n",
    "        else:\n",
    "            break\n",
    "nspdk_dict = {key:value for key,value in nspdk_dict.items() if len(value)>1}"
   ]
  },
  {
   "cell_type": "code",
   "execution_count": 14,
   "metadata": {
    "collapsed": false
   },
   "outputs": [
    {
     "name": "stdout",
     "output_type": "stream",
     "text": [
      "NSPDK has 6163 features for 476 molecules.\n"
     ]
    }
   ],
   "source": [
    "# Get the NSPDK features into the right format.  \n",
    "nspdk = np.zeros((len(all_CIDs),len(nspdk_dict)))\n",
    "for j,(feature,facts) in enumerate(nspdk_dict.items()):\n",
    "    for CID,value in facts.items():\n",
    "        i = all_CIDs.index(CID)\n",
    "        nspdk[i,j] = value\n",
    "print(\"NSPDK has %d features for %d molecules.\" % (nspdk.shape[1],nspdk.shape[0]))"
   ]
  },
  {
   "cell_type": "code",
   "execution_count": 15,
   "metadata": {
    "collapsed": false
   },
   "outputs": [
    {
     "name": "stdout",
     "output_type": "stream",
     "text": [
      "NSPDK Gramian has 2437 features for 476 molecules.\n"
     ]
    }
   ],
   "source": [
    "# Load the NSPDK Gramian features.  \n",
    "# These require a large file that is not on GitHub, but can be obtained separately.  \n",
    "nspdk_gramian = pandas.read_table('%s/derived/nspdk_r3_d4_unaug_gramian.mtx' % DATA, delimiter=' ', header=None)\n",
    "nspdk_gramian = nspdk_gramian.as_matrix()[:len(all_CIDs),:]\n",
    "print(\"NSPDK Gramian has %d features for %d molecules.\" % \\\n",
    "      (nspdk_gramian.shape[1],nspdk_gramian.shape[0]))"
   ]
  },
  {
   "cell_type": "code",
   "execution_count": 16,
   "metadata": {
    "collapsed": false
   },
   "outputs": [
    {
     "name": "stdout",
     "output_type": "stream",
     "text": [
      "There are now 15968 total features.\n"
     ]
    }
   ],
   "source": [
    "# Add all these new features to the molecular data dict.  \n",
    "molecular_data_extended = molecular_data.copy()\n",
    "mdx = molecular_data_extended\n",
    "for i,line in enumerate(molecular_data):\n",
    "    CID = int(line[0])\n",
    "    index = all_CIDs.index(CID)\n",
    "    mdx[i] = line + list(episuite[index]) + list(morgan[index]) + list(nspdk[index]) + list(nspdk_gramian[index])\n",
    "print(\"There are now %d total features.\" % (len(mdx[0])-1))"
   ]
  },
  {
   "cell_type": "code",
   "execution_count": 17,
   "metadata": {
    "collapsed": false
   },
   "outputs": [
    {
     "data": {
      "text/plain": [
       "15968"
      ]
     },
     "execution_count": 17,
     "metadata": {},
     "output_type": "execute_result"
    }
   ],
   "source": [
    "4869+62+2437+6163+2437"
   ]
  },
  {
   "cell_type": "markdown",
   "metadata": {},
   "source": [
    "### Create matrices"
   ]
  },
  {
   "cell_type": "code",
   "execution_count": 18,
   "metadata": {
    "collapsed": false
   },
   "outputs": [
    {
     "name": "stdout",
     "output_type": "stream",
     "text": [
      "The X matrix now has shape (676x13914) molecules by non-NaN good molecular descriptors\n",
      "The X matrix now has shape (69x13914) molecules by non-NaN good molecular descriptors\n",
      "The X matrix now has shape (69x13914) molecules by non-NaN good molecular descriptors\n",
      "The X matrix now has shape (69x13914) molecules by non-NaN good molecular descriptors\n",
      "The X matrix now has shape (69x13914) molecules by non-NaN good molecular descriptors\n",
      "The X matrix now has shape (814x13914) molecules by non-NaN good molecular descriptors\n"
     ]
    }
   ],
   "source": [
    "# Create the feature matrices from the feature dicts.  \n",
    "X_training,good1,good2,means,stds,imputer = dream.make_X(mdx,\"training\")\n",
    "X_leaderboard_other,good1,good2,means,stds,imputer = dream.make_X(mdx,\"leaderboard\",target_dilution='high',good1=good1,good2=good2,means=means,stds=stds)\n",
    "X_leaderboard_int,good1,good2,means,stds,imputer = dream.make_X(mdx,\"leaderboard\",target_dilution=-3,good1=good1,good2=good2,means=means,stds=stds)\n",
    "X_testset_other,good1,good2,means,stds,imputer = dream.make_X(mdx,\"testset\",target_dilution='high',good1=good1,good2=good2,means=means,stds=stds)\n",
    "X_testset_int,good1,good2,means,stds,imputer = dream.make_X(mdx,\"testset\",target_dilution=-3,good1=good1,good2=good2,means=means,stds=stds)\n",
    "X_all,good1,good2,means,stds,imputer = dream.make_X(mdx,['training','leaderboard'],good1=good1,good2=good2,means=means,stds=stds)"
   ]
  },
  {
   "cell_type": "code",
   "execution_count": 19,
   "metadata": {
    "collapsed": false
   },
   "outputs": [
    {
     "name": "stdout",
     "output_type": "stream",
     "text": [
      "The Y['mean_std'] matrix now has shape (676x42) molecules by 2 x perceptual descriptors\n",
      "The Y['subject'] dict now has 49 matrices of shape (676x21) molecules by perceptual descriptors, one for each subject\n",
      "The Y['mean_std'] matrix now has shape (676x42) molecules by 2 x perceptual descriptors\n",
      "The Y['subject'] dict now has 49 matrices of shape (676x21) molecules by perceptual descriptors, one for each subject\n"
     ]
    }
   ],
   "source": [
    "# Create descriptor matrices for the training set.  \n",
    "# One is done with median imputation, and the other by masking missing values.  \n",
    "Y_training_imp,imputer = dream.make_Y_obs('training',target_dilution=None,imputer='median')\n",
    "Y_training_mask,imputer = dream.make_Y_obs('training',target_dilution=None,imputer='mask')"
   ]
  },
  {
   "cell_type": "code",
   "execution_count": 20,
   "metadata": {
    "collapsed": false
   },
   "outputs": [
    {
     "name": "stdout",
     "output_type": "stream",
     "text": [
      "The Y['mean_std'] matrix now has shape (69x42) molecules by 2 x perceptual descriptors\n",
      "The Y['subject'] dict now has 49 matrices of shape (69x21) molecules by perceptual descriptors, one for each subject\n",
      "The Y['mean_std'] matrix now has shape (69x42) molecules by 2 x perceptual descriptors\n",
      "The Y['subject'] dict now has 49 matrices of shape (69x21) molecules by perceptual descriptors, one for each subject\n"
     ]
    }
   ],
   "source": [
    "# Create descriptor matrices for the leaderboard set.  \n",
    "# One is done with median imputation, and the other with no imputation \n",
    "Y_leaderboard,imputer = dream.make_Y_obs('leaderboard',target_dilution='gold',imputer='mask')\n",
    "Y_leaderboard_noimpute,_ = dream.make_Y_obs('leaderboard',target_dilution='gold',imputer=None)"
   ]
  },
  {
   "cell_type": "code",
   "execution_count": 21,
   "metadata": {
    "collapsed": false
   },
   "outputs": [
    {
     "name": "stdout",
     "output_type": "stream",
     "text": [
      "The Y['mean_std'] matrix now has shape (814x42) molecules by 2 x perceptual descriptors\n",
      "The Y['subject'] dict now has 49 matrices of shape (814x21) molecules by perceptual descriptors, one for each subject\n",
      "The Y['mean_std'] matrix now has shape (814x42) molecules by 2 x perceptual descriptors\n",
      "The Y['subject'] dict now has 49 matrices of shape (814x21) molecules by perceptual descriptors, one for each subject\n"
     ]
    }
   ],
   "source": [
    "# Create descriptor matrices for the combined training and leaderboard sets.  \n",
    "# One is done with median imputation, and the other by masking missing values.  \n",
    "Y_all_imp,imputer = dream.make_Y_obs(['training','leaderboard'],target_dilution=None,imputer='median')\n",
    "Y_all_mask,imputer = dream.make_Y_obs(['training','leaderboard'],target_dilution=None,imputer='mask')"
   ]
  },
  {
   "cell_type": "markdown",
   "metadata": {},
   "source": [
    "### Data visualization and obtaining fit parameters"
   ]
  },
  {
   "cell_type": "code",
   "execution_count": 22,
   "metadata": {
    "collapsed": false
   },
   "outputs": [
    {
     "data": {
      "image/png": "[encoded data removed]",
      "text/plain": [
       "<matplotlib.figure.Figure at 0x1303b4eb8>"
      ]
     },
     "metadata": {},
     "output_type": "display_data"
    }
   ],
   "source": [
    "# Show the range of values for the molecular and perceptual descriptors.  \n",
    "fig,axes = plt.subplots(1,2,figsize=(10,4))\n",
    "ax = axes.flat\n",
    "ax[0].hist(X_training.ravel())\n",
    "ax[0].set_xlabel('Cube root transformed, N(0,1) normalized molecular descriptor values')\n",
    "ax[1].hist(Y_training_imp['mean_std'][:21].ravel())\n",
    "ax[1].set_xlabel('Perceptual descriptor subject-averaged values')\n",
    "for ax_ in ax:\n",
    "    ax_.set_yscale('log')\n",
    "    ax_.set_ylabel('Count')\n",
    "plt.tight_layout()"
   ]
  },
  {
   "cell_type": "code",
   "execution_count": 23,
   "metadata": {
    "collapsed": false
   },
   "outputs": [
    {
     "data": {
      "text/plain": [
       "0.7453434442856729"
      ]
     },
     "execution_count": 23,
     "metadata": {},
     "output_type": "execute_result"
    },
    {
     "data": {
      "image/png": "[encoded data removed]",
      "text/plain": [
       "<matplotlib.figure.Figure at 0x110a2d8d0>"
      ]
     },
     "metadata": {},
     "output_type": "display_data"
    }
   ],
   "source": [
    "import matplotlib\n",
    "matplotlib.rcParams['font.size'] = 18\n",
    "plt.figure(figsize=(8,6))\n",
    "intensity = Y_leaderboard['mean_std'][:,0]\n",
    "intensity2 = -np.log(100/intensity - 1)\n",
    "intensity2 += 0.9*np.random.randn(69)\n",
    "intensity2 = 100/(1+np.exp(-intensity2))\n",
    "plt.scatter(intensity,intensity2)\n",
    "plt.xlabel('Intensity (predicted)')\n",
    "plt.ylabel('Intensity (actual)')\n",
    "plt.xlim(0,100)\n",
    "plt.ylim(0,100)\n",
    "plt.plot([0,100],[0,100],label='r = 0.75')\n",
    "plt.legend(loc=2)\n",
    "np.corrcoef(intensity,intensity2)[0,1]"
   ]
  },
  {
   "cell_type": "code",
   "execution_count": 24,
   "metadata": {
    "collapsed": false
   },
   "outputs": [
    {
     "data": {
      "text/plain": [
       "0.77460626275011457"
      ]
     },
     "execution_count": 24,
     "metadata": {},
     "output_type": "execute_result"
    },
    {
     "data": {
      "image/png": "[encoded data removed]",
      "text/plain": [
       "<matplotlib.figure.Figure at 0x1103f6ef0>"
      ]
     },
     "metadata": {},
     "output_type": "display_data"
    }
   ],
   "source": [
    "plt.figure(figsize=(8,6))\n",
    "intensity = Y_leaderboard['mean_std'][:,1]\n",
    "intensity2 = -np.log(100/intensity - 1)\n",
    "intensity2 += 0.55*np.random.randn(69)\n",
    "intensity2 = 100/(1+np.exp(-intensity2))\n",
    "plt.scatter(intensity,intensity2)\n",
    "plt.xlabel('Pleasantness (predicted)')\n",
    "plt.ylabel('Pleasantness (actual)')\n",
    "plt.xlim(0,100)\n",
    "plt.ylim(0,100)\n",
    "plt.plot([0,100],[0,100],label='r = 0.70')\n",
    "plt.legend(loc=2)\n",
    "np.corrcoef(intensity,intensity2)[0,1]"
   ]
  },
  {
   "cell_type": "code",
   "execution_count": 25,
   "metadata": {
    "collapsed": false
   },
   "outputs": [
    {
     "data": {
      "image/png": "[encoded data removed]",
      "text/plain": [
       "<matplotlib.figure.Figure at 0x11098ab38>"
      ]
     },
     "metadata": {},
     "output_type": "display_data"
    }
   ],
   "source": [
    "# Plot stdev vs mean for each descriptor, and fit to a theoretically-motivated function.  \n",
    "# These fit parameters will be used in the final model fit.  \n",
    "def f_transformation(x, k0=1.0, k1=1.0):\n",
    "    return 100*(k0*(x/100)**(k1*0.5) - k0*(x/100)**(k1*2))\n",
    "    \n",
    "def sse(x, mean, stdev):\n",
    "    predicted_stdev = f_transformation(mean, k0=x[0], k1=x[1])\n",
    "    sse = np.sum((predicted_stdev - stdev)**2)\n",
    "    return sse\n",
    "\n",
    "matplotlib.rcParams['font.size'] = 12\n",
    "fig,axes = plt.subplots(3,7,sharex=True,sharey=True,figsize=(12,6))\n",
    "ax = axes.flat\n",
    "trans_params = {col:None for col in range(21)}\n",
    "from scipy.optimize import minimize\n",
    "for col in range(len(ax)):    \n",
    "    Y_mean = Y_all_mask['mean_std'][:,col]\n",
    "    Y_stdev = Y_all_mask['mean_std'][:,col+21]\n",
    "    x = [1.0,1.0]\n",
    "    res = minimize(sse, x, args=(Y_mean,Y_stdev), method='L-BFGS-B')\n",
    "    trans_params[col] = res.x # We will use these for our transformations.  \n",
    "    ax[col].scatter(Y_mean,Y_stdev,s=0.1)\n",
    "    x_ = np.linspace(0,100,100)\n",
    "    ax[col].plot(x_,f_transformation(x_, k0=res.x[0], k1=res.x[1]))\n",
    "    ax[col].set_title(perceptual_headers[col+6].split('/')[1 if col==1 else 0])\n",
    "    ax[col].set_xlim(0,100)\n",
    "    ax[col].set_ylim(0,60)\n",
    "    if col == 17:\n",
    "        ax[col].set_xlabel('Mean')\n",
    "    if col == 7:\n",
    "        ax[col].set_ylabel('StDev')\n",
    "plt.tight_layout()\n",
    "plt.savefig('3c.eps',format='eps')"
   ]
  },
  {
   "cell_type": "code",
   "execution_count": 26,
   "metadata": {
    "collapsed": false
   },
   "outputs": [
    {
     "data": {
      "text/plain": [
       "<matplotlib.text.Text at 0x12e2ea0b8>"
      ]
     },
     "execution_count": 26,
     "metadata": {},
     "output_type": "execute_result"
    },
    {
     "data": {
      "image/png": "[encoded data removed]",
      "text/plain": [
       "<matplotlib.figure.Figure at 0x1104356d8>"
      ]
     },
     "metadata": {},
     "output_type": "display_data"
    }
   ],
   "source": [
    "plt.figure(figsize=(6,6))\n",
    "Y_mean = Y_all_mask['mean_std'][:,0]\n",
    "Y_stdev = Y_all_mask['mean_std'][:,0+21]\n",
    "plt.scatter(Y_mean,Y_stdev,color='black')\n",
    "plt.xlabel('Mean Rating',size=18)\n",
    "plt.ylabel('StDev of Rating',size=18)\n",
    "plt.xticks(np.arange(0,101,20),size=15)\n",
    "plt.yticks(np.arange(0,51,10),size=15)\n",
    "plt.xlim(0,100)\n",
    "plt.ylim(0,50)\n",
    "res = minimize(sse, x, args=(Y_mean,Y_stdev), method='L-BFGS-B')\n",
    "plt.plot(x_,f_transformation(x_, k0=res.x[0], k1=res.x[1]),color='cyan',linewidth=5)\n",
    "plt.title('INTENSITY',size=18)"
   ]
  },
  {
   "cell_type": "code",
   "execution_count": 27,
   "metadata": {
    "collapsed": true
   },
   "outputs": [],
   "source": [
    "# Load optimal parameters (obtained from extensive cross-validation).\n",
    "cols = range(42)\n",
    "def get_params(i):\n",
    "    return {col:params.best[col][i] for col in cols}\n",
    "\n",
    "use_et = get_params(0)\n",
    "max_features = get_params(1)\n",
    "max_depth = get_params(2)\n",
    "min_samples_leaf = get_params(3)\n",
    "trans_weight = get_params(4)\n",
    "regularize = get_params(4)\n",
    "use_mask = get_params(5)\n",
    "for col in range(21):\n",
    "    trans_weight[col] = trans_weight[col+21]"
   ]
  },
  {
   "cell_type": "markdown",
   "metadata": {},
   "source": [
    "### Fitting and Generating Submission Files for challenge 2"
   ]
  },
  {
   "cell_type": "code",
   "execution_count": 24,
   "metadata": {
    "collapsed": false
   },
   "outputs": [
    {
     "name": "stdout",
     "output_type": "stream",
     "text": [
      "97.62% [------------------------------------------------- ]For subchallenge 2:\n",
      "\tScore = 9.71\n",
      "\tint_mean = 1.000\n",
      "\tint_sigma = 0.936\n",
      "\tple_mean = 0.699\n",
      "\tple_sigma = 0.237\n",
      "\tdec_mean = 0.516\n",
      "\tdec_sigma = 0.421\n"
     ]
    }
   ],
   "source": [
    "# Fit training data.  \n",
    "# Ignoring warning that arises if too few trees are used.  \n",
    "# Ignore intensity score which is based on within-sample validation, \n",
    "# due to use of ExtraTreesClassifier.\n",
    "n_estimators = 1000\n",
    "rfcs_leaderboard,score,rs = fit2.rfc_final(X_training,Y_training_imp['mean_std'],\n",
    "                                           Y_training_mask['mean_std'],max_features,\n",
    "                                           min_samples_leaf,max_depth,use_et,use_mask,\n",
    "                                           trans_weight,trans_params,\n",
    "                                           n_estimators=n_estimators)"
   ]
  },
  {
   "cell_type": "code",
   "execution_count": 25,
   "metadata": {
    "collapsed": false
   },
   "outputs": [
    {
     "name": "stdout",
     "output_type": "stream",
     "text": [
      "Score: 8.961307; rs = 0.641,0.573,0.569,0.431,0.117,0.499\n",
      "Wrote to file with suffix \"1446422354\"\n"
     ]
    },
    {
     "data": {
      "text/plain": [
       "{'mean_std': array([[ 71.70842857,  41.52902041,   2.94663288, ...,   8.73820076,\n",
       "          13.5852291 ,  27.35685525],\n",
       "        [ 59.89612245,  45.12281633,   1.75245157, ...,   9.3389807 ,\n",
       "          15.71728531,  29.63782626],\n",
       "        [ 20.93204082,  37.60470408,   1.84919165, ...,   7.97196496,\n",
       "          10.26965993,  24.51386267],\n",
       "        ..., \n",
       "        [ 34.5317551 ,  43.47964286,   1.83324128, ...,  15.72799914,\n",
       "          16.31699961,  23.1197447 ],\n",
       "        [ 40.23808163,  45.13152041,   2.66772469, ...,  10.2265469 ,\n",
       "          20.67600147,  23.96670738],\n",
       "        [ 32.96961224,  55.65241837,   2.02220511, ...,  25.55053778,\n",
       "          18.88106105,  24.39162737]]), 'subject': {}}"
      ]
     },
     "execution_count": 25,
     "metadata": {},
     "output_type": "execute_result"
    }
   ],
   "source": [
    "# Make challenge 2 leaderboard prediction files from the models.  \n",
    "loading.make_prediction_files(rfcs_leaderboard,X_leaderboard_int,X_leaderboard_other,\n",
    "                              'leaderboard',2,Y_test=Y_leaderboard_noimpute,\n",
    "                              write=True,trans_weight=trans_weight,trans_params=trans_params)"
   ]
  },
  {
   "cell_type": "code",
   "execution_count": 30,
   "metadata": {
    "collapsed": false
   },
   "outputs": [
    {
     "name": "stdout",
     "output_type": "stream",
     "text": [
      "97.62% [------------------------------------------------- ]For subchallenge 2:\n",
      "\tScore = 14.62\n",
      "\tint_mean = 1.000\n",
      "\tint_sigma = 0.938\n",
      "\tple_mean = 0.970\n",
      "\tple_sigma = 0.784\n",
      "\tdec_mean = 0.818\n",
      "\tdec_sigma = 0.734\n"
     ]
    }
   ],
   "source": [
    "# Fit all available data. \n",
    "# Ignoring warning that arises if too few trees are used.  \n",
    "# Ignore intensity score which is based on within-sample validation, \n",
    "# due to use of ExtraTreesClassifier.\n",
    "n_estimators = 500\n",
    "rfcs,score,rs = fit2.rfc_final(X_all,Y_all_imp['mean_std'],Y_all_mask['mean_std'],\n",
    "                               max_features,min_samples_leaf,max_depth,use_et,use_mask,\n",
    "                               trans_weight,trans_params,n_estimators=n_estimators)"
   ]
  },
  {
   "cell_type": "code",
   "execution_count": 115,
   "metadata": {
    "collapsed": false
   },
   "outputs": [
    {
     "data": {
      "text/plain": [
       "(21, 13914)"
      ]
     },
     "execution_count": 115,
     "metadata": {},
     "output_type": "execute_result"
    }
   ],
   "source": [
    "feature_importances_matrix = np.array([rfcs[i].feature_importances_ for i in range(21)])\n",
    "feature_importances_matrix.shape"
   ]
  },
  {
   "cell_type": "code",
   "execution_count": 112,
   "metadata": {
    "collapsed": false
   },
   "outputs": [
    {
     "name": "stdout",
     "output_type": "stream",
     "text": [
      "13914\n"
     ]
    }
   ],
   "source": [
    "episuite = pandas.read_table('%s/DREAM_episuite_descriptors.txt' % DATA)\n",
    "morgan = pandas.read_csv('%s/morgan_sim.csv' % DATA)\n",
    "feature_list = []\n",
    "feature_list += ['dragon_'+x for x in molecular_headers[1:]]\n",
    "feature_list += ['episuite_'+x for x in list(episuite)[2:]]\n",
    "feature_list += ['morgan_'+x for x in list(morgan)[1:]]\n",
    "feature_list += ['nspdk_'+x for x in nspdk_dict.keys()]\n",
    "feature_list += ['nspdkgramian_'+str(x) for x in range(2437)]\n",
    "feature_list += ['conc_absolute','conc_relative']\n",
    "feature_list = [x for i,x in enumerate(feature_list) if i in good1]\n",
    "feature_list = [x for i,x in enumerate(feature_list) if i in good2]\n",
    "print(len(feature_list))"
   ]
  },
  {
   "cell_type": "code",
   "execution_count": 120,
   "metadata": {
    "collapsed": false
   },
   "outputs": [],
   "source": [
    "feature_importances = pandas.DataFrame(data=feature_importances_matrix.T,index=feature_list,columns=perceptual_headers[6:])\n",
    "feature_importances.head()\n",
    "feature_importances.to_csv('feature_importances.csv')"
   ]
  },
  {
   "cell_type": "code",
   "execution_count": 27,
   "metadata": {
    "collapsed": false
   },
   "outputs": [
    {
     "name": "stdout",
     "output_type": "stream",
     "text": [
      "Wrote to file with suffix \"1446435104\"\n"
     ]
    },
    {
     "data": {
      "text/plain": [
       "{'mean_std': array([[ 21.89636735,  39.71637755,   1.90954771, ...,   9.98683842,\n",
       "          10.47795684,  31.54727994],\n",
       "        [ 27.75355102,  44.74494898,   2.07851814, ...,   8.11799799,\n",
       "          10.28496659,  20.71858811],\n",
       "        [ 59.63055102,  30.67554082,   1.8075775 , ...,   8.12056301,\n",
       "          10.21969347,  25.82426989],\n",
       "        ..., \n",
       "        [ 53.15091837,  51.24417347,   2.27342287, ...,  33.55969447,\n",
       "          18.75528304,  20.69043221],\n",
       "        [ 33.36522449,  49.04045918,   1.97972904, ...,  14.68861211,\n",
       "          17.35520645,  23.22568437],\n",
       "        [ 23.50810204,  49.45904082,   1.90788221, ...,  22.12489258,\n",
       "          22.48449568,  33.0394573 ]]), 'subject': {}}"
      ]
     },
     "execution_count": 27,
     "metadata": {},
     "output_type": "execute_result"
    }
   ],
   "source": [
    "# Make challenge 2 testset prediction files from the models.  \n",
    "loading.make_prediction_files(rfcs,X_testset_int,X_testset_other,'testset',2,write=True,\n",
    "                              trans_weight=trans_weight,trans_params=trans_params)"
   ]
  },
  {
   "cell_type": "code",
   "execution_count": 28,
   "metadata": {
    "collapsed": false,
    "scrolled": true
   },
   "outputs": [
    {
     "name": "stdout",
     "output_type": "stream",
     "text": [
      "98.00% [------------------------------------------------- ]For subchallenge 1:\n",
      "\tScore = 37.12\n",
      "\tint = 0.843\n",
      "\tple = 0.402\n",
      "\tdec = 0.182\n"
     ]
    },
    {
     "name": "stderr",
     "output_type": "stream",
     "text": [
      "/anaconda/lib/python3.4/site-packages/numpy/ma/core.py:3900: UserWarning: Warning: converting a masked element to nan.\n",
      "  warnings.warn(\"Warning: converting a masked element to nan.\")\n"
     ]
    }
   ],
   "source": [
    "# Fit training data for subchallenge 1.  \n",
    "# Ignoring warning that arises if too few trees are used.  \n",
    "# Ignore intensity score which is based on within-sample validation, \n",
    "# due to use of ExtraTreesClassifier.\n",
    "n_estimators = 50\n",
    "rfcs_leaderboard,score,rs = fit1.rfc_final(X_training,Y_training_imp['subject'],max_features,\n",
    "                                           min_samples_leaf,max_depth,use_et,\n",
    "                                           Y_test=Y_leaderboard_noimpute['subject'],\n",
    "                                           regularize=regularize,\n",
    "                                           n_estimators=n_estimators)"
   ]
  },
  {
   "cell_type": "code",
   "execution_count": 29,
   "metadata": {
    "collapsed": false
   },
   "outputs": [
    {
     "name": "stdout",
     "output_type": "stream",
     "text": [
      "Score: 27.753160; rs = 0.429,0.317,0.178\n",
      "Wrote to file with suffix \"1446474725\"\n"
     ]
    },
    {
     "data": {
      "text/plain": [
       "{'subject': {1: array([[ 63.42269388,  43.78285714,   2.09603111, ...,   1.13950434,\n",
       "            2.5056629 ,  13.40066528],\n",
       "         [ 59.30073469,  45.47671429,   1.22167694, ...,   2.25695301,\n",
       "            3.08044954,  14.100113  ],\n",
       "         [ 23.14522449,  41.08514286,   1.45208672, ...,   1.35192001,\n",
       "            1.79131942,   6.01025857],\n",
       "         ..., \n",
       "         [ 32.31722449,  43.89757143,   1.51561664, ...,   3.6759995 ,\n",
       "            4.28113598,   7.1933659 ],\n",
       "         [ 39.77044898,  43.55385714,   4.83840181, ...,   2.96249798,\n",
       "            7.16240494,  17.33127877],\n",
       "         [ 42.22220408,  50.43414286,   2.24900751, ...,   8.99311304,\n",
       "            5.69282902,  10.37460239]]),\n",
       "  2: array([[ 65.46269388,  49.94485714,   2.65306529, ...,   1.0458901 ,\n",
       "            2.51593386,  12.89772164],\n",
       "         [ 62.24073469,  46.44571429,   1.28782724, ...,   2.26505963,\n",
       "            3.12775306,  14.64866416],\n",
       "         [ 28.37722449,  40.44614286,   1.63452993, ...,   1.35202984,\n",
       "            1.8017015 ,   6.469755  ],\n",
       "         ..., \n",
       "         [ 33.29722449,  46.51957143,   1.58176694, ...,   3.8762171 ,\n",
       "            4.20577276,   6.96001067],\n",
       "         [ 38.84244898,  49.74285714,   5.10544677, ...,   2.97860781,\n",
       "            7.45053802,  15.26246149],\n",
       "         [ 43.01420408,  56.94114286,   2.31515781, ...,  10.73251381,\n",
       "            5.29367888,  10.08977967]]),\n",
       "  3: array([[ 61.81469388,  44.39485714,   2.5286753 , ...,   1.04643408,\n",
       "            4.00960435,  12.34334894],\n",
       "         [ 55.98473469,  50.31871429,   1.25293998, ...,   2.25788274,\n",
       "            5.52053802,  14.44256502],\n",
       "         [ 28.50522449,  40.11914286,   1.48334977, ...,   1.74884974,\n",
       "            2.85926968,   8.09825857],\n",
       "         ..., \n",
       "         [ 28.08522449,  42.99457143,   1.54687968, ...,   3.67692924,\n",
       "            6.86775163,   7.40806214],\n",
       "         [ 34.16644898,  43.42785714,   4.86966486, ...,   3.1153631 ,\n",
       "            9.27740202,  15.54593391],\n",
       "         [ 36.97420408,  55.46814286,   2.28027056, ...,   9.00404277,\n",
       "            9.85746107,   9.99688771]]),\n",
       "  4: array([[ 64.36669388,  47.15485714,   2.0506207 , ...,   1.40056612,\n",
       "            7.64074345,  14.15866528],\n",
       "         [ 64.68473469,  47.99671429,   1.24226653, ...,   2.26412769,\n",
       "            8.96340612,  17.052113  ],\n",
       "         [ 31.66522449,  47.28914286,   1.47267631, ...,   1.53081136,\n",
       "            6.68323572,   6.31825857],\n",
       "         ..., \n",
       "         [ 35.78122449,  55.21657143,   1.53620623, ...,   4.37422073,\n",
       "           10.6810825 ,   7.4693659 ],\n",
       "         [ 40.55444898,  44.96385714,   5.06351935, ...,   4.28782267,\n",
       "           15.53654226,  18.83527877],\n",
       "         [ 40.35020408,  58.75014286,   2.2695971 , ...,   8.99944462,\n",
       "           15.77619895,  11.12660239]]),\n",
       "  5: array([[ 62.21469388,  43.56685714,   2.03283755, ...,   1.04550434,\n",
       "            2.55837771,  12.0789182 ],\n",
       "         [ 61.02473469,  46.34671429,   1.22448337, ...,   2.25695301,\n",
       "            3.13316435,  13.99832195],\n",
       "         [ 25.68522449,  42.18914286,   1.45489316, ...,   1.35192001,\n",
       "            1.84414535,   7.29039441],\n",
       "         ..., \n",
       "         [ 28.29322449,  42.49657143,   1.51842307, ...,   3.7559995 ,\n",
       "            4.24719727,   6.67559368],\n",
       "         [ 37.74244898,  43.18485714,   4.84086257, ...,   3.09649798,\n",
       "            7.34942401,  15.47247914],\n",
       "         [ 40.27420408,  52.77414286,   3.096853  , ...,   8.99311304,\n",
       "            5.50104211,   9.25676062]]),\n",
       "  6: array([[ 58.04269388,  42.39985714,   2.16133082, ...,   1.04550434,\n",
       "            2.59977919,  11.97867876],\n",
       "         [ 48.80873469,  46.14871429,   1.26097665, ...,   2.25695301,\n",
       "            3.09336832,  13.73812648],\n",
       "         [ 22.04122449,  42.33014286,   1.44938643, ...,   1.35192001,\n",
       "            1.80434931,   5.94827205],\n",
       "         ..., \n",
       "         [ 26.42522449,  43.61857143,   1.51291635, ...,   3.6759995 ,\n",
       "            4.20833097,   6.67936787],\n",
       "         [ 30.86244898,  44.16885714,   4.86765586, ...,   2.96249798,\n",
       "            7.20246657,  15.21129225],\n",
       "         [ 34.55020408,  53.61114286,   2.24630722, ...,   8.99311304,\n",
       "            5.48247221,   9.19861588]]),\n",
       "  7: array([[ 64.85069388,  43.32685714,   2.1036401 , ...,   1.04550434,\n",
       "            2.5306339 ,  12.54066808],\n",
       "         [ 65.72073469,  48.71071429,   1.21928593, ...,   2.25695301,\n",
       "            4.00211951,  16.3161158 ],\n",
       "         [ 26.25722449,  32.85914286,   1.44969571, ...,   1.35192001,\n",
       "            1.81640154,   6.21626137],\n",
       "         ..., \n",
       "         [ 40.58122449,  39.20557143,   1.51322563, ...,   3.8379995 ,\n",
       "            4.34947855,   7.4633687 ],\n",
       "         [ 42.31044898,  40.90785714,   5.20373808, ...,   2.96249798,\n",
       "            8.29491923,  16.16527877],\n",
       "         [ 43.58620408,  59.25414286,   2.2466165 , ...,   9.15511304,\n",
       "            5.67837745,  10.7646052 ]]),\n",
       "  8: array([[ 65.35469388,  42.93385714,   2.25061861, ...,   1.04550434,\n",
       "            2.50539134,  12.04066528],\n",
       "         [ 61.70473469,  45.04171429,   1.25337272, ...,   2.25695301,\n",
       "            3.08017799,  13.648113  ],\n",
       "         [ 30.21722449,  42.24914286,   1.4837825 , ...,   1.35192001,\n",
       "            1.79115898,   5.94025857],\n",
       "         ..., \n",
       "         [ 33.15322449,  45.58057143,   1.54731242, ...,   4.0759995 ,\n",
       "            5.79496317,   8.6673659 ],\n",
       "         [ 35.50244898,  45.84885714,   5.02155747, ...,   3.13049798,\n",
       "            7.56127624,  15.16727877],\n",
       "         [ 44.80220408,  53.35314286,   2.34193786, ...,  10.59311304,\n",
       "            5.37101404,   9.29260239]]),\n",
       "  9: array([[ 59.43869388,  43.23385714,   2.03914769, ...,   1.13878655,\n",
       "            3.17403451,  11.8613939 ],\n",
       "         [ 64.99273469,  43.13971429,   1.23079352, ...,   2.93498399,\n",
       "            4.12616933,  15.92610822],\n",
       "         [ 32.00122449,  34.05314286,   1.46120331, ...,   1.58582707,\n",
       "            2.73183562,   6.25098719],\n",
       "         ..., \n",
       "         [ 28.73722449,  44.60557143,   1.52473322, ...,   4.50707153,\n",
       "            4.90006859,   7.21999371],\n",
       "         [ 36.12244898,  49.58385714,   5.50285721, ...,   3.65637286,\n",
       "           11.14634729,  19.48553858],\n",
       "         [ 40.87820408,  50.41914286,   2.2581241 , ...,  11.63901175,\n",
       "            6.14619084,   9.36730596]]),\n",
       "  10: array([[ 64.25469388,  41.13985714,   2.02719666, ...,   1.04551727,\n",
       "            2.49587635,  14.70315473],\n",
       "         [ 50.96073469,  45.15571429,   1.21884248, ...,   2.25696593,\n",
       "            3.07066299,  14.510686  ],\n",
       "         [ 26.10522449,  37.72214286,   1.44925227, ...,   1.35193293,\n",
       "            1.78164399,   6.12517342],\n",
       "         ..., \n",
       "         [ 27.10522449,  43.72357143,   1.90270612, ...,   3.67601243,\n",
       "            4.34971525,   6.72617075],\n",
       "         [ 33.59444898,  46.30785714,   4.85931736, ...,   2.96309914,\n",
       "            7.27576125,  15.11811197],\n",
       "         [ 35.11020408,  53.71314286,   2.24617306, ...,   9.07312596,\n",
       "            5.27362137,  11.89326991]]),\n",
       "  11: array([[ 64.27469388,  39.45385714,   2.10680543, ...,   1.04556139,\n",
       "            3.39729053,  11.86083769],\n",
       "         [ 65.22073469,  39.56071429,   1.28366623, ...,   2.25701006,\n",
       "            3.17063973,  14.05116709],\n",
       "         [ 23.13722449,  39.93914286,   1.47490754, ...,   1.35197706,\n",
       "            1.88162072,   7.04439936],\n",
       "         ..., \n",
       "         [ 30.98922449,  42.78157143,   1.53843746, ...,   3.92205655,\n",
       "            4.65491637,   6.66853831],\n",
       "         [ 38.52244898,  46.16385714,   5.17987155, ...,   3.13455503,\n",
       "           10.43973752,  15.64343606],\n",
       "         [ 43.03420408,  47.97414286,   2.27182833, ...,   9.64317009,\n",
       "            5.37359811,  10.52074501]]),\n",
       "  12: array([[ 63.79869388,  41.55985714,   2.18775531, ...,   1.05665376,\n",
       "            2.61266192,  12.32628369],\n",
       "         [ 59.99273469,  42.02071429,   1.37940113, ...,   2.27880135,\n",
       "            3.31408399,  13.89271565],\n",
       "         [ 34.15322449,  39.32714286,   1.60464266, ...,   1.3577781 ,\n",
       "            1.89842956,   6.41905355],\n",
       "         ..., \n",
       "         [ 30.81722449,  43.40857143,   1.67334083, ...,   4.05354303,\n",
       "            4.61900234,   7.78992152],\n",
       "         [ 33.46244898,  42.57285714,   4.98894349, ...,   3.13155519,\n",
       "            7.47467973,  15.77994816],\n",
       "         [ 41.64620408,  52.42314286,   2.87224946, ...,   9.57346733,\n",
       "            7.19398909,   9.16548146]]),\n",
       "  13: array([[ 65.47469388,  45.35785714,   2.75293268, ...,   1.63344392,\n",
       "            4.55516945,  15.50866528],\n",
       "         [ 62.54073469,  44.35471429,   1.53973144, ...,   5.38057634,\n",
       "            5.16348499,  16.096113  ],\n",
       "         [ 27.80522449,  39.88814286,   2.19421671, ...,   1.55731594,\n",
       "            2.93302424,   7.77626687],\n",
       "         ..., \n",
       "         [ 33.71322449,  43.28257143,   2.19340456, ...,   4.73449854,\n",
       "            6.77021983,   8.3613659 ],\n",
       "         [ 38.16644898,  47.63985714,   5.16865908, ...,   3.72047016,\n",
       "           11.8813074 ,  17.76127877],\n",
       "         [ 43.95820408,  51.64014286,   2.56706201, ...,  12.17393662,\n",
       "           10.37380641,  12.76261069]]),\n",
       "  14: array([[ 57.59469388,  38.51785714,   2.02688054, ...,   1.04550434,\n",
       "            2.64684236,  13.37266528],\n",
       "         [ 56.03673469,  48.74971429,   1.21852637, ...,   2.25695301,\n",
       "            3.46996459,  13.808113  ],\n",
       "         [ 26.62922449,  42.12314286,   1.44893616, ...,   1.35192001,\n",
       "            1.93427924,   6.37325857],\n",
       "         ..., \n",
       "         [ 28.18922449,  43.48057143,   1.51246607, ...,   4.0759995 ,\n",
       "            6.12780044,   6.6593659 ],\n",
       "         [ 35.64644898,  45.74985714,   5.02325125, ...,   2.96249798,\n",
       "           17.60488838,  14.95327877],\n",
       "         [ 35.43820408,  52.53414286,   2.24585695, ...,  10.79311304,\n",
       "            6.61525612,   9.16460239]]),\n",
       "  15: array([[ 60.45869388,  41.45185714,   2.29671409, ...,   1.20036294,\n",
       "            3.36224113,  14.44272576],\n",
       "         [ 54.48473469,  44.78671429,   1.42884192, ...,   2.25987192,\n",
       "            4.26404211,  16.698113  ],\n",
       "         [ 22.13722449,  43.25714286,   2.05089869, ...,   1.35483892,\n",
       "            2.34958384,   7.24834258],\n",
       "         ..., \n",
       "         [ 31.34522449,  43.74157143,   1.70411035, ...,   4.05880783,\n",
       "            5.22097152,   7.35342638],\n",
       "         [ 35.05044898,  42.08385714,   5.0913391 , ...,   3.05336639,\n",
       "            8.09879103,  16.50133925],\n",
       "         [ 35.99020408,  51.44214286,   3.0349889 , ...,   8.99603195,\n",
       "            6.17231057,  12.12662592]]),\n",
       "  16: array([[ 64.11069388,  38.15485714,   2.04448047, ...,   1.26438349,\n",
       "            3.13022734,  14.10566528],\n",
       "         [ 61.05273469,  39.86371429,   1.23644242, ...,   2.44229887,\n",
       "            3.6102904 ,  15.165113  ],\n",
       "         [ 29.92522449,  37.97114286,   1.4668522 , ...,   1.46322622,\n",
       "            2.36828988,   6.79225857],\n",
       "         ..., \n",
       "         [ 33.16522449,  41.85757143,   1.57118321, ...,   3.83858739,\n",
       "            4.71722814,   7.6713659 ],\n",
       "         [ 38.06644898,  45.23985714,   5.3625018 , ...,   3.39672881,\n",
       "           11.36140933,  16.39727877],\n",
       "         [ 42.92220408,  49.86114286,   2.3016035 , ...,   9.19219346,\n",
       "            6.231819  ,  12.04460239]]),\n",
       "  17: array([[ 62.04269388,  42.53485714,   2.02688054, ...,   1.04550434,\n",
       "            2.49587635,  12.75612812],\n",
       "         [ 53.93673469,  44.18071429,   1.21852637, ...,   2.25695301,\n",
       "            3.11466299,  14.31520998],\n",
       "         [ 21.14522449,  41.75414286,   1.44893616, ...,   1.35192001,\n",
       "            1.78164399,   6.78866361],\n",
       "         ..., \n",
       "         [ 27.92122449,  44.90857143,   1.51246607, ...,   3.6759995 ,\n",
       "            4.18571525,   6.72674973],\n",
       "         [ 33.43844898,  44.36685714,   5.11525125, ...,   2.96249798,\n",
       "            7.30376125,  15.60306025],\n",
       "         [ 40.43420408,  50.41014286,   2.24585695, ...,   8.99311304,\n",
       "            5.34562137,   9.78557163]]),\n",
       "  18: array([[ 67.86269388,  35.13685714,   2.32104231, ...,   1.06750434,\n",
       "            2.75701451,  12.26068856],\n",
       "         [ 59.48073469,  44.87371429,   1.23035537, ...,   2.25695301,\n",
       "            3.73336452,  13.76214058],\n",
       "         [ 23.64922449,  39.21014286,   1.46076515, ...,   1.35192001,\n",
       "            2.44608903,   6.22827142],\n",
       "         ..., \n",
       "         [ 34.14122449,  40.83757143,   1.52429507, ...,   3.6759995 ,\n",
       "            6.24184952,   6.62339349],\n",
       "         [ 43.91844898,  44.51685714,   4.84708024, ...,   3.18249798,\n",
       "            8.20217577,  15.31529994],\n",
       "         [ 37.21020408,  51.55314286,   2.67238094, ...,   8.99311304,\n",
       "            6.44625911,   9.94262998]]),\n",
       "  19: array([[ 65.68669388,  39.51685714,   2.46455159, ...,   1.04550434,\n",
       "            2.49906281,  12.12466938],\n",
       "         [ 61.22473469,  44.75671429,   1.22078906, ...,   2.35695301,\n",
       "            3.53014308,  14.5301171 ],\n",
       "         [ 21.61722449,  39.98714286,   1.45119884, ...,   1.35192001,\n",
       "            1.78483045,   5.93826268],\n",
       "         ..., \n",
       "         [ 33.71722449,  43.42057143,   1.51472875, ...,   3.6759995 ,\n",
       "            4.53970096,   7.29537001],\n",
       "         [ 38.43844898,  42.39885714,   5.03723954, ...,   3.08449798,\n",
       "            7.29386275,  18.24327877],\n",
       "         [ 41.09420408,  55.09614286,   2.24811963, ...,   8.99311304,\n",
       "            7.73905305,   9.8046065 ]]),\n",
       "  20: array([[ 64.98269388,  44.26585714,   2.23878914, ...,   1.19061144,\n",
       "            2.63354929,  14.50066528],\n",
       "         [ 58.23673469,  46.02871429,   1.23157031, ...,   2.36952939,\n",
       "            4.37888719,  14.676113  ],\n",
       "         [ 22.64522449,  40.97714286,   1.46198009, ...,   1.50077373,\n",
       "            1.91931693,   6.29625857],\n",
       "         ..., \n",
       "         [ 35.58522449,  45.55357143,   1.52551001, ...,   3.97303758,\n",
       "            4.48359817,   7.4433659 ],\n",
       "         [ 36.57044898,  44.03985714,   5.22263552, ...,   3.01916364,\n",
       "            7.64946567,  16.28327877],\n",
       "         [ 37.57020408,  53.34714286,   2.3225041 , ...,   9.13860977,\n",
       "            5.88228211,   9.91260239]]),\n",
       "  21: array([[ 64.37469388,  37.71085714,   2.07981024, ...,   1.08328777,\n",
       "            2.72790225,  12.87127607],\n",
       "         [ 62.61273469,  43.19371429,   1.46891093, ...,   2.74184274,\n",
       "            3.84807731,  15.16514944],\n",
       "         [ 22.66522449,  38.02814286,   1.50215885, ...,   1.35975642,\n",
       "            1.97040872,   6.04394247],\n",
       "         ..., \n",
       "         [ 37.27722449,  43.32457143,   1.56568876, ...,   3.69122798,\n",
       "            4.37100546,   7.37976614],\n",
       "         [ 41.00644898,  42.50385714,   5.17456964, ...,   2.99158678,\n",
       "            7.41905908,  15.39654078],\n",
       "         [ 36.93820408,  47.65614286,   2.29907964, ...,   9.1186375 ,\n",
       "            5.44919174,  10.58782006]]),\n",
       "  22: array([[ 66.66269388,  39.15385714,   2.70379595, ...,   1.04550434,\n",
       "            2.58359067,  12.57466528],\n",
       "         [ 60.88473469,  42.48871429,   2.91660901, ...,   2.25695301,\n",
       "            3.4630955 ,  13.768113  ],\n",
       "         [ 23.65722449,  34.39514286,   2.92642339, ...,   1.35192001,\n",
       "            1.83618763,   6.38425857],\n",
       "         ..., \n",
       "         [ 35.36922449,  44.60557143,   2.25582051, ...,   3.6759995 ,\n",
       "            4.516747  ,   7.0833659 ],\n",
       "         [ 41.85444898,  42.11685714,   6.119595  , ...,   3.10049798,\n",
       "            8.73596333,  15.26327877],\n",
       "         [ 40.63420408,  50.08014286,   4.30435498, ...,   9.40711304,\n",
       "            6.38281044,   9.58060239]]),\n",
       "  23: array([[ 63.41869388,  41.93185714,   2.05554335, ...,   1.05404025,\n",
       "            2.66444821,  11.99266917],\n",
       "         [ 58.82873469,  45.61171429,   1.26647023, ...,   2.48735335,\n",
       "            3.24358759,  14.21811492],\n",
       "         [ 21.47722449,  41.48714286,   1.47363583, ...,   1.35248746,\n",
       "            1.93248011,   6.42626049],\n",
       "         ..., \n",
       "         [ 31.22922449,  44.21557143,   1.53688778, ...,   4.07245789,\n",
       "            4.57605247,   6.7853698 ],\n",
       "         [ 34.02644898,  43.02285714,   4.87659577, ...,   3.06081076,\n",
       "            8.27545367,  15.12328266],\n",
       "         [ 36.67020408,  51.76014286,   2.27055661, ...,   9.97134553,\n",
       "            5.56248602,   9.47460431]]),\n",
       "  24: array([[ 67.98669388,  39.57085714,   2.14386606, ...,   1.14417028,\n",
       "            2.52683505,  16.28555688],\n",
       "         [ 63.59273469,  43.26871429,   1.21964384, ...,   2.45528346,\n",
       "            3.1413942 ,  14.23367832],\n",
       "         [ 29.45322449,  41.70914286,   1.45005363, ...,   1.50461756,\n",
       "            1.81260269,   6.57165774],\n",
       "         ..., \n",
       "         [ 38.07322449,  44.26057143,   1.51358354, ...,   3.77472603,\n",
       "            4.57525279,   6.90651356],\n",
       "         [ 40.49844898,  43.02885714,   4.84634406, ...,   2.99716165,\n",
       "            9.16645512,  16.4023924 ],\n",
       "         [ 43.09020408,  51.18114286,   2.24697442, ...,   9.08751676,\n",
       "            5.4474233 ,   9.98994496]]),\n",
       "  25: array([[ 66.81069388,  39.55885714,   2.51490392, ...,   2.05416615,\n",
       "            3.49539593,  18.46466528],\n",
       "         [ 61.14873469,  44.17471429,   1.70654975, ...,   3.45915827,\n",
       "            4.60761251,  19.568113  ],\n",
       "         [ 28.31722449,  38.83514286,   1.93695954, ...,   3.93989311,\n",
       "            2.69951328,  12.03825857],\n",
       "         ..., \n",
       "         [ 37.65722449,  41.00557143,   2.45576655, ...,   6.46108734,\n",
       "            7.097447  ,  12.2653659 ],\n",
       "         [ 39.56644898,  41.54985714,   7.97608965, ...,   5.66739511,\n",
       "            9.97711506,  19.93727877],\n",
       "         [ 45.83020408,  52.90614286,   4.81696964, ...,  11.19652146,\n",
       "           10.95545779,  13.11860239]]),\n",
       "  26: array([[ 64.95069388,  46.22485714,   3.00498163, ...,   1.08981931,\n",
       "            2.56575844,  13.69866528],\n",
       "         [ 60.50473469,  46.51771429,   2.00804685, ...,   3.29582979,\n",
       "            3.61437423,  16.014113  ],\n",
       "         [ 28.39322449,  44.07614286,   2.36391439, ...,   1.39600264,\n",
       "            1.85152608,   6.95500152],\n",
       "         ..., \n",
       "         [ 35.91322449,  46.34857143,   2.39456412, ...,   4.28326434,\n",
       "            4.92311843,   7.61002609],\n",
       "         [ 43.74244898,  46.91985714,   6.1144361 , ...,   3.0136115 ,\n",
       "            7.5156696 ,  18.57127877],\n",
       "         [ 41.05420408,  55.28214286,   2.99818206, ...,  12.00148936,\n",
       "            6.21584441,  10.20126259]]),\n",
       "  27: array([[ 63.38269388,  47.40685714,   2.25687717, ...,   1.04550434,\n",
       "            3.29337316,  15.36666528],\n",
       "         [ 59.36473469,  45.88171429,   1.24725599, ...,   2.25695301,\n",
       "            4.47993341,  15.810113  ],\n",
       "         [ 27.16922449,  37.86314286,   1.47766578, ...,   1.35192001,\n",
       "            2.30387017,   7.57025857],\n",
       "         ..., \n",
       "         [ 28.65322449,  41.81857143,   1.65671103, ...,   3.8419995 ,\n",
       "            5.1474692 ,   8.6933659 ],\n",
       "         [ 37.44644898,  42.93585714,   4.86398087, ...,   3.16249798,\n",
       "            7.90024588,  18.48727877],\n",
       "         [ 37.97020408,  53.38314286,   2.40758925, ...,   9.62711304,\n",
       "            6.96136896,  12.55860239]]),\n",
       "  28: array([[ 66.87069388,  45.46885714,   2.14074522, ...,   1.3358472 ,\n",
       "            4.50475765,  12.63466729],\n",
       "         [ 61.94873469,  44.17471429,   1.33239105, ...,   3.50728354,\n",
       "            4.39328536,  13.97411501],\n",
       "         [ 22.44522449,  44.84414286,   1.62615389, ...,   1.58616447,\n",
       "            3.02076927,   6.17225857],\n",
       "         ..., \n",
       "         [ 29.02922449,  44.73157143,   1.62633074, ...,   7.90470814,\n",
       "            7.59722713,   7.10536791],\n",
       "         [ 35.65444898,  45.28785714,   4.94911592, ...,   4.76879789,\n",
       "           12.76312045,  15.12727877],\n",
       "         [ 38.45020408,  52.00614286,   2.35972162, ...,  11.91338742,\n",
       "            6.479585  ,   9.16460441]]),\n",
       "  29: array([[ 68.01069388,  38.32585714,   2.02688054, ...,   1.24743474,\n",
       "            2.97358949,  11.86066528],\n",
       "         [ 54.61273469,  47.32471429,   1.21852637, ...,   2.25812894,\n",
       "            3.75671046,  13.608113  ],\n",
       "         [ 23.85322449,  33.65714286,   1.44893616, ...,   1.35385041,\n",
       "            2.11721727,   7.13825857],\n",
       "         ..., \n",
       "         [ 40.51322449,  42.51457143,   1.51246607, ...,   3.6779299 ,\n",
       "            4.48806583,   6.8393659 ],\n",
       "         [ 42.54244898,  42.07485714,   4.83525125, ...,   3.16442838,\n",
       "            7.97758179,  19.53527877],\n",
       "         [ 41.21420408,  47.33214286,   2.24585695, ...,   8.99488267,\n",
       "            5.57597196,  10.43660239]]),\n",
       "  30: array([[ 61.30669388,  46.47385714,   2.61923481, ...,   1.12775837,\n",
       "            3.14120014,  12.83125449],\n",
       "         [ 56.97273469,  45.65071429,   1.26120449, ...,   2.77330128,\n",
       "            3.67237482,  17.33130279],\n",
       "         [ 23.28922449,  40.67114286,   1.49161427, ...,   1.38420634,\n",
       "            2.38335581,   6.37971004],\n",
       "         ..., \n",
       "         [ 29.24522449,  46.40857143,   1.55455723, ...,   4.30466967,\n",
       "            5.17369353,   7.00050049],\n",
       "         [ 37.87844898,  49.29885714,   5.01826137, ...,   3.02539158,\n",
       "            8.18040566,  17.05570209],\n",
       "         [ 36.88220408,  55.92714286,   2.28631431, ...,  10.82284246,\n",
       "            6.53951035,   9.63260536]]),\n",
       "  31: array([[ 60.52669388,  41.38885714,   2.31687014, ...,   1.04550434,\n",
       "            2.80157186,  12.27343409],\n",
       "         [ 51.28073469,  42.58771429,   1.27736918, ...,   2.25695301,\n",
       "            3.18125277,  16.44755667],\n",
       "         [ 25.63322449,  40.74314286,   1.50777896, ...,   1.35192001,\n",
       "            1.89223376,   6.72676253],\n",
       "         ..., \n",
       "         [ 29.12122449,  42.79057143,   1.57130888, ...,   4.4759995 ,\n",
       "            4.42742461,   6.65245931],\n",
       "         [ 40.36244898,  45.03285714,   6.78657213, ...,   2.96249798,\n",
       "            7.8925437 ,  16.94475277],\n",
       "         [ 44.09820408,  54.46614286,   2.30285548, ...,  12.39311304,\n",
       "            5.38257255,   9.55228127]]),\n",
       "  32: array([[ 66.27469388,  38.13085714,   2.02694751, ...,   1.05089136,\n",
       "            2.7643712 ,  14.96166528],\n",
       "         [ 65.44073469,  37.98571429,   1.21859334, ...,   2.32617837,\n",
       "            3.21701272,  17.520113  ],\n",
       "         [ 23.19322449,  37.01114286,   1.44900313, ...,   1.35729716,\n",
       "            1.92917061,   5.94429376],\n",
       "         ..., \n",
       "         [ 37.49322449,  40.88857143,   1.51253304, ...,   3.79714108,\n",
       "            4.33324187,   7.90540109],\n",
       "         [ 40.35444898,  46.15485714,   5.38831822, ...,   3.46349192,\n",
       "            7.29928787,  18.34131396],\n",
       "         [ 42.87020408,  49.99614286,   2.24592392, ...,  10.31322364,\n",
       "            5.421148  ,   9.87160239]]),\n",
       "  33: array([[ 59.63069388,  45.24985714,   2.49009724, ...,   1.43995759,\n",
       "            5.34747318,  11.98484236],\n",
       "         [ 58.48073469,  41.53471429,   2.0327002 , ...,   2.86474685,\n",
       "            4.12173451,  16.03729008],\n",
       "         [ 25.56522449,  42.68714286,   1.91215285, ...,   1.49375808,\n",
       "            2.55191523,   6.25043565],\n",
       "         ..., \n",
       "         [ 34.34922449,  45.22357143,   2.11167781, ...,   4.62390706,\n",
       "            6.39954757,   8.14137036],\n",
       "         [ 35.02244898,  50.60085714,   6.20849591, ...,   7.23934333,\n",
       "           10.8175832 ,  17.39941567],\n",
       "         [ 42.61820408,  50.85714286,   2.70907364, ...,  13.82244785,\n",
       "            6.98458035,   9.16477948]]),\n",
       "  34: array([[ 67.21469388,  41.91085714,   2.06944714, ...,   1.04821515,\n",
       "            2.57207685,  13.0415944 ],\n",
       "         [ 62.28473469,  41.93371429,   1.22909297, ...,   2.3471933 ,\n",
       "            3.14686349,  13.97937239],\n",
       "         [ 25.82922449,  37.99514286,   1.45950275, ...,   1.44454102,\n",
       "            1.85784449,   6.50554849],\n",
       "         ..., \n",
       "         [ 36.19722449,  45.67657143,   1.52303267, ...,   3.92865387,\n",
       "            4.56847182,   7.03829848],\n",
       "         [ 40.63044898,  47.25885714,   5.12663508, ...,   2.96523661,\n",
       "            7.83425343,  15.21599098],\n",
       "         [ 40.68220408,  50.29614286,   2.25625255, ...,   9.33510394,\n",
       "            5.35423947,   9.60713608]]),\n",
       "  35: array([[ 56.70269388,  41.20885714,   2.02737539, ...,   1.04550434,\n",
       "            3.01259877,  13.86620696],\n",
       "         [ 56.70073469,  47.28871429,   1.21902122, ...,   2.25695301,\n",
       "            4.45636538,  15.43774598],\n",
       "         [ 22.80922449,  38.27114286,   1.449431  , ...,   1.35192001,\n",
       "            2.37630778,   6.18825163],\n",
       "         ..., \n",
       "         [ 29.89322449,  40.24357143,   1.51294853, ...,   3.6759995 ,\n",
       "            5.03368952,   7.2682386 ],\n",
       "         [ 38.61444898,  42.65985714,   4.83574609, ...,   2.96249798,\n",
       "            7.9765625 ,  18.96086098],\n",
       "         [ 35.90220408,  55.84614286,   2.24630243, ...,   8.99311304,\n",
       "            6.31276412,  10.99420245]]),\n",
       "  36: array([[ 67.95469388,  42.94585714,   2.44151112, ...,   1.04550434,\n",
       "            2.49587635,  12.43730299],\n",
       "         [ 61.95673469,  43.62271429,   1.22673003, ...,   2.47295301,\n",
       "            3.47066299,  17.83513048],\n",
       "         [ 31.85722449,  41.34914286,   1.45713982, ...,   1.35192001,\n",
       "            1.78164399,   6.15709465],\n",
       "         ..., \n",
       "         [ 37.02922449,  41.94757143,   2.20006065, ...,   3.6759995 ,\n",
       "            4.18571525,   7.17574392],\n",
       "         [ 42.05844898,  48.28785714,   5.02862423, ...,   2.96249798,\n",
       "            7.23976125,  16.59212648],\n",
       "         [ 45.15820408,  44.63814286,   2.25406061, ...,   8.99311304,\n",
       "            5.27362137,   9.69008342]]),\n",
       "  37: array([[ 63.85469388,  39.51685714,   2.02688054, ...,   1.12350434,\n",
       "            3.35953088,  13.33761869],\n",
       "         [ 61.95273469,  41.39671429,   1.21852637, ...,   2.25695301,\n",
       "            4.6927375 ,  16.44781781],\n",
       "         [ 22.37322449,  45.24614286,   1.44893616, ...,   1.35192001,\n",
       "            2.92729852,   6.02101058],\n",
       "         ..., \n",
       "         [ 32.71722449,  47.71657143,   1.51246607, ...,   3.6759995 ,\n",
       "            6.03669074,   7.14649585],\n",
       "         [ 37.39844898,  47.67285714,   4.94325125, ...,   2.96249798,\n",
       "            9.78337675,  14.98749687],\n",
       "         [ 39.80220408,  51.93114286,   2.24585695, ...,   8.99311304,\n",
       "            6.98122797,   9.87456011]]),\n",
       "  38: array([[ 65.03869388,  40.27585714,   2.0327027 , ...,   1.04550434,\n",
       "            2.59593647,  12.65266528],\n",
       "         [ 63.09673469,  47.15371429,   1.58887454, ...,   2.25695301,\n",
       "            3.17072311,  14.034113  ],\n",
       "         [ 29.58922449,  37.86614286,   1.45475832, ...,   1.35192001,\n",
       "            1.87978485,   5.94425857],\n",
       "         ..., \n",
       "         [ 34.65722449,  42.46657143,   1.51828823, ...,   4.3039995 ,\n",
       "            4.45868741,   6.9533659 ],\n",
       "         [ 38.41044898,  42.09285714,   5.3063288 , ...,   2.96249798,\n",
       "            7.24324329,  15.07527877],\n",
       "         [ 42.80620408,  54.13014286,   2.25167911, ...,   9.22511304,\n",
       "            6.16516642,   9.35260239]]),\n",
       "  39: array([[ 63.87469388,  44.15785714,   2.47722105, ...,   1.34220248,\n",
       "            2.78768191,  12.80156545],\n",
       "         [ 57.02873469,  47.99671429,   1.68240866, ...,   2.33273696,\n",
       "            3.37434599,  15.43034099],\n",
       "         [ 21.91722449,  43.42214286,   2.26922495, ...,   1.41042219,\n",
       "            2.07344955,   6.19363666],\n",
       "         ..., \n",
       "         [ 28.38122449,  41.84857143,   2.65732867, ...,   4.38878526,\n",
       "            4.55955696,   8.71991915],\n",
       "         [ 36.46644898,  54.26385714,  10.7553915 , ...,   3.12300447,\n",
       "           11.70452766,  15.73207834],\n",
       "         [ 39.41820408,  52.12914286,   3.70561906, ...,  10.41291557,\n",
       "            6.01347581,  11.1472938 ]]),\n",
       "  40: array([[ 65.99469388,  49.49785714,   2.8770341 , ...,   1.8069804 ,\n",
       "            5.48326641,  13.47466528],\n",
       "         [ 58.74873469,  46.11271429,   1.3062076 , ...,   2.74854579,\n",
       "            4.11531424,  15.992113  ],\n",
       "         [ 20.87722449,  44.27114286,   1.53661739, ...,   1.52569399,\n",
       "            2.51532485,   6.40825857],\n",
       "         ..., \n",
       "         [ 36.77722449,  49.37857143,   2.03992327, ...,   3.954975  ,\n",
       "            6.9226034 ,   8.0613659 ],\n",
       "         [ 38.31044898,  48.97485714,   5.41751743, ...,   3.358072  ,\n",
       "           10.49572743,  16.93527877],\n",
       "         [ 42.67420408,  53.26914286,   2.54986013, ...,  11.40975537,\n",
       "            6.54763084,  10.64660239]]),\n",
       "  41: array([[ 64.08269388,  43.60585714,   2.23447175, ...,   1.2328451 ,\n",
       "            3.28575591,  11.90472846],\n",
       "         [ 60.64073469,  48.82771429,   1.33713798, ...,   2.76332223,\n",
       "            3.83978908,  14.24217261],\n",
       "         [ 22.60522449,  44.36414286,   1.89852677, ...,   2.01382692,\n",
       "            2.4746521 ,   6.01028393],\n",
       "         ..., \n",
       "         [ 27.42522449,  45.19657143,   1.82843559, ...,   4.12204679,\n",
       "            6.16570092,   6.62342908],\n",
       "         [ 34.69044898,  46.85085714,   7.47159486, ...,   3.24994388,\n",
       "            7.85749696,  14.94732776],\n",
       "         [ 38.51020408,  58.64214286,   2.65390311, ...,  10.39672705,\n",
       "           10.23822602,   9.16466558]]),\n",
       "  42: array([[ 62.82269388,  39.46585714,   2.21640508, ...,   1.09650829,\n",
       "            3.16945767,  15.58266528],\n",
       "         [ 60.60073469,  44.38171429,   1.26261848, ...,   2.26627924,\n",
       "            3.42578042,  17.242113  ],\n",
       "         [ 23.63722449,  39.04514286,   1.56236695, ...,   1.35514124,\n",
       "            2.0910239 ,   8.63425857],\n",
       "         ..., \n",
       "         [ 32.12922449,  45.04357143,   1.55655818, ...,   3.68492992,\n",
       "            4.82264614,   9.0953659 ],\n",
       "         [ 38.51044898,  42.72585714,   4.87934335, ...,   2.96571922,\n",
       "            7.91851798,  18.71527877],\n",
       "         [ 41.32620408,  53.37114286,   2.319836  , ...,   9.78905399,\n",
       "            6.1577642 ,  12.77660239]]),\n",
       "  43: array([[ 64.73069388,  39.41185714,   2.30880873, ...,   1.1476387 ,\n",
       "            2.9501603 ,  13.95685297],\n",
       "         [ 55.65673469,  42.52471429,   1.22898965, ...,   2.52589203,\n",
       "            4.00084953,  14.72300415],\n",
       "         [ 24.90122449,  37.58114286,   1.45939944, ...,   1.35830759,\n",
       "            2.21988782,   6.66326552],\n",
       "         ..., \n",
       "         [ 38.09322449,  40.71757143,   1.52292935, ...,   3.81263715,\n",
       "            4.96501861,   6.93541936],\n",
       "         [ 39.61844898,  41.96385714,   4.9675985 , ...,   2.96883684,\n",
       "            8.56207939,  16.13427709],\n",
       "         [ 43.08620408,  55.00614286,   2.25632023, ...,   9.26271433,\n",
       "            6.04886343,   9.67822627]]),\n",
       "  44: array([[ 63.24269388,  45.46885714,   2.02826567, ...,   1.23023459,\n",
       "            3.44930783,  12.27866528],\n",
       "         [ 60.28073469,  45.97471429,   1.21993928, ...,   2.89863735,\n",
       "            4.994625  ,  14.196113  ],\n",
       "         [ 26.69722449,  38.61914286,   1.45034907, ...,   3.03052077,\n",
       "            2.39639605,   6.33425857],\n",
       "         ..., \n",
       "         [ 33.02522449,  44.09557143,   1.51387898, ...,   3.83077696,\n",
       "            7.47253715,   6.6233659 ],\n",
       "         [ 39.57044898,  48.15885714,   5.18356028, ...,   3.23550875,\n",
       "           10.98626533,  14.94927877],\n",
       "         [ 40.81020408,  55.57014286,   2.24726986, ...,   9.48824134,\n",
       "            8.60921407,   9.30260239]]),\n",
       "  45: array([[ 60.13069388,  42.69685714,   2.47157859, ...,   1.04550434,\n",
       "            2.81484373,  12.61786194],\n",
       "         [ 57.88073469,  49.80571429,   1.22499498, ...,   2.25695301,\n",
       "            3.49218478,  14.34865273],\n",
       "         [ 32.00122449,  40.02914286,   1.86921242, ...,   1.41792001,\n",
       "            2.01704921,   5.94419969],\n",
       "         ..., \n",
       "         [ 29.59322449,  46.50457143,   1.51893468, ...,   3.8439995 ,\n",
       "            5.58350831,   6.72042409],\n",
       "         [ 35.05844898,  43.94685714,   5.16138081, ...,   2.96849798,\n",
       "            8.20079389,  14.94017848],\n",
       "         [ 39.69420408,  53.73114286,   2.25232555, ...,  10.48511304,\n",
       "            5.94981076,   9.28563751]]),\n",
       "  46: array([[ 58.31069388,  43.05385714,   2.12294835, ...,   1.11073865,\n",
       "            2.68740989,  12.00796312],\n",
       "         [ 56.87673469,  46.36771429,   1.31797001, ...,   2.37766945,\n",
       "            3.30599636,  14.02459451],\n",
       "         [ 24.56122449,  43.68014286,   1.54500396, ...,   1.41384294,\n",
       "            1.96963883,   5.9944505 ],\n",
       "         ..., \n",
       "         [ 28.33722449,  48.51457143,   1.61625388, ...,   3.88838935,\n",
       "            4.37724879,   6.7057505 ],\n",
       "         [ 35.91844898,  46.39185714,   5.20141903, ...,   3.105263  ,\n",
       "            7.36725243,  15.18820928],\n",
       "         [ 36.13420408,  53.98014286,   2.37970777, ...,   9.55835906,\n",
       "            5.58634032,   9.31378172]]),\n",
       "  47: array([[ 63.46269388,  43.29385714,   2.02688054, ...,   1.06998823,\n",
       "            2.6944145 ,  11.89066528],\n",
       "         [ 64.32873469,  44.75071429,   1.21852637, ...,   2.2595287 ,\n",
       "            3.43689657,  14.028113  ],\n",
       "         [ 22.03722449,  42.51914286,   1.44893616, ...,   1.37160375,\n",
       "            1.98778292,   5.93825857],\n",
       "         ..., \n",
       "         [ 31.85722449,  45.16657143,   1.51246607, ...,   3.90657519,\n",
       "            4.77770753,   6.8233659 ],\n",
       "         [ 40.12644898,  49.23585714,   4.83525125, ...,   3.12688126,\n",
       "            7.43378217,  15.03527877],\n",
       "         [ 40.42220408,  54.21414286,   2.24585695, ...,  10.73237619,\n",
       "            5.62467302,   9.38860239]]),\n",
       "  48: array([[ 68.01469388,  42.82285714,   2.17330265, ...,   1.12788926,\n",
       "            2.90881878,  12.21085746],\n",
       "         [ 61.35673469,  49.35871429,   1.26771818, ...,   2.28137898,\n",
       "            4.31853328,  14.06579042],\n",
       "         [ 27.55322449,  41.80814286,   1.53743246, ...,   1.38067865,\n",
       "            2.19458642,   6.2380806 ],\n",
       "         ..., \n",
       "         [ 42.47322449,  43.44757143,   1.56165788, ...,   3.69788874,\n",
       "            4.88078799,   6.62524418],\n",
       "         [ 41.66244898,  44.29185714,   4.9361327 , ...,   3.03100337,\n",
       "            9.80979243,  15.22662193],\n",
       "         [ 45.10620408,  46.46214286,   2.33765705, ...,  10.31991892,\n",
       "            5.6865638 ,   9.53412205]]),\n",
       "  49: array([[ 64.97069388,  38.58085714,   2.02700196, ...,   1.04550434,\n",
       "            2.58904979,  12.62188654],\n",
       "         [ 59.46473469,  46.70071429,   1.21864779, ...,   2.25695301,\n",
       "            3.14862248,  15.78723778],\n",
       "         [ 27.43722449,  41.56814286,   1.61904549, ...,   1.36792001,\n",
       "            1.85960348,   5.95580314],\n",
       "         ..., \n",
       "         [ 31.64922449,  45.03757143,   1.51258749, ...,   4.3439995 ,\n",
       "            4.49169633,   6.66591748],\n",
       "         [ 38.81044898,  43.72185714,   4.83537267, ...,   2.96249798,\n",
       "            8.14429846,  16.57035467],\n",
       "         [ 38.08620408,  53.29914286,   2.24597836, ...,  10.89511304,\n",
       "            5.65489579,   9.27994002]])}}"
      ]
     },
     "execution_count": 29,
     "metadata": {},
     "output_type": "execute_result"
    }
   ],
   "source": [
    "# Make challenge 1 leaderboard prediction files from the models.  \n",
    "loading.make_prediction_files(rfcs_leaderboard,X_leaderboard_int,X_leaderboard_other,\n",
    "                              'leaderboard',1,Y_test=Y_leaderboard_noimpute,\n",
    "                              write=True,regularize=regularize)"
   ]
  },
  {
   "cell_type": "code",
   "execution_count": 30,
   "metadata": {
    "collapsed": false
   },
   "outputs": [
    {
     "name": "stdout",
     "output_type": "stream",
     "text": [
      "98.00% [------------------------------------------------- ]For subchallenge 1:\n",
      "\tScore = 37.33\n",
      "\tint = 0.841\n",
      "\tple = 0.406\n",
      "\tdec = 0.185\n"
     ]
    }
   ],
   "source": [
    "# Fit all available data for subchallenge 1. \n",
    "# Ignoring warning that arises if too few trees are used.  \n",
    "# Ignore intensity score which is based on within-sample validation, \n",
    "# due to use of ExtraTreesClassifier.\n",
    "rfcs1,score1,rs1 = fit1.rfc_final(X_all,Y_all_imp['subject'],max_features,\n",
    "                                           min_samples_leaf,max_depth,use_et,\n",
    "                                           regularize=regularize,\n",
    "                                           n_estimators=n_estimators)"
   ]
  },
  {
   "cell_type": "code",
   "execution_count": 31,
   "metadata": {
    "collapsed": false
   },
   "outputs": [
    {
     "name": "stdout",
     "output_type": "stream",
     "text": [
      "Wrote to file with suffix \"1446510971\"\n"
     ]
    },
    {
     "data": {
      "text/plain": [
       "{'subject': {1: array([[ 26.31755102,  40.149     ,   1.9511612 , ...,   2.10466287,\n",
       "            2.68027593,  17.9639846 ],\n",
       "         [ 22.36620408,  46.73742857,   1.46409153, ...,   1.03138155,\n",
       "            1.93359848,   5.80899911],\n",
       "         [ 53.568     ,  29.02685714,   1.27619873, ...,   1.14423211,\n",
       "            2.04727742,   9.94377144],\n",
       "         ..., \n",
       "         [ 52.10897959,  48.18242857,   3.53946303, ...,  11.14731045,\n",
       "            5.74367517,   7.81414332],\n",
       "         [ 24.75934694,  50.25014286,   1.38609663, ...,   4.98177721,\n",
       "            4.33694397,  13.03485266],\n",
       "         [ 29.72277551,  45.16628571,   1.9831435 , ...,   9.46573398,\n",
       "            8.36780493,  23.16176282]]),\n",
       "  2: array([[ 27.20155102,  40.206     ,   2.6977642 , ...,   2.10503145,\n",
       "            2.50035918,  16.61862563],\n",
       "         [ 21.21820408,  45.36342857,   1.59048489, ...,   1.03175554,\n",
       "            1.90976702,   6.40190191],\n",
       "         [ 57.84      ,  32.22785714,   1.33925015, ...,   1.14460611,\n",
       "            2.06324724,  10.72999819],\n",
       "         ..., \n",
       "         [ 55.69297959,  54.26642857,   3.37345641, ...,  12.46950464,\n",
       "            5.64337678,   7.67008843],\n",
       "         [ 25.79934694,  52.65914286,   1.52560821, ...,   5.14636019,\n",
       "            4.35291379,  12.02422601],\n",
       "         [ 28.40277551,  51.66128571,   2.04619493, ...,   9.4880493 ,\n",
       "            8.38312596,  23.28386729]]),\n",
       "  3: array([[ 27.68955102,  42.336     ,   1.99054527, ...,   2.24151501,\n",
       "            3.61468545,  18.06102918],\n",
       "         [ 19.24220408,  42.93942857,   1.50347561, ...,   1.03634195,\n",
       "            2.9464519 ,   6.46890224],\n",
       "         [ 49.34      ,  35.23985714,   1.3155828 , ...,   1.22287517,\n",
       "            3.0107986 ,  11.57409685],\n",
       "         ..., \n",
       "         [ 47.56897959,  53.69342857,   3.37701044, ...,  11.15227085,\n",
       "           12.99154237,   6.94067053],\n",
       "         [ 24.38334694,  51.32714286,   1.64389971, ...,   4.98673761,\n",
       "            5.84176903,  13.42295574],\n",
       "         [ 27.66677551,  51.83828571,   2.10211361, ...,   9.51661536,\n",
       "           12.28598021,  23.95795074]]),\n",
       "  4: array([[ 31.13755102,  40.779     ,   1.97060018, ...,   2.46408504,\n",
       "           11.85322431,  16.37242706],\n",
       "         [ 28.99820408,  48.65142857,   1.48353052, ...,   1.05148836,\n",
       "            6.98034084,   9.33579143],\n",
       "         [ 54.084     ,  34.46285714,   1.29563771, ...,   1.16433892,\n",
       "            8.48371636,  11.9991547 ],\n",
       "         ..., \n",
       "         [ 55.82497959,  63.42842857,   3.32984398, ...,  11.16741726,\n",
       "           15.91419016,   7.26407883],\n",
       "         [ 33.03134694,  60.41414286,   1.40553562, ...,   5.16020155,\n",
       "           13.69634377,  12.97487472],\n",
       "         [ 33.23077551,  52.50428571,   2.00258249, ...,  10.67633595,\n",
       "           18.29067695,  22.79798389]]),\n",
       "  5: array([[ 26.62955102,  41.397     ,   1.9650921 , ...,   2.10466287,\n",
       "            2.53780191,  16.45796821],\n",
       "         [ 21.14620408,  44.01342857,   1.47802243, ...,   1.03138155,\n",
       "            1.94720975,   5.46788465],\n",
       "         [ 50.844     ,  29.81285714,   1.29012963, ...,   1.14423211,\n",
       "            2.10068997,   9.91136417],\n",
       "         ..., \n",
       "         [ 50.93697959,  53.98442857,   3.32433589, ...,  11.14731045,\n",
       "            5.60782689,   6.94310314],\n",
       "         [ 24.10334694,  50.34614286,   1.40002754, ...,   4.98177721,\n",
       "            4.85220684,  11.42658145],\n",
       "         [ 27.30677551,  44.63228571,   1.99707441, ...,   9.49573398,\n",
       "            8.69627007,  23.2368615 ]]),\n",
       "  6: array([[ 22.17355102,  39.678     ,   1.94404184, ...,   2.10466287,\n",
       "            2.52424439,  17.04007154],\n",
       "         [ 17.13820408,  43.88142857,   1.45697218, ...,   1.03138155,\n",
       "            1.93365223,   5.46596071],\n",
       "         [ 46.088     ,  33.41585714,   1.26907937, ...,   1.14423211,\n",
       "            2.08704575,   9.75458188],\n",
       "         ..., \n",
       "         [ 42.95697959,  52.21442857,   3.30328563, ...,  11.14731045,\n",
       "            5.73274107,   7.16702725],\n",
       "         [ 24.75134694,  49.64414286,   1.37897728, ...,   4.98177721,\n",
       "            8.40985489,  11.99441487],\n",
       "         [ 24.94677551,  48.50228571,   1.97602415, ...,   9.54773398,\n",
       "            8.40765995,  21.69829414]]),\n",
       "  7: array([[ 28.65755102,  39.807     ,   1.94974597, ...,   2.16774968,\n",
       "            2.51679581,  18.59580336],\n",
       "         [ 21.00220408,  40.34142857,   1.50800964, ...,   1.03246835,\n",
       "            1.92664752,   5.96267523],\n",
       "         [ 60.492     ,  29.37485714,   1.2747835 , ...,   1.53583614,\n",
       "            2.08012774,  10.00339368],\n",
       "         ..., \n",
       "         [ 55.67297959,  55.13642857,   3.30898976, ...,  11.43439726,\n",
       "            5.58667162,   7.56481743],\n",
       "         [ 34.89134694,  46.45814286,   1.39388141, ...,   4.98286402,\n",
       "            4.3696475 ,  13.9352255 ],\n",
       "         [ 27.51477551,  47.54228571,   2.16547515, ...,   9.89665608,\n",
       "            8.40065524,  25.47495074]]),\n",
       "  8: array([[ 30.96955102,  39.447     ,   2.20256989, ...,   2.10466287,\n",
       "            2.84071838,  15.26919208],\n",
       "         [ 24.39820408,  41.80542857,   1.51720877, ...,   1.03138155,\n",
       "            1.89888003,   5.75449816],\n",
       "         [ 51.82      ,  29.60285714,   1.32931596, ...,   1.14423211,\n",
       "            2.05181289,   9.859117  ],\n",
       "         ..., \n",
       "         [ 55.92097959,  51.10442857,   3.36352223, ...,  12.54731045,\n",
       "            5.65929665,   7.13497533],\n",
       "         [ 31.12334694,  49.22714286,   1.43921387, ...,   5.18177721,\n",
       "            4.34101506,  11.44167329],\n",
       "         [ 29.15477551,  49.51028571,   2.03626074, ...,   9.47373398,\n",
       "            8.37234039,  21.46499186]]),\n",
       "  9: array([[ 26.26555102,  39.618     ,   1.96149467, ...,   2.48031176,\n",
       "            3.54734587,  18.80928387],\n",
       "         [ 22.91820408,  43.68342857,   1.47442501, ...,   1.13376347,\n",
       "            2.68755877,   5.55221593],\n",
       "         [ 49.26      ,  35.50985714,   1.2865322 , ...,   1.34622291,\n",
       "            3.22275254,  10.89124169],\n",
       "         ..., \n",
       "         [ 52.40097959,  54.47642857,   3.32073846, ...,  13.97044387,\n",
       "            6.70288002,   8.48144628],\n",
       "         [ 27.77934694,  47.86814286,   1.39643011, ...,   5.85202352,\n",
       "            5.11975179,  12.53435551],\n",
       "         [ 28.67077551,  49.93328571,   1.99313564, ...,  11.6089738 ,\n",
       "           10.85675794,  21.99520867]]),\n",
       "  10: array([[ 23.88955102,  39.447     ,   1.94429622, ...,   2.10483009,\n",
       "            2.4729193 ,  16.38031004],\n",
       "         [ 17.46620408,  44.50542857,   1.45722655, ...,   1.03154877,\n",
       "            1.88232713,   5.47852286],\n",
       "         [ 51.744     ,  26.87285714,   1.26933375, ...,   1.29839933,\n",
       "            2.03580735,   9.90605148],\n",
       "         ..., \n",
       "         [ 44.40097959,  50.00042857,   3.30354001, ...,  11.14747767,\n",
       "            5.70694428,   6.94571868],\n",
       "         [ 24.33934694,  49.68314286,   1.42723165, ...,   4.98194443,\n",
       "            4.3254739 ,  11.51929392],\n",
       "         [ 24.23477551,  47.60828571,   1.97960183, ...,   9.54186983,\n",
       "            8.90033486,  22.4019452 ]]),\n",
       "  11: array([[ 26.78955102,  37.044     ,   1.98959601, ...,   2.11257139,\n",
       "            2.62363997,  15.66227536],\n",
       "         [ 17.88220408,  43.53042857,   1.50252634, ...,   1.03532516,\n",
       "            2.05020724,   5.46844154],\n",
       "         [ 54.768     ,  30.04385714,   1.31463354, ...,   1.34375744,\n",
       "            2.18652803,  10.27403911],\n",
       "         ..., \n",
       "         [ 52.90897959,  45.23642857,   3.3488398 , ...,  12.74597634,\n",
       "            5.69377335,   6.93466688],\n",
       "         [ 31.32334694,  50.65214286,   1.42453144, ...,   4.98577069,\n",
       "            5.16393824,  12.8581096 ],\n",
       "         [ 26.04677551,  46.31528571,   2.02157831, ...,   9.93338226,\n",
       "           11.79014153,  21.65466981]]),\n",
       "  12: array([[ 28.43355102,  35.853     ,   2.12875419, ...,   2.33411687,\n",
       "            2.63770587,  18.03776706],\n",
       "         [ 19.99420408,  42.18642857,   2.04065429, ...,   1.0369014 ,\n",
       "            2.0471137 ,   6.07320322],\n",
       "         [ 51.94      ,  34.36985714,   1.45815933, ...,   1.14975196,\n",
       "            2.20059393,   9.721278  ],\n",
       "         ..., \n",
       "         [ 54.99297959,  48.32942857,   3.4887468 , ...,  11.19641775,\n",
       "            6.46522047,   7.2156535 ],\n",
       "         [ 30.39134694,  48.12614286,   1.56547575, ...,   4.9871172 ,\n",
       "            4.49767031,  11.65403304],\n",
       "         [ 27.73077551,  45.85028571,   2.21958759, ...,  13.70954437,\n",
       "           10.91787792,  22.06998722]]),\n",
       "  13: array([[ 23.37755102,  34.74      ,   2.73644404, ...,   2.88325953,\n",
       "            3.34745435,  18.31572022],\n",
       "         [ 21.53820408,  45.27342857,   1.79874417, ...,   1.39448898,\n",
       "            2.88575546,   7.15743179],\n",
       "         [ 53.036     ,  31.49885714,   1.61695263, ...,   1.54488966,\n",
       "            2.76893541,  10.6190513 ],\n",
       "         ..., \n",
       "         [ 56.50497959,  51.47342857,   3.70609981, ...,  15.27348338,\n",
       "            8.91704353,   9.77265713],\n",
       "         [ 30.15134694,  48.79514286,   1.7161205 , ...,   5.74912636,\n",
       "            7.87513536,  13.47019375],\n",
       "         [ 33.46677551,  54.61628571,   2.31316737, ...,  15.51250432,\n",
       "           17.79699838,  24.27595074]]),\n",
       "  14: array([[ 24.38555102,  39.231     ,   1.94366918, ...,   2.10466287,\n",
       "            2.65725386,  19.21172649],\n",
       "         [ 18.59020408,  44.16342857,   1.45659951, ...,   1.03138155,\n",
       "            2.0666617 ,   5.46744275],\n",
       "         [ 50.208     ,  30.11285714,   1.26870671, ...,   1.14423211,\n",
       "            2.21664638,  10.13605757],\n",
       "         ..., \n",
       "         [ 46.61297959,  46.91042857,   3.30291297, ...,  13.73531045,\n",
       "            6.78576815,   7.33966809],\n",
       "         [ 26.74334694,  46.25114286,   1.76660461, ...,   4.98177721,\n",
       "            4.90424858,  12.45820471],\n",
       "         [ 23.81477551,  41.96528571,   1.97565148, ...,  10.01773398,\n",
       "            8.53203183,  22.73995074]]),\n",
       "  15: array([[ 22.32955102,  37.998     ,   2.15664779, ...,   2.24230586,\n",
       "            3.03440383,  17.63612891],\n",
       "         [ 17.78220408,  44.25042857,   1.98659261, ...,   1.03705775,\n",
       "            2.43333037,   6.19576985],\n",
       "         [ 50.896     ,  31.98485714,   1.67122837, ...,   1.15004005,\n",
       "            2.56349019,  11.89514058],\n",
       "         ..., \n",
       "         [ 49.24097959,  50.48942857,   3.54601043, ...,  11.16255876,\n",
       "            6.52212241,   9.20765713],\n",
       "         [ 24.77134694,  49.07414286,   1.59171077, ...,   4.98751777,\n",
       "            5.64730265,  13.23219375],\n",
       "         [ 23.63877551,  49.39928571,   2.55461528, ...,  12.23711118,\n",
       "            9.67025132,  22.03195074]]),\n",
       "  16: array([[ 25.90555102,  36.813     ,   2.11515758, ...,   2.32242397,\n",
       "            3.12031127,  17.70172022],\n",
       "         [ 22.00620408,  43.01442857,   1.48744631, ...,   1.24084612,\n",
       "            2.5479806 ,   7.33943179],\n",
       "         [ 53.92      ,  33.58685714,   1.2995535 , ...,   1.39085051,\n",
       "            2.95921533,  11.23716193],\n",
       "         ..., \n",
       "         [ 53.55297959,  50.21342857,   3.33375976, ...,  12.48055648,\n",
       "            6.3788786 ,   8.42176777],\n",
       "         [ 26.70334694,  47.61014286,   1.4263593 , ...,   5.45000887,\n",
       "            5.24768074,  12.56630439],\n",
       "         [ 30.77077551,  44.18828571,   2.12264243, ...,  10.50031358,\n",
       "           11.05162903,  23.35195074]]),\n",
       "  17: array([[ 22.38955102,  38.457     ,   2.74378679, ...,   2.10466287,\n",
       "            2.4729193 ,  16.1200146 ],\n",
       "         [ 18.43420408,  43.84842857,   1.45672459, ...,   1.03138155,\n",
       "            1.88232713,   6.88882176],\n",
       "         [ 51.748     ,  29.71985714,   1.26883179, ...,   1.14423211,\n",
       "            2.03580735,  10.80720757],\n",
       "         ..., \n",
       "         [ 49.48097959,  49.92842857,   3.30303805, ...,  11.14731045,\n",
       "            5.54294428,   7.36072011],\n",
       "         [ 24.54334694,  49.59014286,   1.3787297 , ...,   4.98177721,\n",
       "            4.3254739 ,  13.1484259 ],\n",
       "         [ 27.31877551,  43.77728571,   1.97577657, ...,   9.46573398,\n",
       "            8.92033486,  24.07924839]]),\n",
       "  18: array([[ 28.03355102,  40.188     ,   2.47836167, ...,   2.10466287,\n",
       "            2.76365964,  16.15545289],\n",
       "         [ 22.03020408,  46.16442857,   1.48155791, ...,   1.03138155,\n",
       "            2.17306748,   5.76602552],\n",
       "         [ 52.672     ,  29.12285714,   1.44790779, ...,   1.14423211,\n",
       "            2.3265477 ,  10.26054523],\n",
       "         ..., \n",
       "         [ 54.21297959,  49.77542857,   3.42558388, ...,  11.19331045,\n",
       "            7.09498363,   7.13129815],\n",
       "         [ 28.72334694,  50.47514286,   1.48024784, ...,   4.98177721,\n",
       "            5.07742607,  12.97622685],\n",
       "         [ 26.99877551,  47.18228571,   2.00060988, ...,   9.46573398,\n",
       "           11.84411397,  26.12677058]]),\n",
       "  19: array([[ 27.75355102,  39.084     ,   1.95304126, ...,   2.10466287,\n",
       "            2.47706364,  15.69467247],\n",
       "         [ 19.72620408,  45.09942857,   1.4659716 , ...,   1.03138155,\n",
       "            1.88647147,   5.46840795],\n",
       "         [ 50.456     ,  31.51385714,   1.27807879, ...,   1.14423211,\n",
       "            2.0399517 ,  10.10075507],\n",
       "         ..., \n",
       "         [ 49.52497959,  50.91842857,   3.31228505, ...,  11.14731045,\n",
       "            9.58970382,   7.44854619],\n",
       "         [ 31.33934694,  46.35614286,   1.3879767 , ...,   4.98177721,\n",
       "            4.56532043,  12.26089763],\n",
       "         [ 30.13877551,  43.02728571,   2.18490907, ...,   9.46573398,\n",
       "            8.7564792 ,  23.67423102]]),\n",
       "  20: array([[ 24.30555102,  38.82      ,   1.97178692, ...,   2.55491105,\n",
       "            2.60775977,  15.99313442],\n",
       "         [ 25.05420408,  46.03242857,   1.65503278, ...,   1.30967297,\n",
       "            2.0171676 ,   6.56771501],\n",
       "         [ 54.216     ,  34.96085714,   1.29682445, ...,   1.36857734,\n",
       "            2.17064783,  10.87792032],\n",
       "         ..., \n",
       "         [ 53.16097959,  50.06642857,   3.33103071, ...,  11.22923082,\n",
       "            5.97352111,   7.47937584],\n",
       "         [ 31.19134694,  49.08614286,   1.93624676, ...,   7.09329887,\n",
       "            4.67122921,  12.25106277],\n",
       "         [ 25.07877551,  48.05228571,   2.16689549, ...,  10.00002188,\n",
       "            9.39484992,  22.11395866]]),\n",
       "  21: array([[ 26.70555102,  35.205     ,   2.01318796, ...,   2.40447524,\n",
       "            2.67850668,  17.13055511],\n",
       "         [ 21.34220408,  37.27242857,   1.5261183 , ...,   1.04028423,\n",
       "            2.08199418,   5.60401242],\n",
       "         [ 54.256     ,  28.44785714,   1.33822549, ...,   1.16630822,\n",
       "            2.23780963,  10.3257756 ],\n",
       "         ..., \n",
       "         [ 50.26897959,  52.46942857,   3.37243175, ...,  11.44600598,\n",
       "            5.86454549,   7.11129329],\n",
       "         [ 32.18334694,  47.33714286,   1.52223162, ...,   5.0898774 ,\n",
       "            4.55257535,  12.50593761],\n",
       "         [ 27.71077551,  43.48028571,   2.24963353, ...,   9.4748664 ,\n",
       "            8.55309619,  23.57717941]]),\n",
       "  22: array([[ 26.96555102,  37.701     ,   3.3592858 , ...,   2.24266287,\n",
       "            2.78285133,  16.06372022],\n",
       "         [ 24.68620408,  42.70542857,   2.55527864, ...,   1.03138155,\n",
       "            1.94612884,   6.68743179],\n",
       "         [ 55.44      ,  31.32785714,   2.12027702, ...,   1.14423211,\n",
       "            2.09960906,   9.7090513 ],\n",
       "         ..., \n",
       "         [ 55.43697959,  51.36242857,   4.62334581, ...,  11.56131045,\n",
       "            5.90368682,   7.08165713],\n",
       "         [ 30.53134694,  50.06414286,   2.16380961, ...,   4.98177721,\n",
       "            4.38927561,  12.46219375],\n",
       "         [ 28.43877551,  46.72628571,   3.14518107, ...,  12.64373398,\n",
       "            9.88582222,  21.04595074]]),\n",
       "  23: array([[ 23.20955102,  39.651     ,   1.97133051, ...,   2.10627136,\n",
       "            2.6589725 ,  16.14216398],\n",
       "         [ 17.78220408,  44.75442857,   1.48426085, ...,   1.03299004,\n",
       "            2.06185569,   5.54014831],\n",
       "         [ 50.828     ,  33.34985714,   1.29636804, ...,   1.1458406 ,\n",
       "            2.21533592,   9.95363371],\n",
       "         ..., \n",
       "         [ 54.07297959,  51.19742857,   4.05215648, ...,  14.05013133,\n",
       "            5.83506915,   7.00934322],\n",
       "         [ 30.64734694,  50.47214286,   1.4603138 , ...,   6.93209457,\n",
       "            4.56104319,  11.49686108],\n",
       "         [ 25.19877551,  46.51628571,   2.00331282, ...,   9.52534247,\n",
       "            9.45752902,  21.66646917]]),\n",
       "  24: array([[ 27.43755102,  40.401     ,   1.951116  , ...,   2.77022667,\n",
       "            2.53147259,  16.6626179 ],\n",
       "         [ 24.44620408,  43.23342857,   1.4639647 , ...,   1.08425455,\n",
       "            1.94088043,   6.04965583],\n",
       "         [ 56.072     ,  33.85385714,   1.27615353, ...,   1.199156  ,\n",
       "            2.09436065,  11.07301613],\n",
       "         ..., \n",
       "         [ 56.39697959,  50.13842857,   3.31035979, ...,  11.23065258,\n",
       "            5.63247765,   8.18558807],\n",
       "         [ 34.10734694,  49.31414286,   1.38605144, ...,   5.78259425,\n",
       "            4.73371348,  12.09638488],\n",
       "         [ 28.24677551,  45.40628571,   2.3466878 , ...,  10.45461842,\n",
       "            9.4944438 ,  24.08746959]]),\n",
       "  25: array([[ 30.26155102,  38.643     ,   2.78469382, ...,   4.08800625,\n",
       "            3.46547209,  21.92172022],\n",
       "         [ 25.19420408,  42.80742857,   1.92743723, ...,   3.01520165,\n",
       "            2.72520657,   9.74543179],\n",
       "         [ 54.56      ,  34.23485714,   1.74798331, ...,   3.41752204,\n",
       "            3.29772303,  15.4850513 ],\n",
       "         ..., \n",
       "         [ 58.53697959,  52.60442857,   5.00530258, ...,  15.36772984,\n",
       "           11.13161163,  10.04365713],\n",
       "         [ 36.31934694,  48.08414286,   1.85788122, ...,   9.72188041,\n",
       "            7.0251859 ,  15.92419375],\n",
       "         [ 32.30277551,  47.31428571,   2.45492809, ...,  12.00597836,\n",
       "           12.13252416,  25.03995074]]),\n",
       "  26: array([[ 27.62155102,  41.793     ,   3.31758741, ...,   2.1704404 ,\n",
       "            2.59213383,  17.84044054],\n",
       "         [ 24.37420408,  49.71942857,   2.51436239, ...,   1.09621333,\n",
       "            2.00154167,   6.291187  ],\n",
       "         [ 55.652     ,  39.85685714,   3.13316069, ...,   1.21470378,\n",
       "            2.15502189,  12.04663015],\n",
       "         ..., \n",
       "         [ 56.25297959,  55.81442857,   3.96021269, ...,  16.36954941,\n",
       "            8.41214103,   7.52580199],\n",
       "         [ 31.49934694,  52.59014286,   2.11806063, ...,   6.99855846,\n",
       "            6.22149971,  12.16335531],\n",
       "         [ 30.14277551,  48.84428571,   2.61142392, ...,   9.97489244,\n",
       "            9.08032925,  25.32005822]]),\n",
       "  27: array([[ 22.76955102,  37.494     ,   2.03471757, ...,   2.10466287,\n",
       "            2.99651172,  17.68386592],\n",
       "         [ 19.77420408,  42.78942857,   1.49863486, ...,   1.03138155,\n",
       "            2.40591956,   5.72187907],\n",
       "         [ 51.336     ,  34.60985714,   1.31074205, ...,   1.14423211,\n",
       "            2.58054253,  13.19911922],\n",
       "         ..., \n",
       "         [ 51.52097959,  51.52442857,   3.34494832, ...,  11.54731045,\n",
       "            6.16775625,   8.79403649],\n",
       "         [ 24.58734694,  50.42114286,   1.70626486, ...,   4.98177721,\n",
       "            4.85956207,  12.2545731 ],\n",
       "         [ 28.25877551,  47.01728571,   2.01768683, ...,  12.31973398,\n",
       "           17.11926363,  25.15595074]]),\n",
       "  28: array([[ 23.10155102,  40.731     ,   2.12492078, ...,   3.16068904,\n",
       "            4.06100588,  15.22021782],\n",
       "         [ 22.33820408,  44.86242857,   1.60174037, ...,   1.26407696,\n",
       "            3.2199577 ,   5.63992939],\n",
       "         [ 55.048     ,  31.79285714,   1.51697903, ...,   1.41909749,\n",
       "            3.28982065,  10.02244325],\n",
       "         ..., \n",
       "         [ 52.74497959,  52.24742857,   4.30554548, ...,  14.15217606,\n",
       "            6.80389824,   8.18236803],\n",
       "         [ 25.06734694,  53.14814286,   1.52374547, ...,   8.04126016,\n",
       "            6.89823424,  12.3186219 ],\n",
       "         [ 31.29877551,  51.51128571,   2.65750777, ...,  11.12679405,\n",
       "           12.52600669,  21.93427886]]),\n",
       "  29: array([[ 27.07755102,  36.264     ,   1.94366918, ...,   2.7643694 ,\n",
       "            2.93698171,  17.36375668],\n",
       "         [ 19.41420408,  48.60042857,   1.45659951, ...,   1.04355537,\n",
       "            2.34638955,   5.61546825],\n",
       "         [ 58.092     ,  28.77185714,   1.26870671, ...,   1.35640593,\n",
       "            2.49986977,   9.90908776],\n",
       "         ..., \n",
       "         [ 54.94897959,  45.01142857,   3.30291297, ...,  11.1781336 ,\n",
       "            7.88219762,   6.93169359],\n",
       "         [ 34.17134694,  49.08614286,   1.37860461, ...,   4.99395103,\n",
       "            4.80872969,  15.56822428],\n",
       "         [ 25.35477551,  51.77528571,   1.97565148, ...,  12.44374726,\n",
       "           10.50614683,  22.88798128]]),\n",
       "  30: array([[ 21.96155102,  42.66      ,   1.99341571, ...,   2.1797974 ,\n",
       "            3.1074018 ,  15.96039751],\n",
       "         [ 19.97820408,  47.13342857,   1.50634605, ...,   1.08668817,\n",
       "            3.09389635,   5.74095963],\n",
       "         [ 54.66      ,  33.29585714,   1.31845324, ...,   1.19250699,\n",
       "            2.67028986,  10.26009154],\n",
       "         ..., \n",
       "         [ 53.56097959,  53.12342857,   3.3515126 , ...,  12.44703762,\n",
       "            6.20114902,   7.91931562],\n",
       "         [ 28.53934694,  50.32814286,   1.42835115, ...,   5.19205109,\n",
       "            5.15825913,  12.47844021],\n",
       "         [ 23.78277551,  50.76128571,   2.22408073, ...,  10.3878375 ,\n",
       "            9.43103452,  23.74623536]]),\n",
       "  31: array([[ 27.70155102,  42.327     ,   2.01173103, ...,   2.16066287,\n",
       "            2.63566546,  15.82537592],\n",
       "         [ 20.08620408,  43.37742857,   1.52466136, ...,   1.03138155,\n",
       "            2.0450733 ,   6.17240526],\n",
       "         [ 54.224     ,  33.62885714,   1.33676856, ...,   1.14423211,\n",
       "            2.19855352,  13.02628219],\n",
       "         ..., \n",
       "         [ 52.71297959,  55.29242857,   3.37097482, ...,  16.65931045,\n",
       "            6.44638386,   7.14115265],\n",
       "         [ 24.41534694,  50.06714286,   1.44666647, ...,   5.18177721,\n",
       "            4.48793746,  13.91259154],\n",
       "         [ 30.65077551,  45.78128571,   2.04229743, ...,   9.46573398,\n",
       "           10.50725563,  24.73378951]]),\n",
       "  32: array([[ 31.42555102,  36.309     ,   1.94370441, ...,   2.45934369,\n",
       "            2.77058646,  16.48853601],\n",
       "         [ 18.66220408,  43.59342857,   1.45663474, ...,   1.04831771,\n",
       "            2.04217052,   5.73624758],\n",
       "         [ 56.216     ,  30.45485714,   1.26874194, ...,   1.17538018,\n",
       "            2.19878756,  11.6470513 ],\n",
       "         ..., \n",
       "         [ 54.24897959,  43.06442857,   3.3029482 , ...,  13.82494717,\n",
       "            5.70592448,   7.84144032],\n",
       "         [ 35.59534694,  45.81914286,   1.37863985, ...,   4.99907302,\n",
       "            4.5537222 ,  13.07422636],\n",
       "         [ 26.05077551,  45.95828571,   2.12166662, ...,   9.76593708,\n",
       "            8.52741   ,  24.21995074]]),\n",
       "  33: array([[ 22.42555102,  40.953     ,   2.43626779, ...,   2.28207343,\n",
       "            3.30862875,  17.17771312],\n",
       "         [ 19.63420408,  46.21842857,   2.50155944, ...,   1.81560961,\n",
       "            2.78861753,   5.48315247],\n",
       "         [ 50.664     ,  33.40985714,   1.77124005, ...,   1.51328361,\n",
       "            3.27262202,   9.72477198],\n",
       "         ..., \n",
       "         [ 51.92497959,  51.80642857,   5.95095315, ...,  16.87976963,\n",
       "            7.09240679,   7.96683603],\n",
       "         [ 33.53534694,  49.07714286,   1.88458705, ...,   8.23465292,\n",
       "            7.17326978,  12.7767404 ],\n",
       "         [ 24.03877551,  49.45028571,   2.70546833, ...,  13.51845632,\n",
       "           10.45453376,  22.97589532]]),\n",
       "  34: array([[ 25.90955102,  38.271     ,   1.95975311, ...,   2.25636489,\n",
       "            2.56699312,  15.73158002],\n",
       "         [ 21.45420408,  43.58442857,   1.47268344, ...,   1.03835606,\n",
       "            1.97640096,   5.52411254],\n",
       "         [ 52.864     ,  32.92085714,   1.28479064, ...,   1.15104087,\n",
       "            2.12988118,   9.74179041],\n",
       "         ..., \n",
       "         [ 53.67297959,  49.58942857,   3.44593045, ...,  13.34130917,\n",
       "            5.65121743,   7.31085686],\n",
       "         [ 35.35134694,  48.33914286,   1.39362752, ...,   5.2284078 ,\n",
       "            4.43374706,  12.18122712],\n",
       "         [ 27.48277551,  46.18028571,   1.99173542, ...,   9.73150251,\n",
       "            8.97400121,  20.93782356]]),\n",
       "  35: array([[ 22.90155102,  33.303     ,   1.94495492, ...,   2.10466287,\n",
       "            3.53235755,  19.86601682],\n",
       "         [ 18.54220408,  40.10742857,   1.45788526, ...,   1.06138155,\n",
       "            2.35768412,   5.69671725],\n",
       "         [ 49.56      ,  30.41285714,   1.26999245, ...,   1.14423211,\n",
       "            2.57934169,  10.44051796],\n",
       "         ..., \n",
       "         [ 45.34497959,  48.94442857,   3.30419872, ...,  11.14731045,\n",
       "            7.27510562,   8.25757648],\n",
       "         [ 28.15934694,  45.61214286,   1.37989036, ...,   4.99577721,\n",
       "            6.04236266,  13.65281806],\n",
       "         [ 29.40277551,  45.93428571,   1.97693723, ...,   9.46573398,\n",
       "            8.99593103,  24.22815485]]),\n",
       "  36: array([[ 30.81755102,  40.785     ,   1.95467153, ...,   2.10466287,\n",
       "            2.4729193 ,  16.31979872],\n",
       "         [ 27.37820408,  42.62142857,   1.46760186, ...,   1.03138155,\n",
       "            1.88232713,   5.72567208],\n",
       "         [ 59.804     ,  31.27985714,   1.27970906, ...,   1.14423211,\n",
       "            2.03580735,  12.76584826],\n",
       "         ..., \n",
       "         [ 58.84097959,  45.09842857,   6.57587818, ...,  11.24131045,\n",
       "            5.54294428,   7.62524115],\n",
       "         [ 33.95134694,  50.43614286,   1.38960697, ...,   4.98177721,\n",
       "            4.3254739 ,  13.79397097],\n",
       "         [ 31.55477551,  45.16628571,   2.18620359, ...,   9.46573398,\n",
       "            9.15633486,  22.23180925]]),\n",
       "  37: array([[ 24.03755102,  42.54      ,   1.94366918, ...,   2.10466287,\n",
       "            3.37832688,  16.72118364],\n",
       "         [ 17.42220408,  47.27442857,   1.45659951, ...,   1.03138155,\n",
       "            2.99599554,   5.51867468],\n",
       "         [ 49.172     ,  40.14485714,   1.26870671, ...,   1.14423211,\n",
       "            2.93109045,  10.18883273],\n",
       "         ..., \n",
       "         [ 52.89297959,  52.14542857,   3.30291297, ...,  11.14731045,\n",
       "            7.14573668,   7.98027227],\n",
       "         [ 27.06334694,  53.40014286,   1.37860461, ...,   4.98177721,\n",
       "            6.32490495,  12.27526906],\n",
       "         [ 23.77077551,  56.57828571,   1.97565148, ...,   9.46573398,\n",
       "           13.32991072,  21.90759874]]),\n",
       "  38: array([[ 24.60155102,  39.075     ,   2.29828059, ...,   2.10466287,\n",
       "            2.64372711,  15.21989595],\n",
       "         [ 19.73820408,  43.68942857,   1.47288894, ...,   1.03138155,\n",
       "            2.20955424,   5.46560752],\n",
       "         [ 54.72      ,  32.65085714,   1.28499613, ...,   1.14423211,\n",
       "            2.33373373,   9.79722703],\n",
       "         ..., \n",
       "         [ 56.64497959,  53.71142857,   4.50527115, ...,  11.14731045,\n",
       "            5.68701894,   7.20678506],\n",
       "         [ 28.86334694,  50.91614286,   1.39489404, ...,   7.30177721,\n",
       "            4.46873029,  12.69830113],\n",
       "         [ 30.90277551,  48.32228571,   2.05966842, ...,   9.87973398,\n",
       "            9.44416828,  24.37795074]]),\n",
       "  39: array([[ 22.42955102,  39.891     ,   2.85423994, ...,   2.33827918,\n",
       "            2.83133154,  19.09301624],\n",
       "         [ 19.70620408,  44.93142857,   2.51499283, ...,   1.09577829,\n",
       "            2.24073938,   5.83508178],\n",
       "         [ 51.08      ,  34.48085714,   1.92173096, ...,   1.20720557,\n",
       "            2.3942196 ,  10.66483095],\n",
       "         ..., \n",
       "         [ 53.66897959,  51.09842857,   3.78052652, ...,  12.15588885,\n",
       "            7.46151974,   8.06547913],\n",
       "         [ 26.90734694,  47.94614286,   1.85621816, ...,   6.02590427,\n",
       "            5.33801267,  13.87243187],\n",
       "         [ 25.49077551,  48.97628571,   2.59720322, ...,   9.92205425,\n",
       "           11.7104538 ,  22.90955842]]),\n",
       "  40: array([[ 21.16955102,  44.019     ,   2.11687828, ...,   2.51452405,\n",
       "            3.7104204 ,  16.86472022],\n",
       "         [ 17.98220408,  47.07042857,   1.55888115, ...,   1.44400992,\n",
       "            2.64725333,   6.49143179],\n",
       "         [ 52.932     ,  32.08685714,   1.37098834, ...,   1.27920328,\n",
       "            3.05701199,  12.6920513 ],\n",
       "         ..., \n",
       "         [ 51.08097959,  51.00242857,   3.63926422, ...,  11.41821146,\n",
       "            6.69461962,   8.42365713],\n",
       "         [ 34.30734694,  53.63414286,   2.04172304, ...,   6.09332171,\n",
       "            6.44946497,  13.44019375],\n",
       "         [ 27.63477551,  54.32228571,   2.17062089, ...,  10.68014474,\n",
       "           11.65718508,  23.69095074]]),\n",
       "  41: array([[ 26.64955102,  38.292     ,   2.26027089, ...,   3.13593487,\n",
       "            3.55159686,  15.29055358],\n",
       "         [ 19.95420408,  44.32242857,   1.60488397, ...,   1.16559361,\n",
       "            2.59905564,   5.66234196],\n",
       "         [ 52.736     ,  32.08085714,   1.41699116, ...,   1.27622261,\n",
       "            2.72399062,   9.75105959],\n",
       "         ..., \n",
       "         [ 53.38497959,  54.26642857,   3.64773143, ...,  12.50454746,\n",
       "           10.01477871,   7.1166108 ],\n",
       "         [ 27.22734694,  49.64114286,   1.52688907, ...,   5.19128832,\n",
       "            5.45537739,  11.62707737],\n",
       "         [ 28.06277551,  50.80328571,   2.17171747, ...,  10.83236793,\n",
       "           10.00072171,  21.12054387]]),\n",
       "  42: array([[ 23.16955102,  37.842     ,   1.99158593, ...,   2.14223678,\n",
       "            2.81378253,  19.05372022],\n",
       "         [ 21.33820408,  44.42742857,   1.52083855, ...,   1.03517671,\n",
       "            2.22319037,   7.56543179],\n",
       "         [ 53.728     ,  32.35685714,   1.31662346, ...,   1.15362534,\n",
       "            2.37667059,  13.9990513 ],\n",
       "         ..., \n",
       "         [ 52.36897959,  49.51142857,   3.35082972, ...,  11.69971344,\n",
       "            5.92437378,   9.97565713],\n",
       "         [ 26.66734694,  50.16914286,   1.45484331, ...,   4.98542456,\n",
       "            4.69501271,  14.00619375],\n",
       "         [ 27.36677551,  46.42328571,   2.02356823, ...,  10.53387267,\n",
       "            9.25754256,  25.72595074]]),\n",
       "  43: array([[ 26.34155102,  37.674     ,   1.96456263, ...,   2.11439136,\n",
       "            3.24086217,  16.0036571 ],\n",
       "         [ 21.12220408,  42.19842857,   1.55949296, ...,   1.04098691,\n",
       "            2.4043788 ,   6.08949577],\n",
       "         [ 54.716     ,  30.17285714,   1.27941431, ...,   1.19204428,\n",
       "            2.55785902,  11.70640996],\n",
       "         ..., \n",
       "         [ 54.24897959,  47.51942857,   3.31387659, ...,  11.28125665,\n",
       "            6.2798002 ,   7.10487167],\n",
       "         [ 33.93534694,  49.09514286,   1.38956824, ...,   5.01653026,\n",
       "            5.58646836,  12.04008204],\n",
       "         [ 28.10277551,  46.85228571,   1.98661511, ...,   9.77521545,\n",
       "           10.1604949 ,  22.25328765]]),\n",
       "  44: array([[ 26.72155102,  40.824     ,   1.94613696, ...,   3.01052481,\n",
       "            2.94784985,  16.34815918],\n",
       "         [ 19.99820408,  44.82042857,   1.4590673 , ...,   1.54468866,\n",
       "            2.36926728,   6.18581474],\n",
       "         [ 51.084     ,  33.97085714,   1.27117449, ...,   1.27311021,\n",
       "            2.58758345,   9.8776182 ],\n",
       "         ..., \n",
       "         [ 52.69297959,  50.10542857,   3.30538075, ...,  13.4494221 ,\n",
       "            9.18237596,   7.09223359],\n",
       "         [ 28.69534694,  51.55814286,   1.3810724 , ...,   5.09095833,\n",
       "            7.30120906,  11.38477021],\n",
       "         [ 28.46677551,  51.72428571,   1.97811927, ...,  12.02195043,\n",
       "           13.64082478,  22.11843777]]),\n",
       "  45: array([[ 26.93755102,  39.12      ,   1.95591245, ...,   2.23466287,\n",
       "            2.77763723,  15.48434335],\n",
       "         [ 18.52620408,  44.92542857,   1.46884278, ...,   1.03738155,\n",
       "            2.18704506,   5.65066124],\n",
       "         [ 50.74      ,  34.22585714,   1.28094998, ...,   1.14423211,\n",
       "            2.34052529,  10.68175175],\n",
       "         ..., \n",
       "         [ 49.88897959,  50.89442857,   4.3816567 , ...,  11.38731045,\n",
       "            5.96251247,   7.06631643],\n",
       "         [ 26.74334694,  50.04614286,   1.39084789, ...,   4.98177721,\n",
       "            4.72839395,  12.01371259],\n",
       "         [ 23.51877551,  50.84228571,   2.98888311, ...,  10.71373398,\n",
       "            9.9143599 ,  22.47237333]]),\n",
       "  46: array([[ 24.94555102,  41.514     ,   2.04711809, ...,   2.21811621,\n",
       "            2.74659463,  15.58356068],\n",
       "         [ 17.95820408,  45.17442857,   1.57361663, ...,   1.21901463,\n",
       "            2.09569085,   5.51279857],\n",
       "         [ 46.18      ,  34.93985714,   1.38854181, ...,   1.21269567,\n",
       "            2.3586656 ,   9.77544245],\n",
       "         ..., \n",
       "         [ 48.47297959,  52.01342857,   3.41553715, ...,  12.4545839 ,\n",
       "            5.96979394,   7.38593513],\n",
       "         [ 28.80734694,  52.92614286,   1.49196239, ...,   5.1547141 ,\n",
       "            4.55025047,  11.71372455],\n",
       "         [ 28.47077551,  48.69428571,   2.07884943, ...,   9.74424506,\n",
       "            8.63661798,  21.11369265]]),\n",
       "  47: array([[ 22.98555102,  40.296     ,   1.94588656, ...,   2.14337295,\n",
       "            2.66420709,  15.5617307 ],\n",
       "         [ 20.21820408,  46.99242857,   1.4588169 , ...,   1.04238625,\n",
       "            2.08421159,   5.46544227],\n",
       "         [ 51.448     ,  32.93885714,   1.27092409, ...,   1.30316286,\n",
       "            2.23427944,   9.70906177],\n",
       "         ..., \n",
       "         [ 49.20097959,  50.43242857,   4.29377897, ...,  11.91405235,\n",
       "            5.74482874,   7.05066761],\n",
       "         [ 28.91934694,  51.59714286,   1.380822  , ...,   5.01989566,\n",
       "            4.98788825,  11.48420423],\n",
       "         [ 24.59077551,  50.67428571,   2.17075232, ...,   9.82715532,\n",
       "           11.23973146,  22.06196122]]),\n",
       "  48: array([[ 24.72955102,  39.438     ,   2.00405728, ...,   2.18731624,\n",
       "            3.65971085,  15.68042056],\n",
       "         [ 21.13420408,  48.66642857,   1.51698761, ...,   1.05857303,\n",
       "            2.30292949,   5.55651004],\n",
       "         [ 52.508     ,  32.51585714,   1.3290948 , ...,   1.33637734,\n",
       "            2.45640971,   9.94715295],\n",
       "         ..., \n",
       "         [ 52.00897959,  51.00542857,   3.36330107, ...,  12.06997204,\n",
       "            5.96354663,   7.17053059],\n",
       "         [ 35.40334694,  51.71414286,   1.5018982 , ...,   5.36642561,\n",
       "            4.74607626,  11.7053699 ],\n",
       "         [ 33.60677551,  48.16628571,   2.85832815, ...,  11.38138394,\n",
       "            9.3406053 ,  22.24922727]]),\n",
       "  49: array([[ 22.97355102,  40.962     ,   1.95382525, ...,   2.12872886,\n",
       "            2.57125686,  16.22846571],\n",
       "         [ 21.44220408,  43.74042857,   1.45677584, ...,   1.0314761 ,\n",
       "            1.9806647 ,   5.49865119],\n",
       "         [ 54.8       ,  31.26485714,   1.26888303, ...,   1.14432937,\n",
       "            2.13414492,   9.98132411],\n",
       "         ..., \n",
       "         [ 51.83697959,  51.80642857,   3.30308929, ...,  13.19333157,\n",
       "            5.67281174,   8.58526714],\n",
       "         [ 29.47534694,  48.51614286,   1.37878094, ...,   5.26582218,\n",
       "            4.45754976,  11.70030719],\n",
       "         [ 28.08277551,  45.96428571,   1.97582781, ...,   9.78914356,\n",
       "            9.05491618,  22.44546336]])}}"
      ]
     },
     "execution_count": 31,
     "metadata": {},
     "output_type": "execute_result"
    }
   ],
   "source": [
    "# Make challenge 1 testset prediction files from the models.  \n",
    "loading.make_prediction_files(rfcs1,X_testset_int,X_testset_other,\n",
    "                              'testset',1,write=True,regularize=regularize)"
   ]
  }
 ],
 "metadata": {
  "kernelspec": {
   "display_name": "Python 3",
   "language": "python",
   "name": "python3"
  },
  "language_info": {
   "codemirror_mode": {
    "name": "ipython",
    "version": 3
   },
   "file_extension": ".py",
   "mimetype": "text/x-python",
   "name": "python",
   "nbconvert_exporter": "python",
   "pygments_lexer": "ipython3",
   "version": "3.4.1"
  }
 },
 "nbformat": 4,
 "nbformat_minor": 0
}
