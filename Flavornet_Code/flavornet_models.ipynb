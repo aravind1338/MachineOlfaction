{
 "cells": [
  {
   "cell_type": "code",
   "execution_count": null,
   "metadata": {
    "collapsed": true
   },
   "outputs": [],
   "source": [
    "import pandas as pd\n",
    "from sklearn.tree import DecisionTreeClassifier\n",
    "from sklearn.metrics import hamming_loss, accuracy_score\n",
    "from sklearn.model_selection import train_test_split\n",
    "from skmultilearn.problem_transform import BinaryRelevance\n",
    "from sklearn.naive_bayes import GaussianNB"
   ]
  },
  {
   "cell_type": "code",
   "execution_count": null,
   "outputs": [],
   "source": [
    "df = pd.read_csv(\"../Datasets/flavornet_dataset.csv\")\n",
    "df = df.dropna() # Drop N/A values"
   ],
   "metadata": {
    "collapsed": false,
    "pycharm": {
     "name": "#%%\n"
    }
   }
  },
  {
   "cell_type": "code",
   "execution_count": null,
   "outputs": [],
   "source": [
    "# Clean up the odor names by removing whitespace and commas\n",
    "\n",
    "odors_series = df['Odor']\n",
    "odors_series = odors_series.str.split(\",\")\n",
    "\n",
    "for index in odors_series.index:\n",
    "    # Clean up the odor names for each molecule\n",
    "    odors_series[index] = [odor.strip().strip(',').lower() for odor in odors_series[index]]"
   ],
   "metadata": {
    "collapsed": false,
    "pycharm": {
     "name": "#%%\n"
    }
   }
  },
  {
   "cell_type": "code",
   "execution_count": null,
   "outputs": [],
   "source": [
    "all_odors = [] # List of all the odors present in the dataset\n",
    "def get_labels_counts(array):\n",
    "    for label in array:\n",
    "        if label not in all_odors:\n",
    "            all_odors.append(label)\n",
    "\n",
    "odors_series.apply(get_labels_counts)"
   ],
   "metadata": {
    "collapsed": false,
    "pycharm": {
     "name": "#%%\n"
    }
   }
  },
  {
   "cell_type": "code",
   "execution_count": null,
   "outputs": [],
   "source": [
    "# Manual one-hot encoding because labels are in lists\n",
    "for odor in all_odors:\n",
    "    boolean_list = []\n",
    "    for index in odors_series.index:\n",
    "        if odor in odors_series[index]:\n",
    "            boolean_list.append(1)\n",
    "        else:\n",
    "            boolean_list.append(0)\n",
    "\n",
    "    df[odor] = boolean_list"
   ],
   "metadata": {
    "collapsed": false,
    "pycharm": {
     "name": "#%%\n"
    }
   }
  },
  {
   "cell_type": "code",
   "execution_count": null,
   "outputs": [],
   "source": [
    "# Create training and test sets\n",
    "train, test = train_test_split(df, test_size=0.25, shuffle=True)\n",
    "\n",
    "labels_to_drop = all_odors.copy()\n",
    "labels_to_drop += ['Odorant', 'Odor', 'SMILES representation']\n",
    "\n",
    "x_train = train.drop(labels=labels_to_drop, axis=1)\n",
    "y_train = train.loc[:, all_odors]\n",
    "\n",
    "x_test = test.drop(labels=labels_to_drop, axis=1)\n",
    "y_test = test.loc[:, all_odors]"
   ],
   "metadata": {
    "collapsed": false,
    "pycharm": {
     "name": "#%%\n"
    }
   }
  },
  {
   "cell_type": "code",
   "execution_count": null,
   "outputs": [],
   "source": [
    "# Fitting a decision tree to the data #\n",
    "\n",
    "model = DecisionTreeClassifier()\n",
    "model.fit(x_train, y_train)\n",
    "\n",
    "y_predict = model.predict(x_test)\n",
    "print(\"Hamming loss = \",hamming_loss(y_test, y_predict))\n",
    "print(\"Accuracy score = \",accuracy_score(y_test, y_predict))"
   ],
   "metadata": {
    "collapsed": false,
    "pycharm": {
     "name": "#%%\n"
    }
   }
  }
 ],
 "metadata": {
  "kernelspec": {
   "display_name": "Python 3",
   "language": "python",
   "name": "python3"
  },
  "language_info": {
   "codemirror_mode": {
    "name": "ipython",
    "version": 2
   },
   "file_extension": ".py",
   "mimetype": "text/x-python",
   "name": "python",
   "nbconvert_exporter": "python",
   "pygments_lexer": "ipython2",
   "version": "2.7.6"
  }
 },
 "nbformat": 4,
 "nbformat_minor": 0
}