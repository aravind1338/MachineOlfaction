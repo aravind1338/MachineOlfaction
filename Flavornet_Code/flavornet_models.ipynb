{
 "cells": [
  {
   "cell_type": "code",
   "execution_count": 1,
   "metadata": {
    "collapsed": true
   },
   "outputs": [],
   "source": [
    "import pandas as pd\n",
    "from sklearn.model_selection import KFold\n",
    "from sklearn.ensemble import RandomForestClassifier\n",
    "from sklearn.preprocessing import MultiLabelBinarizer\n",
    "from sklearn.metrics import precision_score, hamming_loss, recall_score"
   ]
  },
  {
   "cell_type": "code",
   "execution_count": 2,
   "outputs": [],
   "source": [
    "df = pd.read_csv(\"../Datasets/flavornet_dataset.csv\")\n",
    "df.dropna(inplace=True) # Drop N/A values"
   ],
   "metadata": {
    "collapsed": false,
    "pycharm": {
     "name": "#%%\n"
    }
   }
  },
  {
   "cell_type": "code",
   "execution_count": 3,
   "outputs": [],
   "source": [
    "# Clean up the odor names by removing whitespace and commas\n",
    "\n",
    "odors_series = df['Odor']\n",
    "odors_series = odors_series.str.split(\",\")\n",
    "\n",
    "for index in odors_series.index:\n",
    "    # Clean up the odor names for each molecule\n",
    "    odors_series[index] = [odor.strip().strip(',').lower() for odor in odors_series[index]]"
   ],
   "metadata": {
    "collapsed": false,
    "pycharm": {
     "name": "#%%\n"
    }
   }
  },
  {
   "cell_type": "code",
   "execution_count": 4,
   "outputs": [],
   "source": [
    "all_odors = [] # List of all the odors present in the dataset\n",
    "def get_labels_counts(array):\n",
    "    for label in array:\n",
    "        if label not in all_odors:\n",
    "            all_odors.append(label)\n",
    "\n",
    "odors_series.apply(get_labels_counts)\n",
    "\n",
    "mlb = MultiLabelBinarizer() # Encoding the labels as boolean arrays\n",
    "encoding = mlb.fit_transform(odors_series.tolist())\n",
    "classes = mlb.classes_"
   ],
   "metadata": {
    "collapsed": false,
    "pycharm": {
     "name": "#%%\n"
    }
   }
  },
  {
   "cell_type": "code",
   "execution_count": 5,
   "outputs": [],
   "source": [
    "# Need to add it to the data frame because we shuffle before splitting\n",
    "encoding_df = pd.DataFrame(encoding, columns=classes)\n",
    "df.reset_index(drop=True, inplace=True)\n",
    "encoding_df.reset_index(drop=True, inplace=True)\n",
    "final_df = pd.concat([df, encoding_df], axis=1) # Adding the matrix as columns to the data frame\n",
    "\n",
    "# final_df is now the data frame to apply algorithms on"
   ],
   "metadata": {
    "collapsed": false,
    "pycharm": {
     "name": "#%%\n"
    }
   }
  },
  {
   "cell_type": "code",
   "execution_count": 6,
   "outputs": [
    {
     "name": "stdout",
     "output_type": "stream",
     "text": [
      "Average hamming loss =  0.01082318413901966\n",
      "Average precision =  0.26756587588418107\n",
      "Average recall =  0.11539924177679675\n"
     ]
    }
   ],
   "source": [
    "# Implementing k-fold cross validation #\n",
    "\n",
    "labels_to_drop = all_odors.copy()\n",
    "labels_to_drop += ['Odorant', 'Odor', 'SMILES representation'] # List of labels to drop for x_train and x_test\n",
    "\n",
    "k = 5\n",
    "avg_hamming_loss = 0\n",
    "avg_precision = 0\n",
    "avg_recall = 0\n",
    "\n",
    "kf = KFold(n_splits=k, shuffle=True, random_state=None)\n",
    "for train_index, test_index in kf.split(final_df):\n",
    "\n",
    "    train, test = final_df.iloc[train_index], final_df.iloc[test_index]\n",
    "    x_train = train.drop(labels=labels_to_drop, axis=1)\n",
    "    y_train = train.loc[:, all_odors]\n",
    "\n",
    "    x_test = test.drop(labels=labels_to_drop, axis=1)\n",
    "    y_test = test.loc[:, all_odors]\n",
    "\n",
    "    # Fitting a random forest to the data #\n",
    "\n",
    "    model = RandomForestClassifier(class_weight='balanced')\n",
    "    model.fit(x_train, y_train)\n",
    "    y_predict = model.predict(x_test)\n",
    "\n",
    "    avg_hamming_loss += hamming_loss(y_test, y_predict)\n",
    "    avg_precision += precision_score(y_test, y_predict, average='micro')\n",
    "    avg_recall += recall_score(y_test, y_predict, average='micro')\n",
    "\n",
    "\n",
    "avg_hamming_loss, avg_precision, avg_recall = avg_hamming_loss/k, avg_precision/k, avg_recall/k\n",
    "print(\"Average hamming loss = \", avg_hamming_loss)\n",
    "print(\"Average precision = \", avg_precision)\n",
    "print(\"Average recall = \", avg_recall)"
   ],
   "metadata": {
    "collapsed": false,
    "pycharm": {
     "name": "#%%\n"
    }
   }
  }
 ],
 "metadata": {
  "kernelspec": {
   "display_name": "Python 3",
   "language": "python",
   "name": "python3"
  },
  "language_info": {
   "codemirror_mode": {
    "name": "ipython",
    "version": 2
   },
   "file_extension": ".py",
   "mimetype": "text/x-python",
   "name": "python",
   "nbconvert_exporter": "python",
   "pygments_lexer": "ipython2",
   "version": "2.7.6"
  }
 },
 "nbformat": 4,
 "nbformat_minor": 0
}