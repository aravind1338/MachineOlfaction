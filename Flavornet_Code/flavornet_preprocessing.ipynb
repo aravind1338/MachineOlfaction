{
 "cells": [
  {
   "cell_type": "code",
   "execution_count": 1,
   "metadata": {
    "collapsed": true
   },
   "outputs": [],
   "source": [
    "import pandas as pd\n",
    "import matplotlib.pyplot as plt\n",
    "import itertools\n",
    "import networkx as nx"
   ]
  },
  {
   "cell_type": "code",
   "execution_count": 2,
   "outputs": [],
   "source": [
    "df = pd.read_csv(\"../Datasets/flavornet_dataset.csv\")"
   ],
   "metadata": {
    "collapsed": false,
    "pycharm": {
     "name": "#%%\n"
    }
   }
  },
  {
   "cell_type": "code",
   "execution_count": 3,
   "outputs": [
    {
     "name": "stdout",
     "output_type": "stream",
     "text": [
      "Number of odorants is 634\n",
      "\n",
      "\n",
      "Sample of the dataset\n",
      "          Odorant                      Odor SMILES representation    exactmw  \\\n",
      "0  trimethylamine                      fish                CN(C)C  59.073499   \n",
      "1         ethanal            pungent, ether                  CC=O  44.026215   \n",
      "2    methanethiol  sulfur, gasoline, garlic                    CS  48.003371   \n",
      "3        propanal          solvent, pungent                 CCC=O  58.041865   \n",
      "4         pentane                    alkane                 CCCCC  72.093900   \n",
      "\n",
      "   lipinskiHBA  lipinskiHBD  NumRotatableBonds  NumHBD  NumHBA  \\\n",
      "0          1.0          0.0                0.0     0.0     1.0   \n",
      "1          1.0          0.0                0.0     0.0     1.0   \n",
      "2          0.0          0.0                0.0     1.0     1.0   \n",
      "3          1.0          0.0                1.0     0.0     1.0   \n",
      "4          0.0          0.0                2.0     0.0     0.0   \n",
      "\n",
      "   NumHeteroatoms  ...  NumSaturatedHeterocycles  NumAliphaticHeterocycles  \\\n",
      "0             1.0  ...                       0.0                       0.0   \n",
      "1             1.0  ...                       0.0                       0.0   \n",
      "2             1.0  ...                       0.0                       0.0   \n",
      "3             1.0  ...                       0.0                       0.0   \n",
      "4             0.0  ...                       0.0                       0.0   \n",
      "\n",
      "   NumSpiroAtoms  NumBridgeheadAtoms  NumAtomStereoCenters  \\\n",
      "0            0.0                 0.0                   0.0   \n",
      "1            0.0                 0.0                   0.0   \n",
      "2            0.0                 0.0                   0.0   \n",
      "3            0.0                 0.0                   0.0   \n",
      "4            0.0                 0.0                   0.0   \n",
      "\n",
      "   NumUnspecifiedAtomStereoCenters  labuteASA   tpsa  CrippenClogP  CrippenMR  \n",
      "0                              0.0  27.228969   3.24        0.1778     19.611  \n",
      "1                              0.0  19.265715  17.07        0.2052     11.738  \n",
      "2                              0.0  19.894318   0.00        0.5460     14.910  \n",
      "3                              0.0  25.630657  17.07        0.5953     16.355  \n",
      "4                              0.0  34.199019   0.00        2.1965     25.199  \n",
      "\n",
      "[5 rows x 28 columns]\n"
     ]
    }
   ],
   "source": [
    "df = df.dropna() # Drop N/A values\n",
    "print(\"Number of odorants is %d\" % len(df))\n",
    "print(\"\\n\")\n",
    "print(\"Sample of the dataset\")\n",
    "print(df.head())"
   ],
   "metadata": {
    "collapsed": false,
    "pycharm": {
     "name": "#%%\n"
    }
   }
  },
  {
   "cell_type": "code",
   "execution_count": 4,
   "outputs": [
    {
     "data": {
      "text/plain": "0      None\n1      None\n2      None\n3      None\n4      None\n       ... \n732    None\n733    None\n734    None\n735    None\n737    None\nName: Odor, Length: 634, dtype: object"
     },
     "execution_count": 4,
     "metadata": {},
     "output_type": "execute_result"
    }
   ],
   "source": [
    "# Bar graph to view the distribution of number of descriptors per molecule\n",
    "num_descriptors = [0]*6 # array with the distributions. Max 5 descriptors per molecule\n",
    "odors_series = df['Odor']\n",
    "odors_series = odors_series.str.split(\",\") # Pandas series method to split on a delimiter\n",
    "\n",
    "def get_odor_distribution(array):\n",
    "    # Input is a row of the Series containing descriptors\n",
    "    number_of_descriptors = len(array)\n",
    "    num_descriptors[number_of_descriptors] += 1\n",
    "\n",
    "odors_series.apply(get_odor_distribution)"
   ],
   "metadata": {
    "collapsed": false,
    "pycharm": {
     "name": "#%%\n"
    }
   }
  },
  {
   "cell_type": "code",
   "execution_count": 5,
   "outputs": [
    {
     "data": {
      "text/plain": "<Figure size 432x288 with 1 Axes>",
      "image/png": "[encoded data removed]"
     },
     "metadata": {
      "needs_background": "light"
     },
     "output_type": "display_data"
    }
   ],
   "source": [
    "indices = [x for x in range(0, len(num_descriptors))]\n",
    "fig = plt.figure()\n",
    "ax = fig.add_axes([0,0,1,1])\n",
    "ax.bar(indices,num_descriptors)\n",
    "plt.xlabel(\"Number of text descriptors\")\n",
    "plt.ylabel(\"Number of molecules\")\n",
    "plt.show()"
   ],
   "metadata": {
    "collapsed": false,
    "pycharm": {
     "name": "#%%\n"
    }
   }
  },
  {
   "cell_type": "code",
   "execution_count": 6,
   "outputs": [
    {
     "data": {
      "text/plain": "<Figure size 432x288 with 1 Axes>",
      "image/png": "[encoded data removed]"
     },
     "metadata": {},
     "output_type": "display_data"
    }
   ],
   "source": [
    "# Code to visualize the connection strength between descriptors\n",
    "\n",
    "edge_dict = {} # Dictionary of edges and corresponding counts\n",
    "total_pairs = 0\n",
    "def create_edge_list(array):\n",
    "    global total_pairs\n",
    "    array = sorted([name.strip().strip(',').lower() for name in array])\n",
    "    if len(array) > 1:\n",
    "        # If there is more than one descriptor\n",
    "        for pair in itertools.combinations(array, 2):\n",
    "            total_pairs += 1\n",
    "            final_pair = pair[0] + \",\" + pair[1]\n",
    "            edge_dict[final_pair] = edge_dict.get(final_pair, 0) + 1 # Update dictionary value\n",
    "\n",
    "odors_series.apply(create_edge_list) # Create edge list from data\n",
    "\n",
    "# Create a graph object #\n",
    "connection_strength_graph = nx.Graph()\n",
    "\n",
    "# Now need to update dictionary counts as weights by dividing by total\n",
    "for edge in edge_dict:\n",
    "    if edge_dict[edge] > 3:\n",
    "        # Too many nodes make it hard to visualize the graph; removing edges that don't occur more than thrice\n",
    "        edge_list = edge.split(',')\n",
    "        weight = edge_dict[edge]/total_pairs\n",
    "        connection_strength_graph.add_edge(edge_list[0], edge_list[1], weight=weight) # Add this edge to the graph\n",
    "\n",
    "\n",
    "final_edges,final_weights = zip(*nx.get_edge_attributes(connection_strength_graph,'weight').items())\n",
    "nx.draw(connection_strength_graph, node_color='#A0CBE2', edge_color=final_weights, width=7, edge_cmap=plt.cm.Greens, with_labels=True)\n",
    "plt.show()"
   ],
   "metadata": {
    "collapsed": false,
    "pycharm": {
     "name": "#%%\n"
    }
   }
  },
  {
   "cell_type": "code",
   "execution_count": 8,
   "outputs": [
    {
     "name": "stdout",
     "output_type": "stream",
     "text": [
      "The number of unique labels in the original dataset is 189\n",
      "['fish', 'pungent', 'ether', 'sulfur', 'gasoline', 'garlic', 'solvent', 'alkane', 'alcohol', 'cabbage', 'pineapple', 'herb', 'wine', 'bitter', 'flower', 'mint', 'cocoa', 'almond', 'malt', 'alkaline', 'sweet', 'rancid', 'soy', 'butter', 'apple', 'medicine', 'fruit', 'green', 'cream', 'cheese', 'sweat', 'grape', 'sour', 'onion', 'putrid', 'whiskey', 'burnt', 'strawberry', 'tomato', 'cooked vegetable', 'metal', 'balsamic', 'plastic', 'rubber', 'paint', 'banana', 'grass', 'tallow', 'fat', 'chemical', 'leaf', 'truffle', 'baked', 'pear', 'bread', 'amine', 'smoke', 'earth', 'nut', 'popcorn', 'thiamin', 'acid', 'meat', 'camphor', 'resin', 'mold', 'cooked potato', 'walnut', 'geranium', 'soap', 'roasted nut', 'yeast', 'roasted meat', 'citrus', 'biscuit', 'must', 'roast beef', 'peanut butter', 'wood', 'pesticide', 'roast', 'cat', 'black currant', 'mushroom', 'fresh', 'pine', 'turpentine', 'marshmallow', 'burnt sugar', 'potato', 'cooked meat', 'meat broth', 'caramel', 'phenol', 'pepper', 'lemon', 'green bean', 'fried', 'apple peel', 'warm', 'orange peel', 'spice', 'moss', 'broccoli', 'hawthorne', 'honey', 'rose', 'orange', 'crushed bug', 'tomato leaf', 'box tree', 'green leaf', 'mildew', 'terpentine', 'melon', 'wet cloth', 'tart lime', 'cologne', 'cotton candy', 'maple', 'prune', 'lettuce', 'fecal', 'cucumber', 'lilac', 'pea', 'hyacinth', 'lavender', 'seaweed', 'hot milk', 'dust', 'oil', 'ester', 'orris', 'paper', 'wax', 'mustard', 'horseradish', 'boiled vegetable', 'peppermint', 'carrot', 'camomile', 'celery', 'bitter almond', 'green pepper', 'spearmint', 'caraway', 'nutmeg', 'menthol', 'watermelon', 'licorice', 'anise', 'tar', 'coriander', 'coconut', 'dill', 'tobacco', 'straw', 'sharp', 'foxy', 'urine', 'grapefruit', 'cinnamon', 'clove', 'peach', 'mothball', 'cognac', 'coumarin', 'curry', 'hummus', 'plum', 'vanilla', 'mandarin', 'apple. rose', 'beet', 'violet', 'wintergreen', 'magnolia', 'raspberry', 'thyme', 'jasmine', 'green tea', 'weak spice', 'brown sugar', 'muguet', 'cardboard', 'apricot', 'almond shell', 'butterscotch']\n"
     ]
    }
   ],
   "source": [
    "# Code to get the unique labels in the dataset\n",
    "\n",
    "all_labels = []\n",
    "def number_of_descriptors(array):\n",
    "    global all_labels\n",
    "    array = [name.strip().strip(',').lower() for name in array]\n",
    "    for label in array:\n",
    "        if label not in all_labels:\n",
    "            all_labels.append(label)\n",
    "\n",
    "\n",
    "odors_series.apply(number_of_descriptors)\n",
    "\n",
    "print(\"The number of unique labels in the original dataset is %d\" % len(all_labels))\n",
    "print(all_labels)\n",
    "\n"
   ],
   "metadata": {
    "collapsed": false,
    "pycharm": {
     "name": "#%%\n"
    }
   }
  }
 ],
 "metadata": {
  "kernelspec": {
   "display_name": "Python 3",
   "language": "python",
   "name": "python3"
  },
  "language_info": {
   "codemirror_mode": {
    "name": "ipython",
    "version": 2
   },
   "file_extension": ".py",
   "mimetype": "text/x-python",
   "name": "python",
   "nbconvert_exporter": "python",
   "pygments_lexer": "ipython2",
   "version": "2.7.6"
  }
 },
 "nbformat": 4,
 "nbformat_minor": 0
}