{
 "cells": [
  {
   "cell_type": "code",
   "execution_count": 9,
   "metadata": {
    "collapsed": true
   },
   "outputs": [],
   "source": [
    "import pandas as pd\n",
    "import matplotlib.pyplot as plt\n",
    "import itertools"
   ]
  },
  {
   "cell_type": "code",
   "execution_count": 10,
   "outputs": [],
   "source": [
    "df = pd.read_csv(\"../Datasets/flavornet_dataset.csv\")"
   ],
   "metadata": {
    "collapsed": false,
    "pycharm": {
     "name": "#%%\n"
    }
   }
  },
  {
   "cell_type": "code",
   "execution_count": 11,
   "outputs": [
    {
     "name": "stdout",
     "output_type": "stream",
     "text": [
      "Number of odorants is 634\n",
      "\n",
      "\n",
      "Sample of the dataset\n",
      "          Odorant                      Odor SMILES representation    exactmw  \\\n",
      "0  trimethylamine                      fish                CN(C)C  59.073499   \n",
      "1         ethanal            pungent, ether                  CC=O  44.026215   \n",
      "2    methanethiol  sulfur, gasoline, garlic                    CS  48.003371   \n",
      "3        propanal          solvent, pungent                 CCC=O  58.041865   \n",
      "4         pentane                    alkane                 CCCCC  72.093900   \n",
      "\n",
      "   lipinskiHBA  lipinskiHBD  NumRotatableBonds  NumHBD  NumHBA  \\\n",
      "0          1.0          0.0                0.0     0.0     1.0   \n",
      "1          1.0          0.0                0.0     0.0     1.0   \n",
      "2          0.0          0.0                0.0     1.0     1.0   \n",
      "3          1.0          0.0                1.0     0.0     1.0   \n",
      "4          0.0          0.0                2.0     0.0     0.0   \n",
      "\n",
      "   NumHeteroatoms  ...  NumSaturatedHeterocycles  NumAliphaticHeterocycles  \\\n",
      "0             1.0  ...                       0.0                       0.0   \n",
      "1             1.0  ...                       0.0                       0.0   \n",
      "2             1.0  ...                       0.0                       0.0   \n",
      "3             1.0  ...                       0.0                       0.0   \n",
      "4             0.0  ...                       0.0                       0.0   \n",
      "\n",
      "   NumSpiroAtoms  NumBridgeheadAtoms  NumAtomStereoCenters  \\\n",
      "0            0.0                 0.0                   0.0   \n",
      "1            0.0                 0.0                   0.0   \n",
      "2            0.0                 0.0                   0.0   \n",
      "3            0.0                 0.0                   0.0   \n",
      "4            0.0                 0.0                   0.0   \n",
      "\n",
      "   NumUnspecifiedAtomStereoCenters  labuteASA   tpsa  CrippenClogP  CrippenMR  \n",
      "0                              0.0  27.228969   3.24        0.1778     19.611  \n",
      "1                              0.0  19.265715  17.07        0.2052     11.738  \n",
      "2                              0.0  19.894318   0.00        0.5460     14.910  \n",
      "3                              0.0  25.630657  17.07        0.5953     16.355  \n",
      "4                              0.0  34.199019   0.00        2.1965     25.199  \n",
      "\n",
      "[5 rows x 28 columns]\n"
     ]
    }
   ],
   "source": [
    "df = df.dropna() # Drop N/A values\n",
    "print(\"Number of odorants is %d\" % len(df))\n",
    "print(\"\\n\")\n",
    "print(\"Sample of the dataset\")\n",
    "print(df.head())"
   ],
   "metadata": {
    "collapsed": false,
    "pycharm": {
     "name": "#%%\n"
    }
   }
  },
  {
   "cell_type": "code",
   "execution_count": 12,
   "outputs": [
    {
     "data": {
      "text/plain": "0      None\n1      None\n2      None\n3      None\n4      None\n       ... \n732    None\n733    None\n734    None\n735    None\n737    None\nName: Odor, Length: 634, dtype: object"
     },
     "execution_count": 12,
     "metadata": {},
     "output_type": "execute_result"
    }
   ],
   "source": [
    "# Bar graph to view the distribution of number of descriptors per molecule\n",
    "num_descriptors = [0]*6 # array with the distributions. Max 5 descriptors per molecule\n",
    "odors_series = df['Odor']\n",
    "odors_series = odors_series.str.split(\",\") # Pandas series method to split on a delimiter\n",
    "\n",
    "def get_odor_distribution(array):\n",
    "    # Input is a row of the Series containing descriptors\n",
    "    number_of_descriptors = len(array)\n",
    "    num_descriptors[number_of_descriptors] += 1\n",
    "\n",
    "odors_series.apply(get_odor_distribution)"
   ],
   "metadata": {
    "collapsed": false,
    "pycharm": {
     "name": "#%%\n"
    }
   }
  },
  {
   "cell_type": "code",
   "execution_count": 13,
   "outputs": [
    {
     "data": {
      "text/plain": "<Figure size 432x288 with 1 Axes>",
      "image/png": "[encoded data removed]"
     },
     "metadata": {
      "needs_background": "light"
     },
     "output_type": "display_data"
    }
   ],
   "source": [
    "indices = [x for x in range(0, len(num_descriptors))]\n",
    "fig = plt.figure()\n",
    "ax = fig.add_axes([0,0,1,1])\n",
    "ax.bar(indices,num_descriptors)\n",
    "plt.xlabel(\"Number of text descriptors\")\n",
    "plt.ylabel(\"Number of molecules\")\n",
    "plt.show()"
   ],
   "metadata": {
    "collapsed": false,
    "pycharm": {
     "name": "#%%\n"
    }
   }
  },
  {
   "cell_type": "code",
   "execution_count": 24,
   "outputs": [
    {
     "name": "stdout",
     "output_type": "stream",
     "text": [
      "('ether', 'pungent')\n",
      "('garlic', 'gasoline')\n",
      "('garlic', 'sulfur')\n",
      "('gasoline', 'sulfur')\n",
      "('pungent', 'solvent')\n",
      "('alcohol', 'pungent')\n",
      "('cabbage', 'gasoline')\n",
      "('cabbage', 'sulfur')\n",
      "('gasoline', 'sulfur')\n",
      "('garlic', 'sulfur')\n"
     ]
    },
    {
     "data": {
      "text/plain": "0    None\n1    None\n2    None\n3    None\n4    None\n5    None\n6    None\n7    None\n8    None\n9    None\nName: Odor, dtype: object"
     },
     "execution_count": 24,
     "metadata": {},
     "output_type": "execute_result"
    }
   ],
   "source": [
    "# Code to visualize the connection strength between descriptors\n",
    "\n",
    "edge_dict = {} # Dictionary of edges and corresponding counts\n",
    "total_pairs = 0\n",
    "\n",
    "def create_edge_connections(array):\n",
    "    global total_pairs\n",
    "    array = sorted([name.strip().lower() for name in array])\n",
    "    if len(array) > 1:\n",
    "        # If there is more than one descriptor\n",
    "        for pair in itertools.combinations(array, 2):\n",
    "            total_pairs += 1\n",
    "            final_pair = pair[0] + \",\" + pair[1]\n",
    "\n",
    "            edge_dict[final_pair] = edge_dict.get(final_pair, 0) + 1 # Update dictionary value\n",
    "\n",
    "# Now need to update dictionary counts as weights by dividing by total\n",
    "temp_series = odors_series.head(10)\n",
    "temp_series.apply(create_edge_connections)"
   ],
   "metadata": {
    "collapsed": false,
    "pycharm": {
     "name": "#%%\n"
    }
   }
  },
  {
   "cell_type": "code",
   "execution_count": 25,
   "outputs": [
    {
     "data": {
      "text/plain": "0                           [fish]\n1                [pungent,  ether]\n2     [sulfur,  gasoline,  garlic]\n3              [solvent,  pungent]\n4                         [alkane]\n5              [alcohol,  pungent]\n6    [cabbage,  sulfur,  gasoline]\n7                        [pungent]\n8                          [ether]\n9                [sulfur,  garlic]\nName: Odor, dtype: object"
     },
     "execution_count": 25,
     "metadata": {},
     "output_type": "execute_result"
    }
   ],
   "source": [
    "temp_series\n",
    "edge_dict"
   ],
   "metadata": {
    "collapsed": false,
    "pycharm": {
     "name": "#%%\n"
    }
   }
  },
  {
   "cell_type": "code",
   "execution_count": 26,
   "outputs": [
    {
     "data": {
      "text/plain": "{'ether,pungent': 1,\n 'garlic,gasoline': 1,\n 'garlic,sulfur': 2,\n 'gasoline,sulfur': 2,\n 'pungent,solvent': 1,\n 'alcohol,pungent': 1,\n 'cabbage,gasoline': 1,\n 'cabbage,sulfur': 1}"
     },
     "execution_count": 26,
     "metadata": {},
     "output_type": "execute_result"
    }
   ],
   "source": [],
   "metadata": {
    "collapsed": false,
    "pycharm": {
     "name": "#%%\n"
    }
   }
  },
  {
   "cell_type": "code",
   "execution_count": null,
   "outputs": [],
   "source": [
    "\n"
   ],
   "metadata": {
    "collapsed": false,
    "pycharm": {
     "name": "#%%\n"
    }
   }
  }
 ],
 "metadata": {
  "kernelspec": {
   "display_name": "Python 3",
   "language": "python",
   "name": "python3"
  },
  "language_info": {
   "codemirror_mode": {
    "name": "ipython",
    "version": 2
   },
   "file_extension": ".py",
   "mimetype": "text/x-python",
   "name": "python",
   "nbconvert_exporter": "python",
   "pygments_lexer": "ipython2",
   "version": "2.7.6"
  }
 },
 "nbformat": 4,
 "nbformat_minor": 0
}