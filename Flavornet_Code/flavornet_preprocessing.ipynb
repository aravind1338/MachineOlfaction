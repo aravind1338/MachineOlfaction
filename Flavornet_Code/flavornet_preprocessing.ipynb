{
 "cells": [
  {
   "cell_type": "code",
   "execution_count": 1,
   "metadata": {
    "collapsed": true
   },
   "outputs": [],
   "source": [
    "import numpy as np\n",
    "import pandas as pd\n",
    "import matplotlib as plt"
   ]
  },
  {
   "cell_type": "code",
   "execution_count": 2,
   "outputs": [],
   "source": [
    "df = pd.read_csv(\"../Datasets/flavornet_dataset.csv\")\n"
   ],
   "metadata": {
    "collapsed": false,
    "pycharm": {
     "name": "#%%\n"
    }
   }
  },
  {
   "cell_type": "code",
   "execution_count": 8,
   "outputs": [
    {
     "name": "stdout",
     "output_type": "stream",
     "text": [
      "Number of odorants is 634\n",
      "\n",
      "\n",
      "Sample of the dataset\n",
      "          Odorant                      Odor SMILES representation    exactmw  \\\n",
      "0  trimethylamine                      fish                CN(C)C  59.073499   \n",
      "1         ethanal            pungent, ether                  CC=O  44.026215   \n",
      "2    methanethiol  sulfur, gasoline, garlic                    CS  48.003371   \n",
      "3        propanal          solvent, pungent                 CCC=O  58.041865   \n",
      "4         pentane                    alkane                 CCCCC  72.093900   \n",
      "\n",
      "   lipinskiHBA  lipinskiHBD  NumRotatableBonds  NumHBD  NumHBA  \\\n",
      "0          1.0          0.0                0.0     0.0     1.0   \n",
      "1          1.0          0.0                0.0     0.0     1.0   \n",
      "2          0.0          0.0                0.0     1.0     1.0   \n",
      "3          1.0          0.0                1.0     0.0     1.0   \n",
      "4          0.0          0.0                2.0     0.0     0.0   \n",
      "\n",
      "   NumHeteroatoms  ...  NumSaturatedHeterocycles  NumAliphaticHeterocycles  \\\n",
      "0             1.0  ...                       0.0                       0.0   \n",
      "1             1.0  ...                       0.0                       0.0   \n",
      "2             1.0  ...                       0.0                       0.0   \n",
      "3             1.0  ...                       0.0                       0.0   \n",
      "4             0.0  ...                       0.0                       0.0   \n",
      "\n",
      "   NumSpiroAtoms  NumBridgeheadAtoms  NumAtomStereoCenters  \\\n",
      "0            0.0                 0.0                   0.0   \n",
      "1            0.0                 0.0                   0.0   \n",
      "2            0.0                 0.0                   0.0   \n",
      "3            0.0                 0.0                   0.0   \n",
      "4            0.0                 0.0                   0.0   \n",
      "\n",
      "   NumUnspecifiedAtomStereoCenters  labuteASA   tpsa  CrippenClogP  CrippenMR  \n",
      "0                              0.0  27.228969   3.24        0.1778     19.611  \n",
      "1                              0.0  19.265715  17.07        0.2052     11.738  \n",
      "2                              0.0  19.894318   0.00        0.5460     14.910  \n",
      "3                              0.0  25.630657  17.07        0.5953     16.355  \n",
      "4                              0.0  34.199019   0.00        2.1965     25.199  \n",
      "\n",
      "[5 rows x 28 columns]\n"
     ]
    }
   ],
   "source": [
    "df = df.dropna() # Drop N/A values\n",
    "print(\"Number of odorants is %d\" % len(df))\n",
    "print(\"\\n\")\n",
    "print(\"Sample of the dataset\")\n",
    "print(df.head())"
   ],
   "metadata": {
    "collapsed": false,
    "pycharm": {
     "name": "#%%\n"
    }
   }
  },
  {
   "cell_type": "code",
   "execution_count": null,
   "outputs": [],
   "source": [
    "# Graph to view the distribution of number of descriptors per molecule\n"
   ],
   "metadata": {
    "collapsed": false,
    "pycharm": {
     "name": "#%%\n"
    }
   }
  }
 ],
 "metadata": {
  "kernelspec": {
   "display_name": "Python 3",
   "language": "python",
   "name": "python3"
  },
  "language_info": {
   "codemirror_mode": {
    "name": "ipython",
    "version": 2
   },
   "file_extension": ".py",
   "mimetype": "text/x-python",
   "name": "python",
   "nbconvert_exporter": "python",
   "pygments_lexer": "ipython2",
   "version": "2.7.6"
  }
 },
 "nbformat": 4,
 "nbformat_minor": 0
}