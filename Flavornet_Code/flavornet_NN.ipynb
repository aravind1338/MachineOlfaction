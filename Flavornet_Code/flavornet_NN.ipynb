{
 "cells": [
  {
   "cell_type": "code",
   "execution_count": 1,
   "metadata": {
    "collapsed": true
   },
   "outputs": [
    {
     "name": "stderr",
     "output_type": "stream",
     "text": [
      "Using TensorFlow backend.\n"
     ]
    }
   ],
   "source": [
    "import pandas as pd\n",
    "from sklearn.model_selection import train_test_split\n",
    "from sklearn.preprocessing import MultiLabelBinarizer\n",
    "from keras.models import Sequential\n",
    "from keras.layers import Dense"
   ]
  },
  {
   "cell_type": "code",
   "execution_count": 2,
   "outputs": [],
   "source": [
    "df = pd.read_csv(\"../Datasets/flavornet_dataset.csv\")\n",
    "df.dropna(inplace=True) # Drop N/A values\n",
    "\n",
    "# Clean up the odor names by removing whitespace and commas\n",
    "\n",
    "odors_series = df['Odor']\n",
    "odors_series = odors_series.str.split(\",\")\n",
    "\n",
    "for index in odors_series.index:\n",
    "    # Clean up the odor names for each molecule\n",
    "    odors_series[index] = [odor.strip().strip(',').lower() for odor in odors_series[index]]"
   ],
   "metadata": {
    "collapsed": false,
    "pycharm": {
     "name": "#%%\n"
    }
   }
  },
  {
   "cell_type": "code",
   "execution_count": 3,
   "outputs": [],
   "source": [
    "all_odors = [] # List of all the odors present in the dataset\n",
    "def get_labels_counts(array):\n",
    "    for label in array:\n",
    "        if label not in all_odors:\n",
    "            all_odors.append(label)\n",
    "\n",
    "odors_series.apply(get_labels_counts)\n",
    "\n",
    "mlb = MultiLabelBinarizer() # Encoding the labels as boolean arrays\n",
    "encoding = mlb.fit_transform(odors_series.tolist())\n",
    "classes = mlb.classes_"
   ],
   "metadata": {
    "collapsed": false,
    "pycharm": {
     "name": "#%%\n"
    }
   }
  },
  {
   "cell_type": "code",
   "execution_count": 4,
   "outputs": [],
   "source": [
    "\n",
    "# Need to add it to the data frame because we shuffle before splitting\n",
    "encoding_df = pd.DataFrame(encoding, columns=classes)\n",
    "df.reset_index(drop=True, inplace=True)\n",
    "encoding_df.reset_index(drop=True, inplace=True)\n",
    "final_df = pd.concat([df, encoding_df], axis=1) # Adding the matrix as columns to the data frame\n",
    "\n",
    "# final_df is now the data frame to apply algorithms on"
   ],
   "metadata": {
    "collapsed": false,
    "pycharm": {
     "name": "#%%\n"
    }
   }
  },
  {
   "cell_type": "code",
   "execution_count": 5,
   "outputs": [],
   "source": [
    "labels_to_drop = all_odors.copy()\n",
    "labels_to_drop += ['Odorant', 'Odor', 'SMILES representation'] # List of labels to drop for x_train and x_test\n",
    "\n",
    "x = final_df.drop(labels=labels_to_drop, axis=1)\n",
    "y = final_df.loc[:, all_odors]\n",
    "\n",
    "x_train, x_test, y_train, y_test = train_test_split(x, y, test_size=0.33, random_state=42)"
   ],
   "metadata": {
    "collapsed": false,
    "pycharm": {
     "name": "#%%\n"
    }
   }
  },
  {
   "cell_type": "code",
   "execution_count": 6,
   "outputs": [
    {
     "name": "stdout",
     "output_type": "stream",
     "text": [
      "Epoch 1/2\n",
      "2/2 [==============================] - 0s 2ms/step - loss: 5.5041 - accuracy: 0.0118\b\b\b\b\b\b\b\b\b\b\b\b\b\b\b\b\b\b\b\b\b\b\b\b\b\b\b\b\b\b\b\b\b\b\b\b\b\b\b\b\b\b\b\b\b\b\b\b\b\b\b\b\b\b\b\b\b\b\b\b\b\b\b\b\b\b\b\b\b\b\b\b\b\b\b\b\n",
      "Epoch 2/2\n",
      "2/2 [==============================] - 0s 6ms/step - loss: 3.7682 - accuracy: 0.0094\b\b\b\b\b\b\b\b\b\b\b\b\b\b\b\b\b\b\b\b\b\b\b\b\b\b\b\b\b\b\b\b\b\b\b\b\b\b\b\b\b\b\b\b\b\b\b\b\b\b\b\b\b\b\b\b\b\b\b\b\b\b\b\b\b\b\b\b\b\b\b\b\b\b\b\b\n"
     ]
    }
   ],
   "source": [
    "# Apply neural network model #\n",
    "\n",
    "model = Sequential()\n",
    "model.add(Dense(50, activation='relu', input_dim=x_train.shape[1]))\n",
    "model.add(Dense(y_train.shape[1], activation='sigmoid'))\n",
    "model.compile(loss='binary_crossentropy', optimizer='sgd', metrics=['accuracy'])\n",
    "\n",
    "model.fit(x_train, y_train,epochs=2,batch_size=400)\n",
    "preds = model.predict(x_test) # Predictions\n",
    "preds[preds>=0.5] = 1\n",
    "preds[preds<0.5] = 0"
   ],
   "metadata": {
    "collapsed": false,
    "pycharm": {
     "name": "#%%\n"
    }
   }
  }
 ],
 "metadata": {
  "kernelspec": {
   "display_name": "Python 3",
   "language": "python",
   "name": "python3"
  },
  "language_info": {
   "codemirror_mode": {
    "name": "ipython",
    "version": 2
   },
   "file_extension": ".py",
   "mimetype": "text/x-python",
   "name": "python",
   "nbconvert_exporter": "python",
   "pygments_lexer": "ipython2",
   "version": "2.7.6"
  }
 },
 "nbformat": 4,
 "nbformat_minor": 0
}