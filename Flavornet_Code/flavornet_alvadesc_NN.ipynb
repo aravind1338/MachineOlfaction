{
 "cells": [
  {
   "cell_type": "code",
   "execution_count": 1,
   "outputs": [
    {
     "name": "stderr",
     "output_type": "stream",
     "text": [
      "Using TensorFlow backend.\n"
     ]
    }
   ],
   "source": [
    "import pandas as pd\n",
    "from sklearn.metrics import precision_score, recall_score, hamming_loss\n",
    "from sklearn.model_selection import train_test_split\n",
    "from sklearn.preprocessing import MultiLabelBinarizer\n",
    "from keras.models import Sequential\n",
    "from keras.layers import Dense"
   ],
   "metadata": {
    "collapsed": false,
    "pycharm": {
     "name": "#%%\n"
    }
   }
  },
  {
   "cell_type": "code",
   "execution_count": 2,
   "outputs": [
    {
     "data": {
      "text/plain": "                  NAME     MW       AMW      Sv       Se       Sp       Si  \\\n0       trimethylamine  59.13  4.548462  6.1286  12.6362   7.0513  15.1591   \n1              ethanal  44.06  6.294286  3.7684   7.0945   3.9773   8.0398   \n2         methanethiol  48.12  8.020000  3.2407   5.8436   4.1705   6.7504   \n3             propanal  58.09  5.809000  5.2952   9.9781   5.7387  11.4550   \n4              pentane  72.17  4.245294  8.1608  16.3016   9.5684  19.4912   \n5             propanol  60.11  5.009167  5.8220  11.8617   6.5001  13.8702   \n6      dimethylsulfide  62.15  6.905556  4.7675   8.7272   5.9319  10.1656   \n7         ethylformate  74.09  6.735455  6.0100  11.3054   6.1932  12.6644   \n8    methylethylketone  72.12  5.547692  6.8220  12.8617   7.5001  14.8702   \n9   methylethylsulfide  76.18  6.348333  6.2943  11.6108   7.6933  13.5808   \n10              hexane  86.20  4.310000  9.6876  19.1852  11.3298  22.9064   \n11        ethylacetate  88.12  6.294286  7.5368  14.1890   7.9546  16.0796   \n12       methylbutenol  86.15  5.384375  8.3488  15.7453   9.2615  18.2854   \n13           pentanone  86.15  5.384375  8.3488  15.7453   9.2615  18.2854   \n14          isobutanol  74.14  4.942667  7.3488  14.7453   8.2615  17.2854   \n\n          Mv        Me        Mp  ...        N%         O%  X%  nCsp3  nCsp2  \\\n0   0.471431  0.972015  0.542408  ...  7.692308   0.000000   0      3      0   \n1   0.538343  1.013500  0.568186  ...  0.000000  14.285714   0      1      1   \n2   0.540117  0.973933  0.695083  ...  0.000000   0.000000   0      1      0   \n3   0.529520  0.997810  0.573870  ...  0.000000  10.000000   0      2      1   \n4   0.480047  0.958918  0.562847  ...  0.000000   0.000000   0      5      0   \n5   0.485167  0.988475  0.541675  ...  0.000000   8.333333   0      3      0   \n6   0.529722  0.969689  0.659100  ...  0.000000   0.000000   0      2      0   \n7   0.546364  1.027764  0.563018  ...  0.000000  18.181818   0      2      1   \n8   0.524769  0.989362  0.576931  ...  0.000000   7.692308   0      3      1   \n9   0.524525  0.967567  0.641108  ...  0.000000   0.000000   0      3      0   \n10  0.484380  0.959260  0.566490  ...  0.000000   0.000000   0      6      0   \n11  0.538343  1.013500  0.568186  ...  0.000000  14.285714   0      3      1   \n12  0.521800  0.984081  0.578844  ...  0.000000   6.250000   0      3      2   \n13  0.521800  0.984081  0.578844  ...  0.000000   6.250000   0      4      1   \n14  0.489920  0.983020  0.550767  ...  0.000000   6.666667   0      4      0   \n\n    nCsp  max_conj_path  nStructures  totalcharge                       Odor  \n0      0              0            1            0                       fish  \n1      0              0            1            0             pungent, ether  \n2      0              0            1            0   sulfur, gasoline, garlic  \n3      0              0            1            0           solvent, pungent  \n4      0              0            1            0                     alkane  \n5      0              0            1            0           alcohol, pungent  \n6      0              0            1            0  cabbage, sulfur, gasoline  \n7      0              0            1            0                    pungent  \n8      0              0            1            0                      ether  \n9      0              0            1            0             sulfur, garlic  \n10     0              0            1            0                     alkane  \n11     0              0            1            0                  pineapple  \n12     0              0            1            0                       herb  \n13     0              0            1            0                      ether  \n14     0              0            1            0      wine, solvent, bitter  \n\n[15 rows x 50 columns]",
      "text/html": "<div>\n<style scoped>\n    .dataframe tbody tr th:only-of-type {\n        vertical-align: middle;\n    }\n\n    .dataframe tbody tr th {\n        vertical-align: top;\n    }\n\n    .dataframe thead th {\n        text-align: right;\n    }\n</style>\n<table border=\"1\" class=\"dataframe\">\n  <thead>\n    <tr style=\"text-align: right;\">\n      <th></th>\n      <th>NAME</th>\n      <th>MW</th>\n      <th>AMW</th>\n      <th>Sv</th>\n      <th>Se</th>\n      <th>Sp</th>\n      <th>Si</th>\n      <th>Mv</th>\n      <th>Me</th>\n      <th>Mp</th>\n      <th>...</th>\n      <th>N%</th>\n      <th>O%</th>\n      <th>X%</th>\n      <th>nCsp3</th>\n      <th>nCsp2</th>\n      <th>nCsp</th>\n      <th>max_conj_path</th>\n      <th>nStructures</th>\n      <th>totalcharge</th>\n      <th>Odor</th>\n    </tr>\n  </thead>\n  <tbody>\n    <tr>\n      <th>0</th>\n      <td>trimethylamine</td>\n      <td>59.13</td>\n      <td>4.548462</td>\n      <td>6.1286</td>\n      <td>12.6362</td>\n      <td>7.0513</td>\n      <td>15.1591</td>\n      <td>0.471431</td>\n      <td>0.972015</td>\n      <td>0.542408</td>\n      <td>...</td>\n      <td>7.692308</td>\n      <td>0.000000</td>\n      <td>0</td>\n      <td>3</td>\n      <td>0</td>\n      <td>0</td>\n      <td>0</td>\n      <td>1</td>\n      <td>0</td>\n      <td>fish</td>\n    </tr>\n    <tr>\n      <th>1</th>\n      <td>ethanal</td>\n      <td>44.06</td>\n      <td>6.294286</td>\n      <td>3.7684</td>\n      <td>7.0945</td>\n      <td>3.9773</td>\n      <td>8.0398</td>\n      <td>0.538343</td>\n      <td>1.013500</td>\n      <td>0.568186</td>\n      <td>...</td>\n      <td>0.000000</td>\n      <td>14.285714</td>\n      <td>0</td>\n      <td>1</td>\n      <td>1</td>\n      <td>0</td>\n      <td>0</td>\n      <td>1</td>\n      <td>0</td>\n      <td>pungent, ether</td>\n    </tr>\n    <tr>\n      <th>2</th>\n      <td>methanethiol</td>\n      <td>48.12</td>\n      <td>8.020000</td>\n      <td>3.2407</td>\n      <td>5.8436</td>\n      <td>4.1705</td>\n      <td>6.7504</td>\n      <td>0.540117</td>\n      <td>0.973933</td>\n      <td>0.695083</td>\n      <td>...</td>\n      <td>0.000000</td>\n      <td>0.000000</td>\n      <td>0</td>\n      <td>1</td>\n      <td>0</td>\n      <td>0</td>\n      <td>0</td>\n      <td>1</td>\n      <td>0</td>\n      <td>sulfur, gasoline, garlic</td>\n    </tr>\n    <tr>\n      <th>3</th>\n      <td>propanal</td>\n      <td>58.09</td>\n      <td>5.809000</td>\n      <td>5.2952</td>\n      <td>9.9781</td>\n      <td>5.7387</td>\n      <td>11.4550</td>\n      <td>0.529520</td>\n      <td>0.997810</td>\n      <td>0.573870</td>\n      <td>...</td>\n      <td>0.000000</td>\n      <td>10.000000</td>\n      <td>0</td>\n      <td>2</td>\n      <td>1</td>\n      <td>0</td>\n      <td>0</td>\n      <td>1</td>\n      <td>0</td>\n      <td>solvent, pungent</td>\n    </tr>\n    <tr>\n      <th>4</th>\n      <td>pentane</td>\n      <td>72.17</td>\n      <td>4.245294</td>\n      <td>8.1608</td>\n      <td>16.3016</td>\n      <td>9.5684</td>\n      <td>19.4912</td>\n      <td>0.480047</td>\n      <td>0.958918</td>\n      <td>0.562847</td>\n      <td>...</td>\n      <td>0.000000</td>\n      <td>0.000000</td>\n      <td>0</td>\n      <td>5</td>\n      <td>0</td>\n      <td>0</td>\n      <td>0</td>\n      <td>1</td>\n      <td>0</td>\n      <td>alkane</td>\n    </tr>\n    <tr>\n      <th>5</th>\n      <td>propanol</td>\n      <td>60.11</td>\n      <td>5.009167</td>\n      <td>5.8220</td>\n      <td>11.8617</td>\n      <td>6.5001</td>\n      <td>13.8702</td>\n      <td>0.485167</td>\n      <td>0.988475</td>\n      <td>0.541675</td>\n      <td>...</td>\n      <td>0.000000</td>\n      <td>8.333333</td>\n      <td>0</td>\n      <td>3</td>\n      <td>0</td>\n      <td>0</td>\n      <td>0</td>\n      <td>1</td>\n      <td>0</td>\n      <td>alcohol, pungent</td>\n    </tr>\n    <tr>\n      <th>6</th>\n      <td>dimethylsulfide</td>\n      <td>62.15</td>\n      <td>6.905556</td>\n      <td>4.7675</td>\n      <td>8.7272</td>\n      <td>5.9319</td>\n      <td>10.1656</td>\n      <td>0.529722</td>\n      <td>0.969689</td>\n      <td>0.659100</td>\n      <td>...</td>\n      <td>0.000000</td>\n      <td>0.000000</td>\n      <td>0</td>\n      <td>2</td>\n      <td>0</td>\n      <td>0</td>\n      <td>0</td>\n      <td>1</td>\n      <td>0</td>\n      <td>cabbage, sulfur, gasoline</td>\n    </tr>\n    <tr>\n      <th>7</th>\n      <td>ethylformate</td>\n      <td>74.09</td>\n      <td>6.735455</td>\n      <td>6.0100</td>\n      <td>11.3054</td>\n      <td>6.1932</td>\n      <td>12.6644</td>\n      <td>0.546364</td>\n      <td>1.027764</td>\n      <td>0.563018</td>\n      <td>...</td>\n      <td>0.000000</td>\n      <td>18.181818</td>\n      <td>0</td>\n      <td>2</td>\n      <td>1</td>\n      <td>0</td>\n      <td>0</td>\n      <td>1</td>\n      <td>0</td>\n      <td>pungent</td>\n    </tr>\n    <tr>\n      <th>8</th>\n      <td>methylethylketone</td>\n      <td>72.12</td>\n      <td>5.547692</td>\n      <td>6.8220</td>\n      <td>12.8617</td>\n      <td>7.5001</td>\n      <td>14.8702</td>\n      <td>0.524769</td>\n      <td>0.989362</td>\n      <td>0.576931</td>\n      <td>...</td>\n      <td>0.000000</td>\n      <td>7.692308</td>\n      <td>0</td>\n      <td>3</td>\n      <td>1</td>\n      <td>0</td>\n      <td>0</td>\n      <td>1</td>\n      <td>0</td>\n      <td>ether</td>\n    </tr>\n    <tr>\n      <th>9</th>\n      <td>methylethylsulfide</td>\n      <td>76.18</td>\n      <td>6.348333</td>\n      <td>6.2943</td>\n      <td>11.6108</td>\n      <td>7.6933</td>\n      <td>13.5808</td>\n      <td>0.524525</td>\n      <td>0.967567</td>\n      <td>0.641108</td>\n      <td>...</td>\n      <td>0.000000</td>\n      <td>0.000000</td>\n      <td>0</td>\n      <td>3</td>\n      <td>0</td>\n      <td>0</td>\n      <td>0</td>\n      <td>1</td>\n      <td>0</td>\n      <td>sulfur, garlic</td>\n    </tr>\n    <tr>\n      <th>10</th>\n      <td>hexane</td>\n      <td>86.20</td>\n      <td>4.310000</td>\n      <td>9.6876</td>\n      <td>19.1852</td>\n      <td>11.3298</td>\n      <td>22.9064</td>\n      <td>0.484380</td>\n      <td>0.959260</td>\n      <td>0.566490</td>\n      <td>...</td>\n      <td>0.000000</td>\n      <td>0.000000</td>\n      <td>0</td>\n      <td>6</td>\n      <td>0</td>\n      <td>0</td>\n      <td>0</td>\n      <td>1</td>\n      <td>0</td>\n      <td>alkane</td>\n    </tr>\n    <tr>\n      <th>11</th>\n      <td>ethylacetate</td>\n      <td>88.12</td>\n      <td>6.294286</td>\n      <td>7.5368</td>\n      <td>14.1890</td>\n      <td>7.9546</td>\n      <td>16.0796</td>\n      <td>0.538343</td>\n      <td>1.013500</td>\n      <td>0.568186</td>\n      <td>...</td>\n      <td>0.000000</td>\n      <td>14.285714</td>\n      <td>0</td>\n      <td>3</td>\n      <td>1</td>\n      <td>0</td>\n      <td>0</td>\n      <td>1</td>\n      <td>0</td>\n      <td>pineapple</td>\n    </tr>\n    <tr>\n      <th>12</th>\n      <td>methylbutenol</td>\n      <td>86.15</td>\n      <td>5.384375</td>\n      <td>8.3488</td>\n      <td>15.7453</td>\n      <td>9.2615</td>\n      <td>18.2854</td>\n      <td>0.521800</td>\n      <td>0.984081</td>\n      <td>0.578844</td>\n      <td>...</td>\n      <td>0.000000</td>\n      <td>6.250000</td>\n      <td>0</td>\n      <td>3</td>\n      <td>2</td>\n      <td>0</td>\n      <td>0</td>\n      <td>1</td>\n      <td>0</td>\n      <td>herb</td>\n    </tr>\n    <tr>\n      <th>13</th>\n      <td>pentanone</td>\n      <td>86.15</td>\n      <td>5.384375</td>\n      <td>8.3488</td>\n      <td>15.7453</td>\n      <td>9.2615</td>\n      <td>18.2854</td>\n      <td>0.521800</td>\n      <td>0.984081</td>\n      <td>0.578844</td>\n      <td>...</td>\n      <td>0.000000</td>\n      <td>6.250000</td>\n      <td>0</td>\n      <td>4</td>\n      <td>1</td>\n      <td>0</td>\n      <td>0</td>\n      <td>1</td>\n      <td>0</td>\n      <td>ether</td>\n    </tr>\n    <tr>\n      <th>14</th>\n      <td>isobutanol</td>\n      <td>74.14</td>\n      <td>4.942667</td>\n      <td>7.3488</td>\n      <td>14.7453</td>\n      <td>8.2615</td>\n      <td>17.2854</td>\n      <td>0.489920</td>\n      <td>0.983020</td>\n      <td>0.550767</td>\n      <td>...</td>\n      <td>0.000000</td>\n      <td>6.666667</td>\n      <td>0</td>\n      <td>4</td>\n      <td>0</td>\n      <td>0</td>\n      <td>0</td>\n      <td>1</td>\n      <td>0</td>\n      <td>wine, solvent, bitter</td>\n    </tr>\n  </tbody>\n</table>\n<p>15 rows × 50 columns</p>\n</div>"
     },
     "execution_count": 2,
     "metadata": {},
     "output_type": "execute_result"
    }
   ],
   "source": [
    "# Read in the AlvaDesc property dataset\n",
    "df_properties = pd.read_csv(\"flavornet_molecules_properties.txt\", sep=\"\\t\")\n",
    "df_properties.drop(['No.'], axis=1, inplace=True) # Drop numbered column\n",
    "\n",
    "# Read in the RDKit property dataset\n",
    "df = pd.read_csv(\"../Datasets/flavornet_dataset.csv\")\n",
    "df.dropna(inplace=True) # Drop N/A values\n",
    "df.reset_index(drop=True, inplace=True)\n",
    "\n",
    "# Add odor column to AlvaDesc properties dataframe\n",
    "df_properties['Odor'] = df['Odor']\n",
    "\"\"\"\n",
    "Code to create .smiles file which AlvaDesc uses to generate molecular properties\n",
    "\n",
    "df = df[['Odorant', 'SMILES representation']]\n",
    "df.to_csv(\"molecules.smiles\",\"\\t\",index=False, header=False, columns=['SMILES representation','Odorant'])\n",
    "\"\"\"\n",
    "\n",
    "df_properties.head(15)"
   ],
   "metadata": {
    "collapsed": false,
    "pycharm": {
     "name": "#%%\n"
    }
   }
  },
  {
   "cell_type": "code",
   "execution_count": 3,
   "outputs": [],
   "source": [
    "odors_series = df_properties['Odor']\n",
    "odors_series = odors_series.str.split(\",\")\n",
    "\n",
    "for index in odors_series.index:\n",
    "    # Clean up the odor names for each molecule\n",
    "    odors_series[index] = [odor.strip().strip(',').lower() for odor in odors_series[index]]"
   ],
   "metadata": {
    "collapsed": false,
    "pycharm": {
     "name": "#%%\n"
    }
   }
  },
  {
   "cell_type": "code",
   "execution_count": 4,
   "outputs": [],
   "source": [
    "all_odors = [] # List of all the odors present in the dataset\n",
    "def get_labels_counts(array):\n",
    "    for label in array:\n",
    "        if label not in all_odors:\n",
    "            all_odors.append(label)\n",
    "\n",
    "odors_series.apply(get_labels_counts)\n",
    "\n",
    "mlb = MultiLabelBinarizer() # Encoding the labels as boolean arrays\n",
    "encoding = mlb.fit_transform(odors_series.tolist())\n",
    "classes = mlb.classes_"
   ],
   "metadata": {
    "collapsed": false,
    "pycharm": {
     "name": "#%%\n"
    }
   }
  },
  {
   "cell_type": "code",
   "execution_count": 5,
   "outputs": [],
   "source": [
    "# Need to add it to the data frame because we shuffle before splitting\n",
    "encoding_df = pd.DataFrame(encoding, columns=classes)\n",
    "encoding_df.reset_index(drop=True, inplace=True)\n",
    "final_df = pd.concat([df_properties, encoding_df], axis=1) # Adding the matrix as columns to the data frame\n",
    "\n",
    "# final_df is now the data frame to apply algorithms on"
   ],
   "metadata": {
    "collapsed": false,
    "pycharm": {
     "name": "#%%\n"
    }
   }
  },
  {
   "cell_type": "code",
   "execution_count": 6,
   "outputs": [],
   "source": [
    "labels_to_drop = all_odors.copy()\n",
    "labels_to_drop += ['NAME', 'Odor'] # List of labels to drop for x_train and x_test\n",
    "\n",
    "#odors_to_keep = [odor for odor in odor_counts if odor_counts[odor] > 1] # Only keep odors that appear more than once\n",
    "\n",
    "x = final_df.drop(labels=labels_to_drop, axis=1)\n",
    "y = final_df.loc[:, all_odors]\n",
    "\n",
    "x_train, x_test, y_train, y_test = train_test_split(x, y, test_size=0.33, random_state=42)"
   ],
   "metadata": {
    "collapsed": false,
    "pycharm": {
     "name": "#%%\n"
    }
   }
  },
  {
   "cell_type": "code",
   "execution_count": 11,
   "outputs": [
    {
     "name": "stdout",
     "output_type": "stream",
     "text": [
      "Epoch 1/25\n",
      "1/1 [==============================] - 0s 101ms/step - loss: 2.2560 - accuracy: 0.0000e+00\b\b\b\b\b\b\b\b\b\b\b\b\b\b\b\b\b\b\b\b\b\b\b\b\b\b\b\b\b\b\b\b\b\b\b\b\b\b\b\b\b\b\b\b\b\b\b\b\b\b\b\b\b\b\b\b\b\b\b\b\b\b\b\b\b\b\b\b\b\b\b\b\b\b\b\b\b\b\n",
      "Epoch 2/25\n",
      "1/1 [==============================] - 0s 2ms/step - loss: 1.6211 - accuracy: 0.0000e+00\b\b\b\b\b\b\b\b\b\b\b\b\b\b\b\b\b\b\b\b\b\b\b\b\b\b\b\b\b\b\b\b\b\b\b\b\b\b\b\b\b\b\b\b\b\b\b\b\b\b\b\b\b\b\b\b\b\b\b\b\b\b\b\b\b\b\b\b\b\b\b\b\b\b\b\b\b\b\b\b\n",
      "Epoch 3/25\n",
      "1/1 [==============================] - 0s 2ms/step - loss: 1.2905 - accuracy: 0.0000e+00\b\b\b\b\b\b\b\b\b\b\b\b\b\b\b\b\b\b\b\b\b\b\b\b\b\b\b\b\b\b\b\b\b\b\b\b\b\b\b\b\b\b\b\b\b\b\b\b\b\b\b\b\b\b\b\b\b\b\b\b\b\b\b\b\b\b\b\b\b\b\b\b\b\b\b\b\b\b\b\b\n",
      "Epoch 4/25\n",
      "1/1 [==============================] - 0s 3ms/step - loss: 1.0922 - accuracy: 0.0000e+00\b\b\b\b\b\b\b\b\b\b\b\b\b\b\b\b\b\b\b\b\b\b\b\b\b\b\b\b\b\b\b\b\b\b\b\b\b\b\b\b\b\b\b\b\b\b\b\b\b\b\b\b\b\b\b\b\b\b\b\b\b\b\b\b\b\b\b\b\b\b\b\b\b\b\b\b\b\b\b\b\n",
      "Epoch 5/25\n",
      "1/1 [==============================] - 0s 1ms/step - loss: 0.9629 - accuracy: 0.0000e+00\b\b\b\b\b\b\b\b\b\b\b\b\b\b\b\b\b\b\b\b\b\b\b\b\b\b\b\b\b\b\b\b\b\b\b\b\b\b\b\b\b\b\b\b\b\b\b\b\b\b\b\b\b\b\b\b\b\b\b\b\b\b\b\b\b\b\b\b\b\b\b\b\b\b\b\b\b\b\b\b\n",
      "Epoch 6/25\n",
      "1/1 [==============================] - 0s 4ms/step - loss: 0.8758 - accuracy: 0.0000e+00\b\b\b\b\b\b\b\b\b\b\b\b\b\b\b\b\b\b\b\b\b\b\b\b\b\b\b\b\b\b\b\b\b\b\b\b\b\b\b\b\b\b\b\b\b\b\b\b\b\b\b\b\b\b\b\b\b\b\b\b\b\b\b\b\b\b\b\b\b\b\b\b\b\b\b\b\b\b\b\b\n",
      "Epoch 7/25\n",
      "1/1 [==============================] - 0s 2ms/step - loss: 0.8164 - accuracy: 0.0000e+00\b\b\b\b\b\b\b\b\b\b\b\b\b\b\b\b\b\b\b\b\b\b\b\b\b\b\b\b\b\b\b\b\b\b\b\b\b\b\b\b\b\b\b\b\b\b\b\b\b\b\b\b\b\b\b\b\b\b\b\b\b\b\b\b\b\b\b\b\b\b\b\b\b\b\b\b\b\b\b\b\n",
      "Epoch 8/25\n",
      "1/1 [==============================] - 0s 4ms/step - loss: 0.7750 - accuracy: 0.0000e+00\b\b\b\b\b\b\b\b\b\b\b\b\b\b\b\b\b\b\b\b\b\b\b\b\b\b\b\b\b\b\b\b\b\b\b\b\b\b\b\b\b\b\b\b\b\b\b\b\b\b\b\b\b\b\b\b\b\b\b\b\b\b\b\b\b\b\b\b\b\b\b\b\b\b\b\b\b\b\b\b\n",
      "Epoch 9/25\n",
      "1/1 [==============================] - 0s 2ms/step - loss: 0.7452 - accuracy: 0.0000e+00\b\b\b\b\b\b\b\b\b\b\b\b\b\b\b\b\b\b\b\b\b\b\b\b\b\b\b\b\b\b\b\b\b\b\b\b\b\b\b\b\b\b\b\b\b\b\b\b\b\b\b\b\b\b\b\b\b\b\b\b\b\b\b\b\b\b\b\b\b\b\b\b\b\b\b\b\b\b\b\b\n",
      "Epoch 10/25\n",
      "1/1 [==============================] - 0s 2ms/step - loss: 0.7228 - accuracy: 0.0000e+00\b\b\b\b\b\b\b\b\b\b\b\b\b\b\b\b\b\b\b\b\b\b\b\b\b\b\b\b\b\b\b\b\b\b\b\b\b\b\b\b\b\b\b\b\b\b\b\b\b\b\b\b\b\b\b\b\b\b\b\b\b\b\b\b\b\b\b\b\b\b\b\b\b\b\b\b\b\b\b\b\n",
      "Epoch 11/25\n",
      "1/1 [==============================] - 0s 5ms/step - loss: 0.7054 - accuracy: 0.0000e+00\b\b\b\b\b\b\b\b\b\b\b\b\b\b\b\b\b\b\b\b\b\b\b\b\b\b\b\b\b\b\b\b\b\b\b\b\b\b\b\b\b\b\b\b\b\b\b\b\b\b\b\b\b\b\b\b\b\b\b\b\b\b\b\b\b\b\b\b\b\b\b\b\b\b\b\b\b\b\b\b\n",
      "Epoch 12/25\n",
      "1/1 [==============================] - 0s 2ms/step - loss: 0.6916 - accuracy: 0.0000e+00\b\b\b\b\b\b\b\b\b\b\b\b\b\b\b\b\b\b\b\b\b\b\b\b\b\b\b\b\b\b\b\b\b\b\b\b\b\b\b\b\b\b\b\b\b\b\b\b\b\b\b\b\b\b\b\b\b\b\b\b\b\b\b\b\b\b\b\b\b\b\b\b\b\b\b\b\b\b\b\b\n",
      "Epoch 13/25\n",
      "1/1 [==============================] - 0s 2ms/step - loss: 0.6806 - accuracy: 0.0000e+00\b\b\b\b\b\b\b\b\b\b\b\b\b\b\b\b\b\b\b\b\b\b\b\b\b\b\b\b\b\b\b\b\b\b\b\b\b\b\b\b\b\b\b\b\b\b\b\b\b\b\b\b\b\b\b\b\b\b\b\b\b\b\b\b\b\b\b\b\b\b\b\b\b\b\b\b\b\b\b\b\n",
      "Epoch 14/25\n",
      "1/1 [==============================] - 0s 3ms/step - loss: 0.6715 - accuracy: 0.0000e+00\b\b\b\b\b\b\b\b\b\b\b\b\b\b\b\b\b\b\b\b\b\b\b\b\b\b\b\b\b\b\b\b\b\b\b\b\b\b\b\b\b\b\b\b\b\b\b\b\b\b\b\b\b\b\b\b\b\b\b\b\b\b\b\b\b\b\b\b\b\b\b\b\b\b\b\b\b\b\b\b\n",
      "Epoch 15/25\n",
      "1/1 [==============================] - 0s 4ms/step - loss: 0.6639 - accuracy: 0.0000e+00\b\b\b\b\b\b\b\b\b\b\b\b\b\b\b\b\b\b\b\b\b\b\b\b\b\b\b\b\b\b\b\b\b\b\b\b\b\b\b\b\b\b\b\b\b\b\b\b\b\b\b\b\b\b\b\b\b\b\b\b\b\b\b\b\b\b\b\b\b\b\b\b\b\b\b\b\b\b\b\b\n",
      "Epoch 16/25\n",
      "1/1 [==============================] - 0s 5ms/step - loss: 0.6574 - accuracy: 0.0000e+00\b\b\b\b\b\b\b\b\b\b\b\b\b\b\b\b\b\b\b\b\b\b\b\b\b\b\b\b\b\b\b\b\b\b\b\b\b\b\b\b\b\b\b\b\b\b\b\b\b\b\b\b\b\b\b\b\b\b\b\b\b\b\b\b\b\b\b\b\b\b\b\b\b\b\b\b\b\b\b\b\n",
      "Epoch 17/25\n",
      "1/1 [==============================] - 0s 3ms/step - loss: 0.6519 - accuracy: 0.0000e+00\b\b\b\b\b\b\b\b\b\b\b\b\b\b\b\b\b\b\b\b\b\b\b\b\b\b\b\b\b\b\b\b\b\b\b\b\b\b\b\b\b\b\b\b\b\b\b\b\b\b\b\b\b\b\b\b\b\b\b\b\b\b\b\b\b\b\b\b\b\b\b\b\b\b\b\b\b\b\b\b\n",
      "Epoch 18/25\n",
      "1/1 [==============================] - 0s 2ms/step - loss: 0.6470 - accuracy: 0.0000e+00\b\b\b\b\b\b\b\b\b\b\b\b\b\b\b\b\b\b\b\b\b\b\b\b\b\b\b\b\b\b\b\b\b\b\b\b\b\b\b\b\b\b\b\b\b\b\b\b\b\b\b\b\b\b\b\b\b\b\b\b\b\b\b\b\b\b\b\b\b\b\b\b\b\b\b\b\b\b\b\b\n",
      "Epoch 19/25\n",
      "1/1 [==============================] - 0s 3ms/step - loss: 0.6427 - accuracy: 0.0000e+00\b\b\b\b\b\b\b\b\b\b\b\b\b\b\b\b\b\b\b\b\b\b\b\b\b\b\b\b\b\b\b\b\b\b\b\b\b\b\b\b\b\b\b\b\b\b\b\b\b\b\b\b\b\b\b\b\b\b\b\b\b\b\b\b\b\b\b\b\b\b\b\b\b\b\b\b\b\b\b\b\n",
      "Epoch 20/25\n",
      "1/1 [==============================] - 0s 7ms/step - loss: 0.6388 - accuracy: 0.0000e+00\b\b\b\b\b\b\b\b\b\b\b\b\b\b\b\b\b\b\b\b\b\b\b\b\b\b\b\b\b\b\b\b\b\b\b\b\b\b\b\b\b\b\b\b\b\b\b\b\b\b\b\b\b\b\b\b\b\b\b\b\b\b\b\b\b\b\b\b\b\b\b\b\b\b\b\b\b\b\b\b\n",
      "Epoch 21/25\n",
      "1/1 [==============================] - 0s 5ms/step - loss: 0.6353 - accuracy: 0.0000e+00\b\b\b\b\b\b\b\b\b\b\b\b\b\b\b\b\b\b\b\b\b\b\b\b\b\b\b\b\b\b\b\b\b\b\b\b\b\b\b\b\b\b\b\b\b\b\b\b\b\b\b\b\b\b\b\b\b\b\b\b\b\b\b\b\b\b\b\b\b\b\b\b\b\b\b\b\b\b\b\b\n",
      "Epoch 22/25\n",
      "1/1 [==============================] - 0s 17ms/step - loss: 0.6321 - accuracy: 0.0000e+00\b\b\b\b\b\b\b\b\b\b\b\b\b\b\b\b\b\b\b\b\b\b\b\b\b\b\b\b\b\b\b\b\b\b\b\b\b\b\b\b\b\b\b\b\b\b\b\b\b\b\b\b\b\b\b\b\b\b\b\b\b\b\b\b\b\b\b\b\b\b\b\b\b\b\b\b\b\b\b\n",
      "Epoch 23/25\n",
      "1/1 [==============================] - 0s 24ms/step - loss: 0.6290 - accuracy: 0.0000e+00\b\b\b\b\b\b\b\b\b\b\b\b\b\b\b\b\b\b\b\b\b\b\b\b\b\b\b\b\b\b\b\b\b\b\b\b\b\b\b\b\b\b\b\b\b\b\b\b\b\b\b\b\b\b\b\b\b\b\b\b\b\b\b\b\b\b\b\b\b\b\b\b\b\b\b\b\b\b\b\n",
      "Epoch 24/25\n",
      "1/1 [==============================] - 0s 5ms/step - loss: 0.6262 - accuracy: 0.0000e+00\b\b\b\b\b\b\b\b\b\b\b\b\b\b\b\b\b\b\b\b\b\b\b\b\b\b\b\b\b\b\b\b\b\b\b\b\b\b\b\b\b\b\b\b\b\b\b\b\b\b\b\b\b\b\b\b\b\b\b\b\b\b\b\b\b\b\b\b\b\b\b\b\b\b\b\b\b\b\b\b\n",
      "Epoch 25/25\n",
      "1/1 [==============================] - 0s 4ms/step - loss: 0.6235 - accuracy: 0.0000e+00\b\b\b\b\b\b\b\b\b\b\b\b\b\b\b\b\b\b\b\b\b\b\b\b\b\b\b\b\b\b\b\b\b\b\b\b\b\b\b\b\b\b\b\b\b\b\b\b\b\b\b\b\b\b\b\b\b\b\b\b\b\b\b\b\b\b\b\b\b\b\b\b\b\b\b\b\b\b\b\b\n",
      "Hamming loss =  0.34701436130007557\n",
      "Precision score =  0.008643422209200117\n",
      "Recall score =  0.33053221288515405\n"
     ]
    }
   ],
   "source": [
    "# Apply neural network model #\n",
    "\n",
    "model = Sequential()\n",
    "model.add(Dense(75, activation='relu', input_dim=x_train.shape[1]))\n",
    "model.add(Dense(100, activation='relu'))\n",
    "model.add(Dense(80, activation='relu'))\n",
    "model.add(Dense(y_train.shape[1], activation='sigmoid'))\n",
    "model.compile(loss='binary_crossentropy', optimizer='sgd', metrics=['accuracy'])\n",
    "\n",
    "model.fit(x_train, y_train,epochs=25, batch_size=500)\n",
    "\n",
    "preds = model.predict(x_test) # Predictions\n",
    "preds[preds>=0.5] = 1\n",
    "preds[preds<0.5] = 0\n",
    "\n",
    "print(\"Hamming loss = \", hamming_loss(y_test, preds))\n",
    "print(\"Precision score = \", precision_score(y_test, preds, average='micro'))\n",
    "print(\"Recall score = \", recall_score(y_test, preds, average='micro'))"
   ],
   "metadata": {
    "collapsed": false,
    "pycharm": {
     "name": "#%%\n"
    }
   }
  },
  {
   "cell_type": "code",
   "execution_count": null,
   "outputs": [],
   "source": [
    "\n"
   ],
   "metadata": {
    "collapsed": false,
    "pycharm": {
     "name": "#%%\n"
    }
   }
  }
 ],
 "metadata": {
  "kernelspec": {
   "display_name": "Python 3",
   "language": "python",
   "name": "python3"
  },
  "language_info": {
   "codemirror_mode": {
    "name": "ipython",
    "version": 2
   },
   "file_extension": ".py",
   "mimetype": "text/x-python",
   "name": "python",
   "nbconvert_exporter": "python",
   "pygments_lexer": "ipython2",
   "version": "2.7.6"
  }
 },
 "nbformat": 4,
 "nbformat_minor": 0
}